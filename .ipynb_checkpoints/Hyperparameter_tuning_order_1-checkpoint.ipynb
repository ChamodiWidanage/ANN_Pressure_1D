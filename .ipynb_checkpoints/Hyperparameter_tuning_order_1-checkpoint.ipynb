{
 "cells": [
  {
   "cell_type": "markdown",
   "metadata": {
    "colab_type": "text",
    "id": "3cbb7fRy-eyr"
   },
   "source": [
    "# Artificial Neural Network"
   ]
  },
  {
   "cell_type": "markdown",
   "metadata": {
    "colab_type": "text",
    "id": "8sNDnxE2-pwE"
   },
   "source": [
    "### Importing the libraries"
   ]
  },
  {
   "cell_type": "code",
   "execution_count": 1,
   "metadata": {
    "colab": {},
    "colab_type": "code",
    "id": "lxChR1Rk-umf"
   },
   "outputs": [],
   "source": [
    "import numpy as np\n",
    "import pandas as pd\n",
    "import tensorflow as tf\n"
   ]
  },
  {
   "cell_type": "code",
   "execution_count": 2,
   "metadata": {
    "colab": {
     "base_uri": "https://localhost:8080/",
     "height": 34
    },
    "colab_type": "code",
    "id": "uBTqR3nacj0e",
    "outputId": "4c0bd183-e424-429a-9fba-ceb841c06888"
   },
   "outputs": [
    {
     "data": {
      "text/plain": [
       "'2.9.1'"
      ]
     },
     "execution_count": 2,
     "metadata": {},
     "output_type": "execute_result"
    }
   ],
   "source": [
    "tf.__version__"
   ]
  },
  {
   "cell_type": "markdown",
   "metadata": {
    "colab_type": "text",
    "id": "AG3FQEch-yuA"
   },
   "source": [
    "## Part 1 - Data Preprocessing"
   ]
  },
  {
   "cell_type": "markdown",
   "metadata": {
    "colab_type": "text",
    "id": "-4zq8Mza_D9O"
   },
   "source": [
    "### Importing the dataset"
   ]
  },
  {
   "cell_type": "code",
   "execution_count": 2,
   "metadata": {
    "colab": {},
    "colab_type": "code",
    "id": "B9CV13Co_HHM"
   },
   "outputs": [
    {
     "name": "stdout",
     "output_type": "stream",
     "text": [
      "<class 'pandas.core.frame.DataFrame'>\n",
      "RangeIndex: 546 entries, 0 to 545\n",
      "Data columns (total 4 columns):\n",
      " #   Column             Non-Null Count  Dtype  \n",
      "---  ------             --------------  -----  \n",
      " 0   Charge_type        546 non-null    object \n",
      " 1   Charge_size        546 non-null    float64\n",
      " 2   Standoff_distance  546 non-null    float64\n",
      " 3   Incident_pressure  546 non-null    float64\n",
      "dtypes: float64(3), object(1)\n",
      "memory usage: 17.2+ KB\n"
     ]
    }
   ],
   "source": [
    "dataset = pd.read_excel('Dataset3.xlsx')\n",
    "dataset.info()\n",
    "\n",
    "#X=X.to_list()\n",
    "\n",
    "#y=y.to_list()"
   ]
  },
  {
   "cell_type": "code",
   "execution_count": 3,
   "metadata": {},
   "outputs": [
    {
     "name": "stdout",
     "output_type": "stream",
     "text": [
      "<class 'pandas.core.frame.DataFrame'>\n",
      "RangeIndex: 546 entries, 0 to 545\n",
      "Data columns (total 5 columns):\n",
      " #   Column             Non-Null Count  Dtype  \n",
      "---  ------             --------------  -----  \n",
      " 0   Charge_size        546 non-null    float64\n",
      " 1   Standoff_distance  546 non-null    float64\n",
      " 2   Incident_pressure  546 non-null    float64\n",
      " 3   Charge_type_CompB  546 non-null    uint8  \n",
      " 4   Charge_type_TNT    546 non-null    uint8  \n",
      "dtypes: float64(3), uint8(2)\n",
      "memory usage: 14.0 KB\n"
     ]
    }
   ],
   "source": [
    "# convert categorical variable into dummy variables\n",
    "dataset = pd.get_dummies(dataset, columns=['Charge_type'])\n",
    "dataset.info()"
   ]
  },
  {
   "cell_type": "code",
   "execution_count": 4,
   "metadata": {},
   "outputs": [
    {
     "data": {
      "text/html": [
       "<div>\n",
       "<style scoped>\n",
       "    .dataframe tbody tr th:only-of-type {\n",
       "        vertical-align: middle;\n",
       "    }\n",
       "\n",
       "    .dataframe tbody tr th {\n",
       "        vertical-align: top;\n",
       "    }\n",
       "\n",
       "    .dataframe thead th {\n",
       "        text-align: right;\n",
       "    }\n",
       "</style>\n",
       "<table border=\"1\" class=\"dataframe\">\n",
       "  <thead>\n",
       "    <tr style=\"text-align: right;\">\n",
       "      <th></th>\n",
       "      <th>Charge_size</th>\n",
       "      <th>Standoff_distance</th>\n",
       "      <th>Incident_pressure</th>\n",
       "      <th>Charge_type_CompB</th>\n",
       "      <th>Charge_type_TNT</th>\n",
       "    </tr>\n",
       "  </thead>\n",
       "  <tbody>\n",
       "    <tr>\n",
       "      <th>0</th>\n",
       "      <td>0.5</td>\n",
       "      <td>1.5</td>\n",
       "      <td>283.258</td>\n",
       "      <td>0</td>\n",
       "      <td>1</td>\n",
       "    </tr>\n",
       "    <tr>\n",
       "      <th>1</th>\n",
       "      <td>0.5</td>\n",
       "      <td>2.5</td>\n",
       "      <td>163.904</td>\n",
       "      <td>0</td>\n",
       "      <td>1</td>\n",
       "    </tr>\n",
       "    <tr>\n",
       "      <th>2</th>\n",
       "      <td>0.5</td>\n",
       "      <td>3.5</td>\n",
       "      <td>135.678</td>\n",
       "      <td>0</td>\n",
       "      <td>1</td>\n",
       "    </tr>\n",
       "    <tr>\n",
       "      <th>3</th>\n",
       "      <td>0.5</td>\n",
       "      <td>4.5</td>\n",
       "      <td>124.039</td>\n",
       "      <td>0</td>\n",
       "      <td>1</td>\n",
       "    </tr>\n",
       "    <tr>\n",
       "      <th>4</th>\n",
       "      <td>0.5</td>\n",
       "      <td>5.5</td>\n",
       "      <td>117.856</td>\n",
       "      <td>0</td>\n",
       "      <td>1</td>\n",
       "    </tr>\n",
       "  </tbody>\n",
       "</table>\n",
       "</div>"
      ],
      "text/plain": [
       "   Charge_size  Standoff_distance  Incident_pressure  Charge_type_CompB  \\\n",
       "0          0.5                1.5            283.258                  0   \n",
       "1          0.5                2.5            163.904                  0   \n",
       "2          0.5                3.5            135.678                  0   \n",
       "3          0.5                4.5            124.039                  0   \n",
       "4          0.5                5.5            117.856                  0   \n",
       "\n",
       "   Charge_type_TNT  \n",
       "0                1  \n",
       "1                1  \n",
       "2                1  \n",
       "3                1  \n",
       "4                1  "
      ]
     },
     "execution_count": 4,
     "metadata": {},
     "output_type": "execute_result"
    }
   ],
   "source": [
    "dataset.head()"
   ]
  },
  {
   "cell_type": "code",
   "execution_count": 5,
   "metadata": {},
   "outputs": [
    {
     "name": "stdout",
     "output_type": "stream",
     "text": [
      "(546, 4) (546,)\n"
     ]
    }
   ],
   "source": [
    "y = dataset['Incident_pressure']\n",
    "X = dataset.drop('Incident_pressure', axis=1)\n",
    "print(X.shape, y.shape)"
   ]
  },
  {
   "cell_type": "code",
   "execution_count": 6,
   "metadata": {},
   "outputs": [],
   "source": [
    "# convert to numpy array\n",
    "X = np.array(X)\n",
    "y = np.array(y)"
   ]
  },
  {
   "cell_type": "markdown",
   "metadata": {
    "jp-MarkdownHeadingCollapsed": true,
    "tags": []
   },
   "source": [
    "### Alternative X and y spliting"
   ]
  },
  {
   "cell_type": "code",
   "execution_count": null,
   "metadata": {},
   "outputs": [],
   "source": [
    "X = dataset.iloc[:, :-1].values\n",
    "y = dataset.iloc[:, -1].values"
   ]
  },
  {
   "cell_type": "markdown",
   "metadata": {
    "jp-MarkdownHeadingCollapsed": true,
    "tags": []
   },
   "source": [
    "### Encoding categorical data\n",
    "### Encoding the Independent Variable"
   ]
  },
  {
   "cell_type": "code",
   "execution_count": 4,
   "metadata": {},
   "outputs": [],
   "source": [
    "from sklearn.compose import ColumnTransformer\n",
    "from sklearn.preprocessing import OneHotEncoder\n",
    "ct = ColumnTransformer(transformers=[('encoder', OneHotEncoder(), [0])],\n",
    "                       remainder='passthrough')\n",
    "X = np.array(ct.fit_transform(X))"
   ]
  },
  {
   "cell_type": "markdown",
   "metadata": {
    "colab_type": "text",
    "id": "VC6omXel_Up0"
   },
   "source": [
    "### Splitting the dataset into the Training set and Test set"
   ]
  },
  {
   "cell_type": "code",
   "execution_count": 7,
   "metadata": {
    "colab": {},
    "colab_type": "code",
    "id": "L5edeb2r_agx"
   },
   "outputs": [],
   "source": [
    "from sklearn.model_selection import train_test_split\n",
    "X_train, X_test, y_train, y_test = train_test_split(X, y, test_size = 0.2, random_state = 0)\n",
    "\n",
    "#X_train=np.asarray(X_train).astype(np.int)\n",
    "\n",
    "#y_train=np.asarray(y_train).astype(np.int)"
   ]
  },
  {
   "cell_type": "code",
   "execution_count": null,
   "metadata": {},
   "outputs": [],
   "source": [
    "def make_regression_ann(Optimizer_trial):\n",
    "    from keras.models import Sequential\n",
    "    from keras.layers import Dense\n",
    "    \n",
    "    model = Sequential()\n",
    "    model.add(Dense(units=5, input_dim=7, kernel_initializer='normal', activation='relu'))\n",
    "    model.add(Dense(units=5, kernel_initializer='normal', activation='relu'))\n",
    "    model.add(Dense(1, kernel_initializer='normal'))\n",
    "    model.compile(loss='mean_squared_error', optimizer=Optimizer_trial)\n",
    "    return model"
   ]
  },
  {
   "cell_type": "code",
   "execution_count": null,
   "metadata": {},
   "outputs": [],
   "source": [
    "from sklearn.model_selection import GridSearchCV\n",
    "from keras.wrappers.scikit_learn import KerasRegressor\n",
    " \n",
    "# Listing all the parameters to try\n",
    "Parameter_Trials={'batch_size':[10,20,30],\n",
    "                      'epochs':[10,20],\n",
    "                    'Optimizer_trial':['adam', 'rmsprop']\n",
    "                 }\n",
    " \n",
    "# Creating the regression ANN model\n",
    "RegModel=KerasRegressor(make_regression_ann, verbose=0)\n",
    " \n",
    "###########################################\n",
    "from sklearn.metrics import make_scorer\n",
    " \n",
    "# Defining a custom function to calculate accuracy\n",
    "def Accuracy_Score(orig,pred):\n",
    "    MAPE = np.mean(100 * (np.abs(orig-pred)/orig))\n",
    "    print('#'*70,'Accuracy:', 100-MAPE)\n",
    "    return(100-MAPE)\n",
    " \n",
    "custom_Scoring=make_scorer(Accuracy_Score, greater_is_better=True)\n",
    " \n",
    "#########################################\n",
    "# Creating the Grid search space\n",
    "# See different scoring methods by using sklearn.metrics.SCORERS.keys()\n",
    "grid_search=GridSearchCV(estimator=RegModel, \n",
    "                         param_grid=Parameter_Trials, \n",
    "                         scoring=custom_Scoring, \n",
    "                         cv=5)\n",
    " \n",
    "#########################################\n",
    "# Measuring how much time it took to find the best params\n",
    "import time\n",
    "StartTime=time.time()\n",
    " \n",
    "# Running Grid Search for different paramenters\n",
    "grid_search.fit(X,y, verbose=1)\n",
    " \n",
    "EndTime=time.time()\n",
    "print(\"########## Total Time Taken: \", round((EndTime-StartTime)/60), 'Minutes')\n",
    " \n",
    "print('### Printing Best parameters ###')\n",
    "grid_search.best_params_"
   ]
  },
  {
   "cell_type": "markdown",
   "metadata": {
    "colab_type": "text",
    "id": "_mSLlAT9_eyI"
   },
   "source": [
    "## Part 2 - Building the ANN"
   ]
  },
  {
   "cell_type": "markdown",
   "metadata": {
    "colab_type": "text",
    "id": "CsBULd_f_wLY"
   },
   "source": [
    "### Initializing the ANN"
   ]
  },
  {
   "cell_type": "code",
   "execution_count": 8,
   "metadata": {
    "colab": {},
    "colab_type": "code",
    "id": "J6Hd97Ls__Nz"
   },
   "outputs": [],
   "source": [
    "ann = tf.keras.models.Sequential()"
   ]
  },
  {
   "cell_type": "markdown",
   "metadata": {
    "colab_type": "text",
    "id": "iitAFJS_ABUn"
   },
   "source": [
    "### Adding the input layer and the first hidden layer"
   ]
  },
  {
   "cell_type": "code",
   "execution_count": 9,
   "metadata": {
    "colab": {},
    "colab_type": "code",
    "id": "ksO_Vv40AHix"
   },
   "outputs": [],
   "source": [
    "ann.add(tf.keras.layers.Dense(units=200, input_shape=(X_train.shape[1],), activation='relu'))"
   ]
  },
  {
   "cell_type": "markdown",
   "metadata": {
    "colab_type": "text",
    "id": "-lb4kK_wAKbs"
   },
   "source": [
    "### Adding the second hidden layer"
   ]
  },
  {
   "cell_type": "code",
   "execution_count": 10,
   "metadata": {
    "colab": {},
    "colab_type": "code",
    "id": "c2357OqEAQOQ",
    "tags": []
   },
   "outputs": [],
   "source": [
    "ann.add(tf.keras.layers.Dense(units=100, activation='relu'))"
   ]
  },
  {
   "cell_type": "markdown",
   "metadata": {
    "colab_type": "text",
    "id": "-lb4kK_wAKbs"
   },
   "source": [
    "### Adding the third hidden layer"
   ]
  },
  {
   "cell_type": "code",
   "execution_count": 11,
   "metadata": {
    "colab": {},
    "colab_type": "code",
    "id": "c2357OqEAQOQ",
    "tags": []
   },
   "outputs": [],
   "source": [
    "ann.add(tf.keras.layers.Dense(units=50, activation='relu'))"
   ]
  },
  {
   "cell_type": "markdown",
   "metadata": {
    "colab_type": "text",
    "id": "jwMOmKb3AdBY"
   },
   "source": [
    "### Adding the output layer"
   ]
  },
  {
   "cell_type": "code",
   "execution_count": 12,
   "metadata": {
    "colab": {},
    "colab_type": "code",
    "id": "YFATpzsUAkLL"
   },
   "outputs": [],
   "source": [
    "ann.add(tf.keras.layers.Dense(units=1, activation='linear'))"
   ]
  },
  {
   "cell_type": "markdown",
   "metadata": {},
   "source": [
    "### what model looks like"
   ]
  },
  {
   "cell_type": "code",
   "execution_count": 13,
   "metadata": {},
   "outputs": [
    {
     "name": "stdout",
     "output_type": "stream",
     "text": [
      "Model: \"sequential\"\n",
      "_________________________________________________________________\n",
      " Layer (type)                Output Shape              Param #   \n",
      "=================================================================\n",
      " dense (Dense)               (None, 200)               1000      \n",
      "                                                                 \n",
      " dense_1 (Dense)             (None, 100)               20100     \n",
      "                                                                 \n",
      " dense_2 (Dense)             (None, 50)                5050      \n",
      "                                                                 \n",
      " dense_3 (Dense)             (None, 1)                 51        \n",
      "                                                                 \n",
      "=================================================================\n",
      "Total params: 26,201\n",
      "Trainable params: 26,201\n",
      "Non-trainable params: 0\n",
      "_________________________________________________________________\n"
     ]
    }
   ],
   "source": [
    "ann.summary()"
   ]
  },
  {
   "cell_type": "markdown",
   "metadata": {
    "colab_type": "text",
    "id": "fq7e4fF6A1yy"
   },
   "source": [
    "## Part 3 - Training the ANN"
   ]
  },
  {
   "cell_type": "markdown",
   "metadata": {
    "colab_type": "text",
    "id": "qDeylAs2An25"
   },
   "source": [
    "### Compiling the ANN"
   ]
  },
  {
   "cell_type": "code",
   "execution_count": 14,
   "metadata": {
    "colab": {},
    "colab_type": "code",
    "id": "pesgbWlCAtB4"
   },
   "outputs": [],
   "source": [
    "ann.compile(optimizer = 'adam', loss = 'mean_squared_error', metrics = ['mae'])"
   ]
  },
  {
   "cell_type": "markdown",
   "metadata": {},
   "source": [
    "### early stopping callback"
   ]
  },
  {
   "cell_type": "code",
   "execution_count": 15,
   "metadata": {},
   "outputs": [],
   "source": [
    "# protects from unnecessary further training of the model if a particular metric does not continue to improve over a number of n epochs. In such a case, the model training would be automatically aborted.\n",
    "from keras.callbacks import EarlyStopping\n",
    "es = EarlyStopping(monitor='val_loss',\n",
    "                   mode='min',\n",
    "                   patience=50,\n",
    "                   restore_best_weights = True)"
   ]
  },
  {
   "cell_type": "markdown",
   "metadata": {
    "colab_type": "text",
    "id": "YjVuiybYOo7r"
   },
   "source": [
    "### Training the ANN model on the Training set"
   ]
  },
  {
   "cell_type": "code",
   "execution_count": 16,
   "metadata": {
    "colab": {
     "base_uri": "https://localhost:8080/",
     "height": 1000
    },
    "colab_type": "code",
    "id": "c_vV-tiiA5zn",
    "outputId": "4a2b6ee6-ed75-4698-9069-b250e613803f"
   },
   "outputs": [
    {
     "name": "stdout",
     "output_type": "stream",
     "text": [
      "Epoch 1/500\n",
      "9/9 [==============================] - 1s 25ms/step - loss: 1252820.0000 - mae: 422.7809 - val_loss: 538374.7500 - val_mae: 296.0844\n",
      "Epoch 2/500\n",
      "9/9 [==============================] - 0s 8ms/step - loss: 1244799.2500 - mae: 411.6830 - val_loss: 530119.6250 - val_mae: 279.6127\n",
      "Epoch 3/500\n",
      "9/9 [==============================] - 0s 7ms/step - loss: 1229303.6250 - mae: 388.9014 - val_loss: 515238.7188 - val_mae: 245.8857\n",
      "Epoch 4/500\n",
      "9/9 [==============================] - 0s 8ms/step - loss: 1202133.1250 - mae: 348.7765 - val_loss: 493947.0625 - val_mae: 213.8746\n",
      "Epoch 5/500\n",
      "9/9 [==============================] - 0s 8ms/step - loss: 1157717.7500 - mae: 342.3401 - val_loss: 476958.8438 - val_mae: 246.1094\n",
      "Epoch 6/500\n",
      "9/9 [==============================] - 0s 7ms/step - loss: 1124357.3750 - mae: 384.6028 - val_loss: 468476.6562 - val_mae: 294.1389\n",
      "Epoch 7/500\n",
      "9/9 [==============================] - 0s 7ms/step - loss: 1091716.2500 - mae: 421.0252 - val_loss: 463148.0312 - val_mae: 318.3477\n",
      "Epoch 8/500\n",
      "9/9 [==============================] - 0s 7ms/step - loss: 1062342.1250 - mae: 432.6739 - val_loss: 451347.8438 - val_mae: 309.5562\n",
      "Epoch 9/500\n",
      "9/9 [==============================] - 0s 7ms/step - loss: 1037163.1250 - mae: 426.4196 - val_loss: 438023.0625 - val_mae: 297.7595\n",
      "Epoch 10/500\n",
      "9/9 [==============================] - 0s 9ms/step - loss: 1012536.9375 - mae: 419.6985 - val_loss: 427478.5938 - val_mae: 298.9817\n",
      "Epoch 11/500\n",
      "9/9 [==============================] - 0s 9ms/step - loss: 982285.1250 - mae: 418.3816 - val_loss: 412696.2812 - val_mae: 290.1795\n",
      "Epoch 12/500\n",
      "9/9 [==============================] - 0s 7ms/step - loss: 954320.0000 - mae: 408.1931 - val_loss: 397105.9062 - val_mae: 282.3510\n",
      "Epoch 13/500\n",
      "9/9 [==============================] - 0s 7ms/step - loss: 922183.0625 - mae: 401.6491 - val_loss: 382926.2188 - val_mae: 278.0349\n",
      "Epoch 14/500\n",
      "9/9 [==============================] - 0s 7ms/step - loss: 890275.8125 - mae: 394.7841 - val_loss: 368118.7188 - val_mae: 271.0075\n",
      "Epoch 15/500\n",
      "9/9 [==============================] - 0s 8ms/step - loss: 854514.6875 - mae: 385.4238 - val_loss: 352923.8125 - val_mae: 255.8273\n",
      "Epoch 16/500\n",
      "9/9 [==============================] - 0s 8ms/step - loss: 819159.1875 - mae: 374.9307 - val_loss: 342363.7812 - val_mae: 249.6252\n",
      "Epoch 17/500\n",
      "9/9 [==============================] - 0s 8ms/step - loss: 786391.1250 - mae: 374.9771 - val_loss: 333722.8125 - val_mae: 245.2648\n",
      "Epoch 18/500\n",
      "9/9 [==============================] - 0s 6ms/step - loss: 753140.3750 - mae: 367.6219 - val_loss: 319721.1250 - val_mae: 231.4760\n",
      "Epoch 19/500\n",
      "9/9 [==============================] - 0s 8ms/step - loss: 720258.0625 - mae: 344.7715 - val_loss: 304695.6250 - val_mae: 212.1247\n",
      "Epoch 20/500\n",
      "9/9 [==============================] - 0s 8ms/step - loss: 687461.7500 - mae: 321.8890 - val_loss: 293091.0625 - val_mae: 193.8731\n",
      "Epoch 21/500\n",
      "9/9 [==============================] - 0s 8ms/step - loss: 660003.6250 - mae: 301.3792 - val_loss: 280043.0938 - val_mae: 180.9555\n",
      "Epoch 22/500\n",
      "9/9 [==============================] - 0s 8ms/step - loss: 630777.1250 - mae: 298.9023 - val_loss: 282583.7500 - val_mae: 195.9709\n",
      "Epoch 23/500\n",
      "9/9 [==============================] - 0s 8ms/step - loss: 604388.1875 - mae: 301.3335 - val_loss: 270890.8125 - val_mae: 187.9008\n",
      "Epoch 24/500\n",
      "9/9 [==============================] - 0s 8ms/step - loss: 572796.0625 - mae: 280.5844 - val_loss: 248262.4531 - val_mae: 171.1834\n",
      "Epoch 25/500\n",
      "9/9 [==============================] - 0s 7ms/step - loss: 549826.6250 - mae: 269.9109 - val_loss: 239315.2188 - val_mae: 170.1400\n",
      "Epoch 26/500\n",
      "9/9 [==============================] - 0s 6ms/step - loss: 524511.2500 - mae: 264.0139 - val_loss: 227526.1094 - val_mae: 162.4432\n",
      "Epoch 27/500\n",
      "9/9 [==============================] - 0s 8ms/step - loss: 502666.8750 - mae: 258.6923 - val_loss: 221994.6250 - val_mae: 163.2662\n",
      "Epoch 28/500\n",
      "9/9 [==============================] - 0s 9ms/step - loss: 483190.1875 - mae: 259.2538 - val_loss: 213317.7031 - val_mae: 159.6875\n",
      "Epoch 29/500\n",
      "9/9 [==============================] - 0s 8ms/step - loss: 458425.0000 - mae: 249.4731 - val_loss: 199649.1094 - val_mae: 150.9789\n",
      "Epoch 30/500\n",
      "9/9 [==============================] - 0s 13ms/step - loss: 436526.1562 - mae: 235.7894 - val_loss: 190551.4219 - val_mae: 143.7167\n",
      "Epoch 31/500\n",
      "9/9 [==============================] - 0s 7ms/step - loss: 415059.2188 - mae: 229.3173 - val_loss: 184268.7812 - val_mae: 141.4373\n",
      "Epoch 32/500\n",
      "9/9 [==============================] - 0s 10ms/step - loss: 397551.0938 - mae: 226.6615 - val_loss: 179321.2344 - val_mae: 139.9588\n",
      "Epoch 33/500\n",
      "9/9 [==============================] - 0s 13ms/step - loss: 382207.3438 - mae: 222.5551 - val_loss: 170815.5625 - val_mae: 137.2478\n",
      "Epoch 34/500\n",
      "9/9 [==============================] - 0s 9ms/step - loss: 359765.9062 - mae: 215.5892 - val_loss: 160428.8750 - val_mae: 130.1090\n",
      "Epoch 35/500\n",
      "9/9 [==============================] - 0s 9ms/step - loss: 341629.3125 - mae: 204.7545 - val_loss: 151050.1406 - val_mae: 121.7511\n",
      "Epoch 36/500\n",
      "9/9 [==============================] - 0s 9ms/step - loss: 326496.5938 - mae: 194.2097 - val_loss: 143326.8750 - val_mae: 116.1702\n",
      "Epoch 37/500\n",
      "9/9 [==============================] - 0s 9ms/step - loss: 315324.0312 - mae: 191.0248 - val_loss: 138643.4531 - val_mae: 115.0896\n",
      "Epoch 38/500\n",
      "9/9 [==============================] - 0s 10ms/step - loss: 294769.6250 - mae: 182.9458 - val_loss: 129557.9531 - val_mae: 108.9300\n",
      "Epoch 39/500\n",
      "9/9 [==============================] - 0s 9ms/step - loss: 280116.2812 - mae: 175.0956 - val_loss: 121897.0469 - val_mae: 103.3793\n",
      "Epoch 40/500\n",
      "9/9 [==============================] - 0s 8ms/step - loss: 266590.8750 - mae: 172.7487 - val_loss: 115660.4453 - val_mae: 100.8729\n",
      "Epoch 41/500\n",
      "9/9 [==============================] - 0s 8ms/step - loss: 251860.3281 - mae: 163.6821 - val_loss: 108521.3750 - val_mae: 96.0902\n",
      "Epoch 42/500\n",
      "9/9 [==============================] - 0s 8ms/step - loss: 236585.6875 - mae: 160.2821 - val_loss: 102460.5234 - val_mae: 92.3523\n",
      "Epoch 43/500\n",
      "9/9 [==============================] - 0s 8ms/step - loss: 226508.8281 - mae: 154.6988 - val_loss: 94818.8359 - val_mae: 88.1178\n",
      "Epoch 44/500\n",
      "9/9 [==============================] - 0s 9ms/step - loss: 211505.4688 - mae: 148.3855 - val_loss: 88424.6641 - val_mae: 85.1603\n",
      "Epoch 45/500\n",
      "9/9 [==============================] - 0s 8ms/step - loss: 200451.0781 - mae: 143.7869 - val_loss: 82389.1094 - val_mae: 82.1246\n",
      "Epoch 46/500\n",
      "9/9 [==============================] - 0s 8ms/step - loss: 189218.9844 - mae: 138.4366 - val_loss: 78893.3281 - val_mae: 80.3291\n",
      "Epoch 47/500\n",
      "9/9 [==============================] - 0s 8ms/step - loss: 179111.9062 - mae: 136.0671 - val_loss: 71411.0625 - val_mae: 77.4941\n",
      "Epoch 48/500\n",
      "9/9 [==============================] - 0s 7ms/step - loss: 168680.8281 - mae: 134.1741 - val_loss: 67378.4844 - val_mae: 75.2552\n",
      "Epoch 49/500\n",
      "9/9 [==============================] - 0s 7ms/step - loss: 164199.2188 - mae: 128.9311 - val_loss: 67760.6875 - val_mae: 75.1854\n",
      "Epoch 50/500\n",
      "9/9 [==============================] - 0s 8ms/step - loss: 147482.7812 - mae: 120.9015 - val_loss: 58278.1484 - val_mae: 69.0834\n",
      "Epoch 51/500\n",
      "9/9 [==============================] - 0s 7ms/step - loss: 143180.2344 - mae: 124.9195 - val_loss: 55086.8320 - val_mae: 69.2722\n",
      "Epoch 52/500\n",
      "9/9 [==============================] - 0s 8ms/step - loss: 135970.5156 - mae: 117.2567 - val_loss: 58426.0625 - val_mae: 72.2865\n",
      "Epoch 53/500\n",
      "9/9 [==============================] - 0s 8ms/step - loss: 127049.9375 - mae: 110.5377 - val_loss: 49830.9375 - val_mae: 63.3273\n",
      "Epoch 54/500\n",
      "9/9 [==============================] - 0s 8ms/step - loss: 118519.4531 - mae: 108.9155 - val_loss: 44515.5039 - val_mae: 61.2225\n",
      "Epoch 55/500\n",
      "9/9 [==============================] - 0s 7ms/step - loss: 117719.3281 - mae: 109.2916 - val_loss: 43090.3984 - val_mae: 64.0943\n",
      "Epoch 56/500\n",
      "9/9 [==============================] - 0s 9ms/step - loss: 116897.2969 - mae: 107.7719 - val_loss: 47476.1094 - val_mae: 71.0671\n",
      "Epoch 57/500\n",
      "9/9 [==============================] - 0s 8ms/step - loss: 104089.1953 - mae: 101.9904 - val_loss: 36564.1211 - val_mae: 58.9127\n",
      "Epoch 58/500\n",
      "9/9 [==============================] - 0s 7ms/step - loss: 97657.5859 - mae: 98.9321 - val_loss: 38632.0117 - val_mae: 58.2865\n",
      "Epoch 59/500\n",
      "9/9 [==============================] - 0s 8ms/step - loss: 91649.2500 - mae: 93.4659 - val_loss: 35032.9375 - val_mae: 55.7277\n",
      "Epoch 60/500\n",
      "9/9 [==============================] - 0s 9ms/step - loss: 86727.4297 - mae: 91.5150 - val_loss: 32873.9453 - val_mae: 55.1021\n",
      "Epoch 61/500\n",
      "9/9 [==============================] - 0s 8ms/step - loss: 87976.0391 - mae: 92.7976 - val_loss: 32026.0508 - val_mae: 60.9409\n",
      "Epoch 62/500\n",
      "9/9 [==============================] - 0s 8ms/step - loss: 85410.9297 - mae: 95.4998 - val_loss: 36096.8555 - val_mae: 63.0917\n",
      "Epoch 63/500\n",
      "9/9 [==============================] - 0s 7ms/step - loss: 83153.5391 - mae: 97.0332 - val_loss: 26386.6387 - val_mae: 59.8678\n",
      "Epoch 64/500\n",
      "9/9 [==============================] - 0s 9ms/step - loss: 72423.6953 - mae: 95.8609 - val_loss: 29458.9590 - val_mae: 53.1074\n",
      "Epoch 65/500\n",
      "9/9 [==============================] - 0s 7ms/step - loss: 68276.7734 - mae: 86.6229 - val_loss: 25157.1621 - val_mae: 49.9413\n",
      "Epoch 66/500\n",
      "9/9 [==============================] - 0s 8ms/step - loss: 65529.2422 - mae: 82.7891 - val_loss: 24938.6113 - val_mae: 56.5097\n",
      "Epoch 67/500\n",
      "9/9 [==============================] - 0s 6ms/step - loss: 62330.4961 - mae: 78.4840 - val_loss: 21985.4707 - val_mae: 48.9269\n",
      "Epoch 68/500\n",
      "9/9 [==============================] - 0s 8ms/step - loss: 59785.4375 - mae: 77.4221 - val_loss: 22750.0801 - val_mae: 51.3827\n",
      "Epoch 69/500\n",
      "9/9 [==============================] - 0s 7ms/step - loss: 59584.1328 - mae: 75.7922 - val_loss: 21234.1230 - val_mae: 46.9339\n",
      "Epoch 70/500\n",
      "9/9 [==============================] - 0s 9ms/step - loss: 55833.2422 - mae: 73.5390 - val_loss: 18332.5449 - val_mae: 46.0777\n",
      "Epoch 71/500\n",
      "9/9 [==============================] - 0s 6ms/step - loss: 54104.1562 - mae: 72.4562 - val_loss: 18104.5801 - val_mae: 45.6160\n",
      "Epoch 72/500\n",
      "9/9 [==============================] - 0s 7ms/step - loss: 51887.8438 - mae: 71.2245 - val_loss: 19413.3633 - val_mae: 45.8434\n",
      "Epoch 73/500\n",
      "9/9 [==============================] - 0s 8ms/step - loss: 49665.9688 - mae: 69.9761 - val_loss: 16910.1680 - val_mae: 43.8932\n",
      "Epoch 74/500\n",
      "9/9 [==============================] - 0s 9ms/step - loss: 49933.2930 - mae: 69.7435 - val_loss: 16767.6660 - val_mae: 47.7228\n",
      "Epoch 75/500\n",
      "9/9 [==============================] - 0s 8ms/step - loss: 48895.1328 - mae: 72.4156 - val_loss: 19502.4863 - val_mae: 47.0167\n",
      "Epoch 76/500\n",
      "9/9 [==============================] - 0s 8ms/step - loss: 43602.9141 - mae: 70.5958 - val_loss: 13171.3096 - val_mae: 43.7218\n",
      "Epoch 77/500\n",
      "9/9 [==============================] - 0s 9ms/step - loss: 44355.3594 - mae: 72.8393 - val_loss: 15873.3047 - val_mae: 44.8710\n",
      "Epoch 78/500\n",
      "9/9 [==============================] - 0s 7ms/step - loss: 42965.6055 - mae: 69.3131 - val_loss: 14323.0117 - val_mae: 41.8130\n",
      "Epoch 79/500\n",
      "9/9 [==============================] - 0s 6ms/step - loss: 43082.2266 - mae: 67.5345 - val_loss: 14634.7822 - val_mae: 41.3286\n",
      "Epoch 80/500\n",
      "9/9 [==============================] - 0s 8ms/step - loss: 39888.3750 - mae: 65.5105 - val_loss: 11595.8311 - val_mae: 42.6118\n",
      "Epoch 81/500\n",
      "9/9 [==============================] - 0s 8ms/step - loss: 37286.5312 - mae: 63.6921 - val_loss: 13114.3955 - val_mae: 43.0246\n",
      "Epoch 82/500\n",
      "9/9 [==============================] - 0s 9ms/step - loss: 43989.5547 - mae: 68.2829 - val_loss: 14322.6826 - val_mae: 43.5629\n",
      "Epoch 83/500\n",
      "9/9 [==============================] - 0s 9ms/step - loss: 45626.5312 - mae: 73.9133 - val_loss: 9817.8691 - val_mae: 47.3421\n",
      "Epoch 84/500\n",
      "9/9 [==============================] - 0s 7ms/step - loss: 44276.2656 - mae: 85.1775 - val_loss: 28413.8613 - val_mae: 61.5158\n",
      "Epoch 85/500\n",
      "9/9 [==============================] - 0s 6ms/step - loss: 35812.9258 - mae: 74.7893 - val_loss: 10156.6602 - val_mae: 51.0661\n",
      "Epoch 86/500\n",
      "9/9 [==============================] - 0s 8ms/step - loss: 32960.9414 - mae: 64.8632 - val_loss: 9358.0107 - val_mae: 47.4759\n",
      "Epoch 87/500\n",
      "9/9 [==============================] - 0s 8ms/step - loss: 30721.6836 - mae: 62.1031 - val_loss: 10324.9678 - val_mae: 38.1658\n",
      "Epoch 88/500\n",
      "9/9 [==============================] - 0s 9ms/step - loss: 30922.7461 - mae: 59.8361 - val_loss: 13234.3193 - val_mae: 42.1742\n",
      "Epoch 89/500\n",
      "9/9 [==============================] - 0s 8ms/step - loss: 34424.5469 - mae: 63.3258 - val_loss: 9460.5752 - val_mae: 42.9018\n",
      "Epoch 90/500\n",
      "9/9 [==============================] - 0s 9ms/step - loss: 26214.2988 - mae: 59.4820 - val_loss: 11602.7021 - val_mae: 39.8177\n",
      "Epoch 91/500\n",
      "9/9 [==============================] - 0s 9ms/step - loss: 26767.7637 - mae: 57.8184 - val_loss: 9685.4316 - val_mae: 40.7359\n",
      "Epoch 92/500\n",
      "9/9 [==============================] - 0s 9ms/step - loss: 24037.8984 - mae: 55.7218 - val_loss: 7523.5283 - val_mae: 37.5353\n",
      "Epoch 93/500\n",
      "9/9 [==============================] - 0s 7ms/step - loss: 24690.6055 - mae: 56.4598 - val_loss: 8757.2783 - val_mae: 37.6179\n",
      "Epoch 94/500\n",
      "9/9 [==============================] - 0s 8ms/step - loss: 23306.4395 - mae: 53.6198 - val_loss: 8344.7578 - val_mae: 37.3021\n",
      "Epoch 95/500\n",
      "9/9 [==============================] - 0s 8ms/step - loss: 25263.6230 - mae: 55.7312 - val_loss: 10357.8125 - val_mae: 38.1133\n",
      "Epoch 96/500\n",
      "9/9 [==============================] - 0s 7ms/step - loss: 21737.3125 - mae: 54.7520 - val_loss: 6477.6763 - val_mae: 35.9623\n",
      "Epoch 97/500\n",
      "9/9 [==============================] - 0s 8ms/step - loss: 21218.0273 - mae: 53.4774 - val_loss: 11139.6953 - val_mae: 43.8995\n",
      "Epoch 98/500\n",
      "9/9 [==============================] - 0s 7ms/step - loss: 22516.3418 - mae: 55.1418 - val_loss: 6950.7451 - val_mae: 36.9382\n",
      "Epoch 99/500\n",
      "9/9 [==============================] - 0s 31ms/step - loss: 19444.0391 - mae: 51.3791 - val_loss: 8258.9121 - val_mae: 36.8579\n",
      "Epoch 100/500\n",
      "9/9 [==============================] - 0s 8ms/step - loss: 19368.6016 - mae: 49.9147 - val_loss: 7216.0000 - val_mae: 34.1756\n",
      "Epoch 101/500\n",
      "9/9 [==============================] - 0s 9ms/step - loss: 18504.0410 - mae: 48.7854 - val_loss: 6731.9663 - val_mae: 34.1468\n",
      "Epoch 102/500\n",
      "9/9 [==============================] - 0s 11ms/step - loss: 17403.6426 - mae: 47.8025 - val_loss: 5498.7393 - val_mae: 33.4232\n",
      "Epoch 103/500\n",
      "9/9 [==============================] - 0s 12ms/step - loss: 17246.6230 - mae: 48.0063 - val_loss: 8083.2393 - val_mae: 35.8173\n",
      "Epoch 104/500\n",
      "9/9 [==============================] - 0s 10ms/step - loss: 15931.7197 - mae: 48.2995 - val_loss: 5902.5752 - val_mae: 33.7152\n",
      "Epoch 105/500\n",
      "9/9 [==============================] - 0s 10ms/step - loss: 15384.5449 - mae: 45.7008 - val_loss: 6587.4888 - val_mae: 35.2116\n",
      "Epoch 106/500\n",
      "9/9 [==============================] - 0s 11ms/step - loss: 15264.5527 - mae: 46.3564 - val_loss: 6479.2148 - val_mae: 33.5128\n",
      "Epoch 107/500\n",
      "9/9 [==============================] - 0s 8ms/step - loss: 16290.2295 - mae: 48.8446 - val_loss: 5437.4258 - val_mae: 33.3411\n",
      "Epoch 108/500\n",
      "9/9 [==============================] - 0s 11ms/step - loss: 14117.1182 - mae: 46.4916 - val_loss: 6513.4736 - val_mae: 33.1602\n",
      "Epoch 109/500\n",
      "9/9 [==============================] - 0s 16ms/step - loss: 14477.4170 - mae: 46.6582 - val_loss: 5793.7002 - val_mae: 32.2653\n",
      "Epoch 110/500\n",
      "9/9 [==============================] - 0s 9ms/step - loss: 12819.7285 - mae: 43.9200 - val_loss: 5073.3013 - val_mae: 31.7802\n",
      "Epoch 111/500\n",
      "9/9 [==============================] - 0s 10ms/step - loss: 12346.4756 - mae: 42.8992 - val_loss: 4604.5005 - val_mae: 30.9491\n",
      "Epoch 112/500\n",
      "9/9 [==============================] - 0s 20ms/step - loss: 12893.2061 - mae: 43.4785 - val_loss: 6104.8428 - val_mae: 32.7301\n",
      "Epoch 113/500\n",
      "9/9 [==============================] - 0s 25ms/step - loss: 12876.8760 - mae: 43.2941 - val_loss: 4339.6240 - val_mae: 31.0323\n",
      "Epoch 114/500\n",
      "9/9 [==============================] - 0s 17ms/step - loss: 11400.6885 - mae: 41.9987 - val_loss: 6433.4795 - val_mae: 33.3621\n",
      "Epoch 115/500\n",
      "9/9 [==============================] - 0s 22ms/step - loss: 11499.7578 - mae: 44.6767 - val_loss: 3807.8430 - val_mae: 29.9651\n",
      "Epoch 116/500\n",
      "9/9 [==============================] - 0s 18ms/step - loss: 10818.5986 - mae: 41.4118 - val_loss: 5350.1621 - val_mae: 33.5519\n",
      "Epoch 117/500\n",
      "9/9 [==============================] - 0s 15ms/step - loss: 10127.6895 - mae: 41.7385 - val_loss: 3363.1338 - val_mae: 30.5076\n",
      "Epoch 118/500\n",
      "9/9 [==============================] - 0s 12ms/step - loss: 10011.6592 - mae: 40.4648 - val_loss: 6483.4546 - val_mae: 37.2644\n",
      "Epoch 119/500\n",
      "9/9 [==============================] - 0s 24ms/step - loss: 9595.8799 - mae: 41.2619 - val_loss: 3564.3279 - val_mae: 31.2723\n",
      "Epoch 120/500\n",
      "9/9 [==============================] - 0s 20ms/step - loss: 8829.3174 - mae: 39.7178 - val_loss: 3599.8052 - val_mae: 30.2148\n",
      "Epoch 121/500\n",
      "9/9 [==============================] - 0s 10ms/step - loss: 9124.7744 - mae: 39.5226 - val_loss: 3751.8770 - val_mae: 28.5223\n",
      "Epoch 122/500\n",
      "9/9 [==============================] - 0s 15ms/step - loss: 9401.1768 - mae: 39.9837 - val_loss: 3778.5818 - val_mae: 28.9048\n",
      "Epoch 123/500\n",
      "9/9 [==============================] - 0s 16ms/step - loss: 9057.0088 - mae: 39.5176 - val_loss: 4075.9182 - val_mae: 29.1220\n",
      "Epoch 124/500\n",
      "9/9 [==============================] - 0s 11ms/step - loss: 7666.3672 - mae: 37.8694 - val_loss: 2983.1353 - val_mae: 27.3333\n",
      "Epoch 125/500\n",
      "9/9 [==============================] - 0s 9ms/step - loss: 7091.4946 - mae: 35.2376 - val_loss: 3622.3164 - val_mae: 28.3168\n",
      "Epoch 126/500\n",
      "9/9 [==============================] - 0s 17ms/step - loss: 7414.0469 - mae: 36.5412 - val_loss: 3309.5977 - val_mae: 27.6023\n",
      "Epoch 127/500\n",
      "9/9 [==============================] - 0s 10ms/step - loss: 6959.0186 - mae: 35.4444 - val_loss: 3185.6238 - val_mae: 27.5570\n",
      "Epoch 128/500\n",
      "9/9 [==============================] - 0s 11ms/step - loss: 6652.1343 - mae: 34.7311 - val_loss: 3090.9307 - val_mae: 26.6580\n",
      "Epoch 129/500\n",
      "9/9 [==============================] - 0s 11ms/step - loss: 6644.6621 - mae: 35.7771 - val_loss: 2819.1372 - val_mae: 26.2327\n",
      "Epoch 130/500\n",
      "9/9 [==============================] - 0s 15ms/step - loss: 7726.2866 - mae: 36.8978 - val_loss: 3229.7546 - val_mae: 27.0453\n",
      "Epoch 131/500\n",
      "9/9 [==============================] - 0s 9ms/step - loss: 6184.2266 - mae: 35.1329 - val_loss: 2801.2625 - val_mae: 26.3086\n",
      "Epoch 132/500\n",
      "9/9 [==============================] - 0s 13ms/step - loss: 5637.9468 - mae: 32.9453 - val_loss: 2712.6611 - val_mae: 25.8961\n",
      "Epoch 133/500\n",
      "9/9 [==============================] - 0s 9ms/step - loss: 5667.2939 - mae: 33.6663 - val_loss: 2865.3252 - val_mae: 26.0186\n",
      "Epoch 134/500\n",
      "9/9 [==============================] - 0s 24ms/step - loss: 5388.8882 - mae: 32.6492 - val_loss: 2452.3052 - val_mae: 25.2871\n",
      "Epoch 135/500\n",
      "9/9 [==============================] - 0s 10ms/step - loss: 5050.9678 - mae: 31.2735 - val_loss: 2589.1924 - val_mae: 25.3420\n",
      "Epoch 136/500\n",
      "9/9 [==============================] - 0s 8ms/step - loss: 5239.5620 - mae: 31.6164 - val_loss: 2516.1443 - val_mae: 24.9902\n",
      "Epoch 137/500\n",
      "9/9 [==============================] - 0s 11ms/step - loss: 5216.4307 - mae: 32.1424 - val_loss: 2302.2124 - val_mae: 25.2434\n",
      "Epoch 138/500\n",
      "9/9 [==============================] - 0s 11ms/step - loss: 4869.5293 - mae: 31.5590 - val_loss: 2460.4275 - val_mae: 24.7571\n",
      "Epoch 139/500\n",
      "9/9 [==============================] - 0s 11ms/step - loss: 4687.5391 - mae: 31.1948 - val_loss: 2203.1270 - val_mae: 24.4822\n",
      "Epoch 140/500\n",
      "9/9 [==============================] - 0s 14ms/step - loss: 4657.9072 - mae: 31.0553 - val_loss: 2338.3074 - val_mae: 24.2398\n",
      "Epoch 141/500\n",
      "9/9 [==============================] - 0s 16ms/step - loss: 4996.3286 - mae: 31.8119 - val_loss: 2300.4836 - val_mae: 24.8293\n",
      "Epoch 142/500\n",
      "9/9 [==============================] - 0s 11ms/step - loss: 4486.2520 - mae: 30.1572 - val_loss: 2233.0713 - val_mae: 23.8469\n",
      "Epoch 143/500\n",
      "9/9 [==============================] - 0s 11ms/step - loss: 4258.8491 - mae: 30.1651 - val_loss: 1729.7902 - val_mae: 22.5708\n",
      "Epoch 144/500\n",
      "9/9 [==============================] - 0s 13ms/step - loss: 4375.2344 - mae: 30.4969 - val_loss: 2017.8925 - val_mae: 23.0744\n",
      "Epoch 145/500\n",
      "9/9 [==============================] - 0s 19ms/step - loss: 3953.6614 - mae: 29.6546 - val_loss: 1728.7213 - val_mae: 22.0775\n",
      "Epoch 146/500\n",
      "9/9 [==============================] - 0s 11ms/step - loss: 4180.4092 - mae: 28.5000 - val_loss: 2066.7744 - val_mae: 22.8909\n",
      "Epoch 147/500\n",
      "9/9 [==============================] - 0s 6ms/step - loss: 3526.9243 - mae: 28.0423 - val_loss: 1506.9255 - val_mae: 21.0484\n",
      "Epoch 148/500\n",
      "9/9 [==============================] - 0s 6ms/step - loss: 3401.3103 - mae: 26.5625 - val_loss: 1886.5459 - val_mae: 22.1957\n",
      "Epoch 149/500\n",
      "9/9 [==============================] - 0s 11ms/step - loss: 3230.8633 - mae: 26.2979 - val_loss: 1598.2753 - val_mae: 21.1448\n",
      "Epoch 150/500\n",
      "9/9 [==============================] - 0s 5ms/step - loss: 3356.4390 - mae: 26.6288 - val_loss: 1608.0747 - val_mae: 21.5296\n",
      "Epoch 151/500\n",
      "9/9 [==============================] - 0s 6ms/step - loss: 3388.5364 - mae: 26.7634 - val_loss: 1745.4984 - val_mae: 21.8773\n",
      "Epoch 152/500\n",
      "9/9 [==============================] - 0s 7ms/step - loss: 3200.8987 - mae: 26.6245 - val_loss: 1528.3085 - val_mae: 20.9846\n",
      "Epoch 153/500\n",
      "9/9 [==============================] - 0s 8ms/step - loss: 2912.9768 - mae: 24.8722 - val_loss: 1546.2083 - val_mae: 20.6257\n",
      "Epoch 154/500\n",
      "9/9 [==============================] - 0s 6ms/step - loss: 2906.2468 - mae: 25.1438 - val_loss: 1540.8585 - val_mae: 20.6583\n",
      "Epoch 155/500\n",
      "9/9 [==============================] - 0s 7ms/step - loss: 2928.2471 - mae: 24.8407 - val_loss: 1432.2462 - val_mae: 19.9731\n",
      "Epoch 156/500\n",
      "9/9 [==============================] - 0s 6ms/step - loss: 2847.7776 - mae: 24.9966 - val_loss: 1423.7563 - val_mae: 20.4091\n",
      "Epoch 157/500\n",
      "9/9 [==============================] - 0s 6ms/step - loss: 2645.6787 - mae: 24.1978 - val_loss: 1343.4019 - val_mae: 19.4953\n",
      "Epoch 158/500\n",
      "9/9 [==============================] - 0s 12ms/step - loss: 2631.1580 - mae: 24.2126 - val_loss: 1455.9707 - val_mae: 19.9340\n",
      "Epoch 159/500\n",
      "9/9 [==============================] - 0s 10ms/step - loss: 3030.4673 - mae: 24.1559 - val_loss: 1114.7614 - val_mae: 18.1831\n",
      "Epoch 160/500\n",
      "9/9 [==============================] - 0s 8ms/step - loss: 3110.8069 - mae: 24.5801 - val_loss: 1290.0448 - val_mae: 18.7657\n",
      "Epoch 161/500\n",
      "9/9 [==============================] - 0s 8ms/step - loss: 3006.8472 - mae: 25.0740 - val_loss: 1195.2485 - val_mae: 19.6353\n",
      "Epoch 162/500\n",
      "9/9 [==============================] - 0s 8ms/step - loss: 2871.1746 - mae: 25.0687 - val_loss: 1289.4689 - val_mae: 19.7684\n",
      "Epoch 163/500\n",
      "9/9 [==============================] - 0s 7ms/step - loss: 2885.7510 - mae: 25.8586 - val_loss: 1428.6324 - val_mae: 21.1628\n",
      "Epoch 164/500\n",
      "9/9 [==============================] - 0s 10ms/step - loss: 2828.3125 - mae: 24.8567 - val_loss: 964.4576 - val_mae: 17.9781\n",
      "Epoch 165/500\n",
      "9/9 [==============================] - 0s 8ms/step - loss: 2373.9910 - mae: 23.5912 - val_loss: 1221.9829 - val_mae: 19.1614\n",
      "Epoch 166/500\n",
      "9/9 [==============================] - 0s 10ms/step - loss: 2067.0266 - mae: 21.5140 - val_loss: 996.2729 - val_mae: 16.7835\n",
      "Epoch 167/500\n",
      "9/9 [==============================] - 0s 8ms/step - loss: 2030.0416 - mae: 21.4178 - val_loss: 1294.4392 - val_mae: 17.8446\n",
      "Epoch 168/500\n",
      "9/9 [==============================] - 0s 9ms/step - loss: 1983.9010 - mae: 20.7567 - val_loss: 962.9319 - val_mae: 16.3762\n",
      "Epoch 169/500\n",
      "9/9 [==============================] - 0s 7ms/step - loss: 2007.0393 - mae: 20.7598 - val_loss: 1017.1511 - val_mae: 16.4442\n",
      "Epoch 170/500\n",
      "9/9 [==============================] - 0s 7ms/step - loss: 2022.6107 - mae: 20.6018 - val_loss: 1040.7681 - val_mae: 16.6901\n",
      "Epoch 171/500\n",
      "9/9 [==============================] - 0s 6ms/step - loss: 1864.3197 - mae: 20.1470 - val_loss: 935.8358 - val_mae: 15.8281\n",
      "Epoch 172/500\n",
      "9/9 [==============================] - 0s 7ms/step - loss: 1862.0920 - mae: 19.7513 - val_loss: 965.3159 - val_mae: 15.7534\n",
      "Epoch 173/500\n",
      "9/9 [==============================] - 0s 7ms/step - loss: 1869.3588 - mae: 20.0130 - val_loss: 870.9574 - val_mae: 15.4390\n",
      "Epoch 174/500\n",
      "9/9 [==============================] - 0s 8ms/step - loss: 1958.6699 - mae: 20.0643 - val_loss: 950.4015 - val_mae: 16.0315\n",
      "Epoch 175/500\n",
      "9/9 [==============================] - 0s 9ms/step - loss: 1711.8490 - mae: 19.6503 - val_loss: 906.7792 - val_mae: 15.7548\n",
      "Epoch 176/500\n",
      "9/9 [==============================] - 0s 7ms/step - loss: 1818.2670 - mae: 19.6598 - val_loss: 825.1594 - val_mae: 15.0381\n",
      "Epoch 177/500\n",
      "9/9 [==============================] - 0s 9ms/step - loss: 1645.6600 - mae: 18.7789 - val_loss: 771.9440 - val_mae: 14.7856\n",
      "Epoch 178/500\n",
      "9/9 [==============================] - 0s 11ms/step - loss: 1670.6880 - mae: 19.0529 - val_loss: 915.9877 - val_mae: 14.9031\n",
      "Epoch 179/500\n",
      "9/9 [==============================] - 0s 8ms/step - loss: 1582.5220 - mae: 18.8678 - val_loss: 783.4656 - val_mae: 14.5205\n",
      "Epoch 180/500\n",
      "9/9 [==============================] - 0s 8ms/step - loss: 1520.5417 - mae: 18.2602 - val_loss: 923.3409 - val_mae: 15.1655\n",
      "Epoch 181/500\n",
      "9/9 [==============================] - 0s 6ms/step - loss: 1459.2144 - mae: 17.8623 - val_loss: 872.0912 - val_mae: 14.6195\n",
      "Epoch 182/500\n",
      "9/9 [==============================] - 0s 5ms/step - loss: 1398.4413 - mae: 17.5097 - val_loss: 708.5347 - val_mae: 14.0899\n",
      "Epoch 183/500\n",
      "9/9 [==============================] - 0s 5ms/step - loss: 1401.9816 - mae: 17.0918 - val_loss: 759.1182 - val_mae: 14.0257\n",
      "Epoch 184/500\n",
      "9/9 [==============================] - 0s 6ms/step - loss: 1361.4640 - mae: 17.0663 - val_loss: 748.9709 - val_mae: 14.2721\n",
      "Epoch 185/500\n",
      "9/9 [==============================] - 0s 8ms/step - loss: 1328.4816 - mae: 16.9482 - val_loss: 825.0188 - val_mae: 13.9628\n",
      "Epoch 186/500\n",
      "9/9 [==============================] - 0s 7ms/step - loss: 1312.4907 - mae: 16.8721 - val_loss: 677.0797 - val_mae: 13.4026\n",
      "Epoch 187/500\n",
      "9/9 [==============================] - 0s 7ms/step - loss: 1359.7844 - mae: 16.8846 - val_loss: 1034.7009 - val_mae: 15.3163\n",
      "Epoch 188/500\n",
      "9/9 [==============================] - 0s 8ms/step - loss: 1609.7162 - mae: 18.2929 - val_loss: 619.9193 - val_mae: 13.5058\n",
      "Epoch 189/500\n",
      "9/9 [==============================] - 0s 8ms/step - loss: 1244.4857 - mae: 17.0371 - val_loss: 1084.9211 - val_mae: 15.2076\n",
      "Epoch 190/500\n",
      "9/9 [==============================] - 0s 8ms/step - loss: 1258.7133 - mae: 17.1914 - val_loss: 639.6877 - val_mae: 13.8729\n",
      "Epoch 191/500\n",
      "9/9 [==============================] - 0s 5ms/step - loss: 1307.7256 - mae: 17.8347 - val_loss: 886.6165 - val_mae: 15.0385\n",
      "Epoch 192/500\n",
      "9/9 [==============================] - 0s 6ms/step - loss: 1311.6516 - mae: 17.2062 - val_loss: 636.5319 - val_mae: 13.4229\n",
      "Epoch 193/500\n",
      "9/9 [==============================] - 0s 6ms/step - loss: 1263.7869 - mae: 16.9545 - val_loss: 973.4457 - val_mae: 15.6355\n",
      "Epoch 194/500\n",
      "9/9 [==============================] - 0s 5ms/step - loss: 1316.2419 - mae: 17.0945 - val_loss: 650.8036 - val_mae: 12.6466\n",
      "Epoch 195/500\n",
      "9/9 [==============================] - 0s 6ms/step - loss: 1094.9564 - mae: 15.7484 - val_loss: 705.1133 - val_mae: 12.7606\n",
      "Epoch 196/500\n",
      "9/9 [==============================] - 0s 9ms/step - loss: 1096.1455 - mae: 15.4447 - val_loss: 555.0231 - val_mae: 12.1920\n",
      "Epoch 197/500\n",
      "9/9 [==============================] - 0s 6ms/step - loss: 1071.2042 - mae: 15.4012 - val_loss: 688.4025 - val_mae: 12.6101\n",
      "Epoch 198/500\n",
      "9/9 [==============================] - 0s 7ms/step - loss: 1028.8978 - mae: 15.1945 - val_loss: 632.4210 - val_mae: 12.5746\n",
      "Epoch 199/500\n",
      "9/9 [==============================] - 0s 7ms/step - loss: 1052.3264 - mae: 14.9983 - val_loss: 704.6245 - val_mae: 12.6257\n",
      "Epoch 200/500\n",
      "9/9 [==============================] - 0s 5ms/step - loss: 997.7354 - mae: 14.6525 - val_loss: 608.5963 - val_mae: 12.1422\n",
      "Epoch 201/500\n",
      "9/9 [==============================] - 0s 6ms/step - loss: 1032.3461 - mae: 14.6855 - val_loss: 522.7863 - val_mae: 11.6382\n",
      "Epoch 202/500\n",
      "9/9 [==============================] - 0s 5ms/step - loss: 1066.5073 - mae: 15.0884 - val_loss: 891.8400 - val_mae: 14.2510\n",
      "Epoch 203/500\n",
      "9/9 [==============================] - 0s 5ms/step - loss: 1108.7173 - mae: 15.7953 - val_loss: 572.1296 - val_mae: 12.0857\n",
      "Epoch 204/500\n",
      "9/9 [==============================] - 0s 5ms/step - loss: 980.1086 - mae: 14.8788 - val_loss: 663.1497 - val_mae: 13.1905\n",
      "Epoch 205/500\n",
      "9/9 [==============================] - 0s 5ms/step - loss: 1080.7175 - mae: 15.7096 - val_loss: 589.8731 - val_mae: 12.5472\n",
      "Epoch 206/500\n",
      "9/9 [==============================] - 0s 5ms/step - loss: 1038.2660 - mae: 15.1834 - val_loss: 616.7299 - val_mae: 13.4864\n",
      "Epoch 207/500\n",
      "9/9 [==============================] - 0s 5ms/step - loss: 978.5033 - mae: 14.9259 - val_loss: 581.0339 - val_mae: 12.0962\n",
      "Epoch 208/500\n",
      "9/9 [==============================] - 0s 6ms/step - loss: 901.6759 - mae: 14.3956 - val_loss: 608.2996 - val_mae: 12.9911\n",
      "Epoch 209/500\n",
      "9/9 [==============================] - 0s 8ms/step - loss: 920.2595 - mae: 14.1601 - val_loss: 673.3878 - val_mae: 12.0315\n",
      "Epoch 210/500\n",
      "9/9 [==============================] - 0s 6ms/step - loss: 1036.0579 - mae: 14.7770 - val_loss: 852.1479 - val_mae: 14.4985\n",
      "Epoch 211/500\n",
      "9/9 [==============================] - 0s 9ms/step - loss: 1128.8152 - mae: 15.8062 - val_loss: 503.0184 - val_mae: 12.3011\n",
      "Epoch 212/500\n",
      "9/9 [==============================] - 0s 7ms/step - loss: 893.7805 - mae: 14.9135 - val_loss: 836.2597 - val_mae: 13.1133\n",
      "Epoch 213/500\n",
      "9/9 [==============================] - 0s 7ms/step - loss: 942.9265 - mae: 14.2722 - val_loss: 516.4780 - val_mae: 11.2649\n",
      "Epoch 214/500\n",
      "9/9 [==============================] - 0s 7ms/step - loss: 838.0923 - mae: 14.1692 - val_loss: 760.8246 - val_mae: 12.2829\n",
      "Epoch 215/500\n",
      "9/9 [==============================] - 0s 5ms/step - loss: 855.2896 - mae: 13.6906 - val_loss: 495.4991 - val_mae: 10.9921\n",
      "Epoch 216/500\n",
      "9/9 [==============================] - 0s 6ms/step - loss: 802.9335 - mae: 14.2543 - val_loss: 885.3628 - val_mae: 12.7502\n",
      "Epoch 217/500\n",
      "9/9 [==============================] - 0s 5ms/step - loss: 1028.9954 - mae: 15.6270 - val_loss: 553.0118 - val_mae: 11.5824\n",
      "Epoch 218/500\n",
      "9/9 [==============================] - 0s 6ms/step - loss: 772.6620 - mae: 14.6343 - val_loss: 687.3885 - val_mae: 11.7464\n",
      "Epoch 219/500\n",
      "9/9 [==============================] - 0s 6ms/step - loss: 815.8824 - mae: 13.5592 - val_loss: 559.9269 - val_mae: 11.2090\n",
      "Epoch 220/500\n",
      "9/9 [==============================] - 0s 6ms/step - loss: 761.4594 - mae: 13.2219 - val_loss: 536.0693 - val_mae: 11.1997\n",
      "Epoch 221/500\n",
      "9/9 [==============================] - 0s 6ms/step - loss: 760.9944 - mae: 12.8926 - val_loss: 665.5228 - val_mae: 11.7099\n",
      "Epoch 222/500\n",
      "9/9 [==============================] - 0s 5ms/step - loss: 880.8441 - mae: 13.6428 - val_loss: 508.3469 - val_mae: 10.8659\n",
      "Epoch 223/500\n",
      "9/9 [==============================] - 0s 6ms/step - loss: 810.9799 - mae: 13.3228 - val_loss: 546.1044 - val_mae: 11.1987\n",
      "Epoch 224/500\n",
      "9/9 [==============================] - 0s 4ms/step - loss: 870.8154 - mae: 13.9612 - val_loss: 703.9396 - val_mae: 13.1376\n",
      "Epoch 225/500\n",
      "9/9 [==============================] - 0s 6ms/step - loss: 825.0616 - mae: 13.4243 - val_loss: 472.5898 - val_mae: 10.6145\n",
      "Epoch 226/500\n",
      "9/9 [==============================] - 0s 5ms/step - loss: 811.3475 - mae: 13.2212 - val_loss: 550.6282 - val_mae: 11.1425\n",
      "Epoch 227/500\n",
      "9/9 [==============================] - 0s 7ms/step - loss: 971.3329 - mae: 14.7881 - val_loss: 749.6832 - val_mae: 13.8837\n",
      "Epoch 228/500\n",
      "9/9 [==============================] - 0s 6ms/step - loss: 803.6584 - mae: 14.1671 - val_loss: 472.7107 - val_mae: 10.5744\n",
      "Epoch 229/500\n",
      "9/9 [==============================] - 0s 6ms/step - loss: 664.7611 - mae: 12.9653 - val_loss: 609.0471 - val_mae: 11.1823\n",
      "Epoch 230/500\n",
      "9/9 [==============================] - 0s 6ms/step - loss: 785.9911 - mae: 13.1288 - val_loss: 608.7944 - val_mae: 12.1196\n",
      "Epoch 231/500\n",
      "9/9 [==============================] - 0s 6ms/step - loss: 784.1464 - mae: 13.5685 - val_loss: 520.7208 - val_mae: 12.0465\n",
      "Epoch 232/500\n",
      "9/9 [==============================] - 0s 5ms/step - loss: 1096.8247 - mae: 15.4120 - val_loss: 852.1137 - val_mae: 18.1122\n",
      "Epoch 233/500\n",
      "9/9 [==============================] - 0s 6ms/step - loss: 1106.9397 - mae: 17.2236 - val_loss: 584.3495 - val_mae: 14.1712\n",
      "Epoch 234/500\n",
      "9/9 [==============================] - 0s 5ms/step - loss: 850.2754 - mae: 15.0506 - val_loss: 679.9203 - val_mae: 12.7457\n",
      "Epoch 235/500\n",
      "9/9 [==============================] - 0s 7ms/step - loss: 692.6948 - mae: 13.1454 - val_loss: 523.5901 - val_mae: 10.8256\n",
      "Epoch 236/500\n",
      "9/9 [==============================] - 0s 5ms/step - loss: 618.0720 - mae: 12.2815 - val_loss: 487.5807 - val_mae: 10.5170\n",
      "Epoch 237/500\n",
      "9/9 [==============================] - 0s 5ms/step - loss: 637.1756 - mae: 11.8809 - val_loss: 474.9241 - val_mae: 10.4219\n",
      "Epoch 238/500\n",
      "9/9 [==============================] - 0s 8ms/step - loss: 664.9774 - mae: 12.0259 - val_loss: 462.8090 - val_mae: 10.4112\n",
      "Epoch 239/500\n",
      "9/9 [==============================] - 0s 7ms/step - loss: 655.0085 - mae: 12.3516 - val_loss: 547.1481 - val_mae: 11.1763\n",
      "Epoch 240/500\n",
      "9/9 [==============================] - 0s 8ms/step - loss: 617.7738 - mae: 12.0103 - val_loss: 462.9012 - val_mae: 10.3861\n",
      "Epoch 241/500\n",
      "9/9 [==============================] - 0s 6ms/step - loss: 645.7532 - mae: 11.9547 - val_loss: 494.5851 - val_mae: 10.5653\n",
      "Epoch 242/500\n",
      "9/9 [==============================] - 0s 5ms/step - loss: 628.0206 - mae: 11.8885 - val_loss: 440.9087 - val_mae: 10.2795\n",
      "Epoch 243/500\n",
      "9/9 [==============================] - 0s 10ms/step - loss: 628.5958 - mae: 12.5550 - val_loss: 646.4080 - val_mae: 11.4270\n",
      "Epoch 244/500\n",
      "9/9 [==============================] - 0s 6ms/step - loss: 711.0285 - mae: 12.4870 - val_loss: 474.8688 - val_mae: 10.8262\n",
      "Epoch 245/500\n",
      "9/9 [==============================] - 0s 6ms/step - loss: 758.2775 - mae: 13.4688 - val_loss: 546.4191 - val_mae: 10.4654\n",
      "Epoch 246/500\n",
      "9/9 [==============================] - 0s 6ms/step - loss: 634.2656 - mae: 12.5142 - val_loss: 516.0248 - val_mae: 11.2593\n",
      "Epoch 247/500\n",
      "9/9 [==============================] - 0s 9ms/step - loss: 651.7029 - mae: 12.2610 - val_loss: 445.5174 - val_mae: 11.2434\n",
      "Epoch 248/500\n",
      "9/9 [==============================] - 0s 6ms/step - loss: 612.3865 - mae: 12.1391 - val_loss: 533.7954 - val_mae: 11.0794\n",
      "Epoch 249/500\n",
      "9/9 [==============================] - 0s 8ms/step - loss: 546.5836 - mae: 11.3827 - val_loss: 445.5464 - val_mae: 10.2619\n",
      "Epoch 250/500\n",
      "9/9 [==============================] - 0s 7ms/step - loss: 629.0261 - mae: 11.9592 - val_loss: 536.0405 - val_mae: 10.7041\n",
      "Epoch 251/500\n",
      "9/9 [==============================] - 0s 9ms/step - loss: 616.7149 - mae: 11.6824 - val_loss: 446.5380 - val_mae: 9.8134\n",
      "Epoch 252/500\n",
      "9/9 [==============================] - 0s 8ms/step - loss: 547.1117 - mae: 11.3430 - val_loss: 450.3055 - val_mae: 10.1509\n",
      "Epoch 253/500\n",
      "9/9 [==============================] - 0s 9ms/step - loss: 635.1877 - mae: 11.6523 - val_loss: 462.2112 - val_mae: 10.1104\n",
      "Epoch 254/500\n",
      "9/9 [==============================] - 0s 7ms/step - loss: 616.1598 - mae: 11.4338 - val_loss: 435.8932 - val_mae: 10.4153\n",
      "Epoch 255/500\n",
      "9/9 [==============================] - 0s 6ms/step - loss: 743.2175 - mae: 12.7764 - val_loss: 625.3784 - val_mae: 12.3781\n",
      "Epoch 256/500\n",
      "9/9 [==============================] - 0s 19ms/step - loss: 738.9276 - mae: 12.8898 - val_loss: 394.7561 - val_mae: 9.6476\n",
      "Epoch 257/500\n",
      "9/9 [==============================] - 0s 8ms/step - loss: 705.3911 - mae: 12.6213 - val_loss: 402.2017 - val_mae: 10.5592\n",
      "Epoch 258/500\n",
      "9/9 [==============================] - 0s 6ms/step - loss: 603.6368 - mae: 12.0861 - val_loss: 587.7847 - val_mae: 11.6700\n",
      "Epoch 259/500\n",
      "9/9 [==============================] - 0s 7ms/step - loss: 752.9321 - mae: 12.7408 - val_loss: 600.3572 - val_mae: 11.3019\n",
      "Epoch 260/500\n",
      "9/9 [==============================] - 0s 11ms/step - loss: 688.8879 - mae: 12.2095 - val_loss: 427.7191 - val_mae: 10.4804\n",
      "Epoch 261/500\n",
      "9/9 [==============================] - 0s 9ms/step - loss: 738.8871 - mae: 13.0248 - val_loss: 502.4957 - val_mae: 9.9712\n",
      "Epoch 262/500\n",
      "9/9 [==============================] - 0s 8ms/step - loss: 581.6179 - mae: 12.1647 - val_loss: 479.1386 - val_mae: 11.5043\n",
      "Epoch 263/500\n",
      "9/9 [==============================] - 0s 8ms/step - loss: 523.4951 - mae: 11.6292 - val_loss: 425.7086 - val_mae: 9.9560\n",
      "Epoch 264/500\n",
      "9/9 [==============================] - 0s 6ms/step - loss: 509.5995 - mae: 10.9801 - val_loss: 443.4775 - val_mae: 10.0659\n",
      "Epoch 265/500\n",
      "9/9 [==============================] - 0s 6ms/step - loss: 512.7488 - mae: 10.7553 - val_loss: 367.5216 - val_mae: 9.4732\n",
      "Epoch 266/500\n",
      "9/9 [==============================] - 0s 6ms/step - loss: 606.8199 - mae: 11.2899 - val_loss: 384.4306 - val_mae: 9.5902\n",
      "Epoch 267/500\n",
      "9/9 [==============================] - 0s 6ms/step - loss: 679.4325 - mae: 12.3864 - val_loss: 1169.9500 - val_mae: 16.0009\n",
      "Epoch 268/500\n",
      "9/9 [==============================] - 0s 6ms/step - loss: 945.7213 - mae: 16.1623 - val_loss: 802.9288 - val_mae: 12.5811\n",
      "Epoch 269/500\n",
      "9/9 [==============================] - 0s 7ms/step - loss: 1174.7454 - mae: 19.1752 - val_loss: 584.0237 - val_mae: 12.2451\n",
      "Epoch 270/500\n",
      "9/9 [==============================] - 0s 10ms/step - loss: 635.1646 - mae: 15.1218 - val_loss: 375.7335 - val_mae: 12.6247\n",
      "Epoch 271/500\n",
      "9/9 [==============================] - 0s 9ms/step - loss: 683.4024 - mae: 14.8284 - val_loss: 467.7068 - val_mae: 14.5776\n",
      "Epoch 272/500\n",
      "9/9 [==============================] - 0s 12ms/step - loss: 630.9049 - mae: 14.1143 - val_loss: 533.9020 - val_mae: 14.1637\n",
      "Epoch 273/500\n",
      "9/9 [==============================] - 0s 9ms/step - loss: 536.5485 - mae: 11.9496 - val_loss: 386.6935 - val_mae: 9.6714\n",
      "Epoch 274/500\n",
      "9/9 [==============================] - 0s 8ms/step - loss: 533.6553 - mae: 10.9442 - val_loss: 363.1001 - val_mae: 9.3480\n",
      "Epoch 275/500\n",
      "9/9 [==============================] - 0s 6ms/step - loss: 509.4500 - mae: 10.7874 - val_loss: 445.7426 - val_mae: 9.8070\n",
      "Epoch 276/500\n",
      "9/9 [==============================] - 0s 5ms/step - loss: 560.5430 - mae: 11.0425 - val_loss: 398.4686 - val_mae: 9.6700\n",
      "Epoch 277/500\n",
      "9/9 [==============================] - 0s 6ms/step - loss: 538.8395 - mae: 11.3467 - val_loss: 373.3213 - val_mae: 10.8054\n",
      "Epoch 278/500\n",
      "9/9 [==============================] - 0s 8ms/step - loss: 489.3803 - mae: 11.1132 - val_loss: 363.2996 - val_mae: 10.6696\n",
      "Epoch 279/500\n",
      "9/9 [==============================] - 0s 6ms/step - loss: 454.0457 - mae: 10.4184 - val_loss: 322.7509 - val_mae: 9.1560\n",
      "Epoch 280/500\n",
      "9/9 [==============================] - 0s 6ms/step - loss: 487.9309 - mae: 10.4327 - val_loss: 296.9140 - val_mae: 8.7921\n",
      "Epoch 281/500\n",
      "9/9 [==============================] - 0s 5ms/step - loss: 479.9401 - mae: 9.8517 - val_loss: 300.9852 - val_mae: 8.7282\n",
      "Epoch 282/500\n",
      "9/9 [==============================] - 0s 7ms/step - loss: 469.1974 - mae: 10.6042 - val_loss: 281.6074 - val_mae: 8.5614\n",
      "Epoch 283/500\n",
      "9/9 [==============================] - 0s 5ms/step - loss: 458.9661 - mae: 10.1164 - val_loss: 313.2274 - val_mae: 8.6254\n",
      "Epoch 284/500\n",
      "9/9 [==============================] - 0s 6ms/step - loss: 430.3116 - mae: 9.7458 - val_loss: 267.9684 - val_mae: 8.3916\n",
      "Epoch 285/500\n",
      "9/9 [==============================] - 0s 9ms/step - loss: 480.7392 - mae: 10.0084 - val_loss: 245.1386 - val_mae: 8.2764\n",
      "Epoch 286/500\n",
      "9/9 [==============================] - 0s 5ms/step - loss: 399.1416 - mae: 9.6958 - val_loss: 403.5468 - val_mae: 10.1684\n",
      "Epoch 287/500\n",
      "9/9 [==============================] - 0s 5ms/step - loss: 529.3615 - mae: 10.9775 - val_loss: 271.9890 - val_mae: 8.3839\n",
      "Epoch 288/500\n",
      "9/9 [==============================] - 0s 5ms/step - loss: 444.5314 - mae: 10.0519 - val_loss: 276.9421 - val_mae: 9.1551\n",
      "Epoch 289/500\n",
      "9/9 [==============================] - 0s 5ms/step - loss: 470.5854 - mae: 10.9400 - val_loss: 639.1458 - val_mae: 12.7626\n",
      "Epoch 290/500\n",
      "9/9 [==============================] - 0s 7ms/step - loss: 731.6173 - mae: 12.7982 - val_loss: 180.8332 - val_mae: 7.9222\n",
      "Epoch 291/500\n",
      "9/9 [==============================] - 0s 5ms/step - loss: 591.6570 - mae: 12.9097 - val_loss: 274.8648 - val_mae: 11.1363\n",
      "Epoch 292/500\n",
      "9/9 [==============================] - 0s 5ms/step - loss: 534.0928 - mae: 12.9122 - val_loss: 381.4572 - val_mae: 12.6825\n",
      "Epoch 293/500\n",
      "9/9 [==============================] - 0s 6ms/step - loss: 484.6149 - mae: 11.7356 - val_loss: 237.7119 - val_mae: 10.0781\n",
      "Epoch 294/500\n",
      "9/9 [==============================] - 0s 7ms/step - loss: 457.3724 - mae: 11.5884 - val_loss: 370.4766 - val_mae: 9.6468\n",
      "Epoch 295/500\n",
      "9/9 [==============================] - 0s 8ms/step - loss: 445.9087 - mae: 10.6186 - val_loss: 216.4454 - val_mae: 8.2696\n",
      "Epoch 296/500\n",
      "9/9 [==============================] - 0s 5ms/step - loss: 439.0724 - mae: 10.5670 - val_loss: 290.6790 - val_mae: 8.3472\n",
      "Epoch 297/500\n",
      "9/9 [==============================] - 0s 5ms/step - loss: 428.0534 - mae: 10.5010 - val_loss: 240.8587 - val_mae: 8.8878\n",
      "Epoch 298/500\n",
      "9/9 [==============================] - 0s 5ms/step - loss: 456.2631 - mae: 10.6418 - val_loss: 191.5556 - val_mae: 8.4003\n",
      "Epoch 299/500\n",
      "9/9 [==============================] - 0s 7ms/step - loss: 432.4327 - mae: 10.0366 - val_loss: 197.0429 - val_mae: 7.6200\n",
      "Epoch 300/500\n",
      "9/9 [==============================] - 0s 6ms/step - loss: 420.7568 - mae: 9.8669 - val_loss: 397.1984 - val_mae: 10.1165\n",
      "Epoch 301/500\n",
      "9/9 [==============================] - 0s 7ms/step - loss: 447.3037 - mae: 10.3535 - val_loss: 262.0168 - val_mae: 9.3840\n",
      "Epoch 302/500\n",
      "9/9 [==============================] - 0s 6ms/step - loss: 472.7044 - mae: 11.3004 - val_loss: 301.0606 - val_mae: 8.2611\n",
      "Epoch 303/500\n",
      "9/9 [==============================] - 0s 11ms/step - loss: 409.1330 - mae: 10.4027 - val_loss: 203.6599 - val_mae: 8.2279\n",
      "Epoch 304/500\n",
      "9/9 [==============================] - 0s 5ms/step - loss: 408.4724 - mae: 10.4413 - val_loss: 222.4450 - val_mae: 8.6472\n",
      "Epoch 305/500\n",
      "9/9 [==============================] - 0s 7ms/step - loss: 413.3004 - mae: 9.7284 - val_loss: 193.6704 - val_mae: 7.8755\n",
      "Epoch 306/500\n",
      "9/9 [==============================] - 0s 7ms/step - loss: 419.5553 - mae: 9.9072 - val_loss: 320.2074 - val_mae: 8.3271\n",
      "Epoch 307/500\n",
      "9/9 [==============================] - 0s 8ms/step - loss: 418.1280 - mae: 9.5621 - val_loss: 177.5966 - val_mae: 7.9289\n",
      "Epoch 308/500\n",
      "9/9 [==============================] - 0s 9ms/step - loss: 373.5179 - mae: 9.8225 - val_loss: 261.7808 - val_mae: 8.1133\n",
      "Epoch 309/500\n",
      "9/9 [==============================] - 0s 8ms/step - loss: 547.0810 - mae: 10.2034 - val_loss: 173.1116 - val_mae: 8.0696\n",
      "Epoch 310/500\n",
      "9/9 [==============================] - 0s 6ms/step - loss: 432.2589 - mae: 9.9394 - val_loss: 209.1545 - val_mae: 8.7991\n",
      "Epoch 311/500\n",
      "9/9 [==============================] - 0s 6ms/step - loss: 417.2484 - mae: 10.4155 - val_loss: 526.5055 - val_mae: 11.5196\n",
      "Epoch 312/500\n",
      "9/9 [==============================] - 0s 6ms/step - loss: 596.3677 - mae: 11.8210 - val_loss: 165.4939 - val_mae: 7.2948\n",
      "Epoch 313/500\n",
      "9/9 [==============================] - 0s 6ms/step - loss: 421.5208 - mae: 10.5820 - val_loss: 196.0371 - val_mae: 8.6172\n",
      "Epoch 314/500\n",
      "9/9 [==============================] - 0s 5ms/step - loss: 391.2295 - mae: 10.0668 - val_loss: 206.7670 - val_mae: 9.2381\n",
      "Epoch 315/500\n",
      "9/9 [==============================] - 0s 6ms/step - loss: 409.7172 - mae: 9.7475 - val_loss: 543.4125 - val_mae: 9.9875\n",
      "Epoch 316/500\n",
      "9/9 [==============================] - 0s 6ms/step - loss: 613.2388 - mae: 11.1762 - val_loss: 240.8104 - val_mae: 10.3524\n",
      "Epoch 317/500\n",
      "9/9 [==============================] - 0s 6ms/step - loss: 471.7826 - mae: 10.5285 - val_loss: 206.3971 - val_mae: 8.4375\n",
      "Epoch 318/500\n",
      "9/9 [==============================] - 0s 6ms/step - loss: 392.9904 - mae: 9.6655 - val_loss: 265.9449 - val_mae: 9.0166\n",
      "Epoch 319/500\n",
      "9/9 [==============================] - 0s 10ms/step - loss: 396.9308 - mae: 9.4528 - val_loss: 178.1206 - val_mae: 7.2923\n",
      "Epoch 320/500\n",
      "9/9 [==============================] - 0s 6ms/step - loss: 397.8528 - mae: 9.3798 - val_loss: 216.5216 - val_mae: 7.4975\n",
      "Epoch 321/500\n",
      "9/9 [==============================] - 0s 6ms/step - loss: 391.9805 - mae: 9.1989 - val_loss: 224.1529 - val_mae: 8.4013\n",
      "Epoch 322/500\n",
      "9/9 [==============================] - 0s 5ms/step - loss: 380.0794 - mae: 9.3406 - val_loss: 193.4911 - val_mae: 7.3263\n",
      "Epoch 323/500\n",
      "9/9 [==============================] - 0s 7ms/step - loss: 358.2939 - mae: 8.6542 - val_loss: 155.7805 - val_mae: 7.0605\n",
      "Epoch 324/500\n",
      "9/9 [==============================] - 0s 5ms/step - loss: 360.5082 - mae: 8.9206 - val_loss: 166.4807 - val_mae: 7.0832\n",
      "Epoch 325/500\n",
      "9/9 [==============================] - 0s 6ms/step - loss: 367.1624 - mae: 8.5299 - val_loss: 137.7547 - val_mae: 7.0967\n",
      "Epoch 326/500\n",
      "9/9 [==============================] - 0s 7ms/step - loss: 435.8304 - mae: 9.4263 - val_loss: 136.7714 - val_mae: 6.8776\n",
      "Epoch 327/500\n",
      "9/9 [==============================] - 0s 5ms/step - loss: 425.4605 - mae: 9.3948 - val_loss: 150.8013 - val_mae: 6.8680\n",
      "Epoch 328/500\n",
      "9/9 [==============================] - 0s 7ms/step - loss: 527.4649 - mae: 10.8449 - val_loss: 350.0000 - val_mae: 8.4391\n",
      "Epoch 329/500\n",
      "9/9 [==============================] - 0s 7ms/step - loss: 381.1621 - mae: 9.6433 - val_loss: 256.6279 - val_mae: 9.8688\n",
      "Epoch 330/500\n",
      "9/9 [==============================] - 0s 6ms/step - loss: 406.2021 - mae: 9.9961 - val_loss: 160.0661 - val_mae: 7.6346\n",
      "Epoch 331/500\n",
      "9/9 [==============================] - 0s 6ms/step - loss: 404.5064 - mae: 10.2916 - val_loss: 241.3575 - val_mae: 7.4728\n",
      "Epoch 332/500\n",
      "9/9 [==============================] - 0s 5ms/step - loss: 411.3638 - mae: 9.8664 - val_loss: 223.9344 - val_mae: 8.3537\n",
      "Epoch 333/500\n",
      "9/9 [==============================] - 0s 6ms/step - loss: 394.7199 - mae: 9.6967 - val_loss: 167.3938 - val_mae: 6.9876\n",
      "Epoch 334/500\n",
      "9/9 [==============================] - 0s 5ms/step - loss: 378.9639 - mae: 8.5328 - val_loss: 113.5504 - val_mae: 6.8022\n",
      "Epoch 335/500\n",
      "9/9 [==============================] - 0s 6ms/step - loss: 439.1766 - mae: 9.3831 - val_loss: 124.4792 - val_mae: 7.3772\n",
      "Epoch 336/500\n",
      "9/9 [==============================] - 0s 5ms/step - loss: 433.6475 - mae: 9.6586 - val_loss: 123.2052 - val_mae: 7.1676\n",
      "Epoch 337/500\n",
      "9/9 [==============================] - 0s 5ms/step - loss: 373.9435 - mae: 9.1751 - val_loss: 148.6492 - val_mae: 7.9273\n",
      "Epoch 338/500\n",
      "9/9 [==============================] - 0s 6ms/step - loss: 410.2177 - mae: 9.5475 - val_loss: 136.7723 - val_mae: 7.2140\n",
      "Epoch 339/500\n",
      "9/9 [==============================] - 0s 8ms/step - loss: 339.8686 - mae: 8.7856 - val_loss: 113.7579 - val_mae: 7.3611\n",
      "Epoch 340/500\n",
      "9/9 [==============================] - 0s 5ms/step - loss: 348.3939 - mae: 9.8024 - val_loss: 416.5976 - val_mae: 10.0960\n",
      "Epoch 341/500\n",
      "9/9 [==============================] - 0s 5ms/step - loss: 473.6655 - mae: 11.6829 - val_loss: 207.0092 - val_mae: 8.8203\n",
      "Epoch 342/500\n",
      "9/9 [==============================] - 0s 5ms/step - loss: 470.5000 - mae: 12.7599 - val_loss: 288.1443 - val_mae: 9.8875\n",
      "Epoch 343/500\n",
      "9/9 [==============================] - 0s 5ms/step - loss: 393.5088 - mae: 12.2269 - val_loss: 205.6165 - val_mae: 12.0103\n",
      "Epoch 344/500\n",
      "9/9 [==============================] - 0s 6ms/step - loss: 463.9678 - mae: 12.3686 - val_loss: 214.6029 - val_mae: 10.0704\n",
      "Epoch 345/500\n",
      "9/9 [==============================] - 0s 5ms/step - loss: 378.0118 - mae: 9.9806 - val_loss: 135.9225 - val_mae: 7.1601\n",
      "Epoch 346/500\n",
      "9/9 [==============================] - 0s 7ms/step - loss: 463.3930 - mae: 10.3529 - val_loss: 140.6975 - val_mae: 7.4571\n",
      "Epoch 347/500\n",
      "9/9 [==============================] - 0s 6ms/step - loss: 560.8281 - mae: 11.8025 - val_loss: 143.1894 - val_mae: 8.7960\n",
      "Epoch 348/500\n",
      "9/9 [==============================] - 0s 7ms/step - loss: 368.7545 - mae: 10.0035 - val_loss: 136.5675 - val_mae: 7.8744\n",
      "Epoch 349/500\n",
      "9/9 [==============================] - 0s 6ms/step - loss: 313.0274 - mae: 8.5923 - val_loss: 157.3199 - val_mae: 7.0955\n",
      "Epoch 350/500\n",
      "9/9 [==============================] - 0s 5ms/step - loss: 380.9665 - mae: 9.3860 - val_loss: 267.8267 - val_mae: 7.9901\n",
      "Epoch 351/500\n",
      "9/9 [==============================] - 0s 5ms/step - loss: 381.5707 - mae: 9.0214 - val_loss: 175.3402 - val_mae: 7.3435\n",
      "Epoch 352/500\n",
      "9/9 [==============================] - 0s 6ms/step - loss: 325.1917 - mae: 8.7798 - val_loss: 115.8081 - val_mae: 7.3284\n",
      "Epoch 353/500\n",
      "9/9 [==============================] - 0s 5ms/step - loss: 472.8956 - mae: 10.1267 - val_loss: 200.2800 - val_mae: 7.3547\n",
      "Epoch 354/500\n",
      "9/9 [==============================] - 0s 5ms/step - loss: 474.4503 - mae: 12.3582 - val_loss: 630.7058 - val_mae: 16.1190\n",
      "Epoch 355/500\n",
      "9/9 [==============================] - 0s 25ms/step - loss: 655.2359 - mae: 14.6053 - val_loss: 208.7914 - val_mae: 8.9625\n",
      "Epoch 356/500\n",
      "9/9 [==============================] - 0s 8ms/step - loss: 470.2080 - mae: 12.5745 - val_loss: 179.0509 - val_mae: 8.4605\n",
      "Epoch 357/500\n",
      "9/9 [==============================] - 0s 7ms/step - loss: 407.7124 - mae: 11.1395 - val_loss: 261.1494 - val_mae: 11.0130\n",
      "Epoch 358/500\n",
      "9/9 [==============================] - 0s 7ms/step - loss: 367.5798 - mae: 9.7384 - val_loss: 315.8290 - val_mae: 8.8492\n",
      "Epoch 359/500\n",
      "9/9 [==============================] - 0s 5ms/step - loss: 420.0172 - mae: 9.5895 - val_loss: 139.1081 - val_mae: 7.9431\n",
      "Epoch 360/500\n",
      "9/9 [==============================] - 0s 7ms/step - loss: 446.4382 - mae: 10.4747 - val_loss: 335.2819 - val_mae: 11.4681\n",
      "Epoch 361/500\n",
      "9/9 [==============================] - 0s 5ms/step - loss: 591.1175 - mae: 13.2546 - val_loss: 509.2127 - val_mae: 9.9909\n",
      "Epoch 362/500\n",
      "9/9 [==============================] - 0s 5ms/step - loss: 436.0114 - mae: 12.4311 - val_loss: 262.3626 - val_mae: 11.0770\n",
      "Epoch 363/500\n",
      "9/9 [==============================] - 0s 6ms/step - loss: 412.3188 - mae: 11.5968 - val_loss: 253.9315 - val_mae: 12.1336\n",
      "Epoch 364/500\n",
      "9/9 [==============================] - 0s 5ms/step - loss: 685.1460 - mae: 12.3483 - val_loss: 146.4909 - val_mae: 7.4015\n",
      "Epoch 365/500\n",
      "9/9 [==============================] - 0s 6ms/step - loss: 1372.8489 - mae: 15.7239 - val_loss: 368.8352 - val_mae: 9.5779\n",
      "Epoch 366/500\n",
      "9/9 [==============================] - 0s 8ms/step - loss: 606.7094 - mae: 11.5882 - val_loss: 698.8743 - val_mae: 14.3849\n",
      "Epoch 367/500\n",
      "9/9 [==============================] - 0s 5ms/step - loss: 686.5822 - mae: 13.0870 - val_loss: 196.8917 - val_mae: 7.0237\n",
      "Epoch 368/500\n",
      "9/9 [==============================] - 0s 5ms/step - loss: 388.2660 - mae: 9.9628 - val_loss: 241.0528 - val_mae: 8.8339\n",
      "Epoch 369/500\n",
      "9/9 [==============================] - 0s 6ms/step - loss: 519.5214 - mae: 11.0208 - val_loss: 224.8245 - val_mae: 7.6655\n",
      "Epoch 370/500\n",
      "9/9 [==============================] - 0s 6ms/step - loss: 273.3765 - mae: 8.6230 - val_loss: 276.0755 - val_mae: 8.2792\n",
      "Epoch 371/500\n",
      "9/9 [==============================] - 0s 6ms/step - loss: 293.8985 - mae: 8.1721 - val_loss: 192.5078 - val_mae: 7.7088\n",
      "Epoch 372/500\n",
      "9/9 [==============================] - 0s 5ms/step - loss: 398.3504 - mae: 9.5371 - val_loss: 398.6588 - val_mae: 8.5500\n",
      "Epoch 373/500\n",
      "9/9 [==============================] - 0s 5ms/step - loss: 393.4399 - mae: 9.0239 - val_loss: 307.3863 - val_mae: 8.1399\n",
      "Epoch 374/500\n",
      "9/9 [==============================] - 0s 6ms/step - loss: 346.5432 - mae: 8.7410 - val_loss: 586.1032 - val_mae: 10.0662\n",
      "Epoch 375/500\n",
      "9/9 [==============================] - 0s 6ms/step - loss: 522.2429 - mae: 11.4726 - val_loss: 129.5684 - val_mae: 7.4900\n",
      "Epoch 376/500\n",
      "9/9 [==============================] - 0s 6ms/step - loss: 645.1415 - mae: 12.9001 - val_loss: 229.7465 - val_mae: 12.3397\n",
      "Epoch 377/500\n",
      "9/9 [==============================] - 0s 6ms/step - loss: 468.2890 - mae: 12.8639 - val_loss: 410.1536 - val_mae: 10.2806\n",
      "Epoch 378/500\n",
      "9/9 [==============================] - 0s 6ms/step - loss: 409.2703 - mae: 10.0180 - val_loss: 524.3967 - val_mae: 8.9006\n",
      "Epoch 379/500\n",
      "9/9 [==============================] - 0s 10ms/step - loss: 309.9761 - mae: 8.5037 - val_loss: 194.0440 - val_mae: 7.9319\n",
      "Epoch 380/500\n",
      "9/9 [==============================] - 0s 8ms/step - loss: 323.1173 - mae: 8.4965 - val_loss: 151.0694 - val_mae: 7.7815\n",
      "Epoch 381/500\n",
      "9/9 [==============================] - 0s 6ms/step - loss: 380.6547 - mae: 8.9363 - val_loss: 187.7362 - val_mae: 6.7900\n",
      "Epoch 382/500\n",
      "9/9 [==============================] - 0s 6ms/step - loss: 475.1454 - mae: 9.9819 - val_loss: 394.6585 - val_mae: 8.0522\n",
      "Epoch 383/500\n",
      "9/9 [==============================] - 0s 5ms/step - loss: 317.5368 - mae: 9.1342 - val_loss: 221.4411 - val_mae: 8.5656\n",
      "Epoch 384/500\n",
      "9/9 [==============================] - 0s 5ms/step - loss: 441.2802 - mae: 10.3649 - val_loss: 191.1555 - val_mae: 10.3649\n"
     ]
    }
   ],
   "source": [
    "history = ann.fit(X_train, y_train,\n",
    "                    validation_data = (X_test, y_test),\n",
    "                    callbacks=[es],\n",
    "                    epochs=500,\n",
    "                    batch_size=50,\n",
    "                    verbose=1)"
   ]
  },
  {
   "cell_type": "markdown",
   "metadata": {
    "colab_type": "text",
    "id": "0H0zKKNEBLD5"
   },
   "source": [
    "### Predicting the results of the Test set"
   ]
  },
  {
   "cell_type": "code",
   "execution_count": 17,
   "metadata": {},
   "outputs": [
    {
     "data": {
      "image/png": "[encoded data removed]",
      "text/plain": [
       "<Figure size 432x288 with 1 Axes>"
      ]
     },
     "metadata": {
      "needs_background": "light"
     },
     "output_type": "display_data"
    }
   ],
   "source": [
    "import matplotlib.pyplot as plt\n",
    "# let's see the training and validation accuracy by epoch\n",
    "history_dict = history.history\n",
    "loss_values = history_dict['loss'] # you can change this\n",
    "val_loss_values = history_dict['val_loss'] # you can also change this\n",
    "epochs = range(1, len(loss_values) + 1) # range of X (no. of epochs)\n",
    "plt.plot(epochs, loss_values, 'blue', label='Training loss')\n",
    "plt.plot(epochs, val_loss_values, 'orange', label='Testing loss')\n",
    "plt.title('Training and testing loss')\n",
    "plt.xlabel('Epochs')\n",
    "plt.ylabel('Loss (MSE)')\n",
    "plt.legend()\n",
    "plt.show()"
   ]
  },
  {
   "cell_type": "code",
   "execution_count": 18,
   "metadata": {},
   "outputs": [
    {
     "data": {
      "image/png": "[encoded data removed]",
      "text/plain": [
       "<Figure size 432x288 with 1 Axes>"
      ]
     },
     "metadata": {
      "needs_background": "light"
     },
     "output_type": "display_data"
    }
   ],
   "source": [
    "loss_values1 = history_dict['mae'] # you can change this\n",
    "val_loss_values1 = history_dict['val_mae'] # you can also change this\n",
    "epochs = range(1, len(loss_values1) + 1) # range of X (no. of epochs)\n",
    "plt.plot(epochs, loss_values1, 'blue', label='Training MAE')\n",
    "plt.plot(epochs, val_loss_values1, 'orange', label='Testing MAE')\n",
    "plt.title('Training and testing MAE')\n",
    "plt.xlabel('Epochs')\n",
    "plt.ylabel('MAE')\n",
    "plt.legend()\n",
    "plt.show()"
   ]
  },
  {
   "cell_type": "code",
   "execution_count": 39,
   "metadata": {},
   "outputs": [
    {
     "name": "stdout",
     "output_type": "stream",
     "text": [
      "range(1, 167)\n"
     ]
    }
   ],
   "source": [
    "print (epochs)"
   ]
  },
  {
   "cell_type": "code",
   "execution_count": 19,
   "metadata": {},
   "outputs": [
    {
     "name": "stdout",
     "output_type": "stream",
     "text": [
      "14/14 [==============================] - 0s 2ms/step\n",
      "4/4 [==============================] - 0s 1ms/step\n"
     ]
    },
    {
     "data": {
      "image/png": "[encoded data removed]",
      "text/plain": [
       "<Figure size 432x288 with 2 Axes>"
      ]
     },
     "metadata": {
      "needs_background": "light"
     },
     "output_type": "display_data"
    }
   ],
   "source": [
    "# scatterplot of actual vs. pred\n",
    "# specify the dimensions \n",
    "fig, axes = plt.subplots(1,2) # 1 row, 2 columns\n",
    "\n",
    "# this makes the individual subplots\n",
    "# Training Results\n",
    "axes[0].scatter(x=y_train, y=ann.predict(X_train)) #first row, first entry (left top)\n",
    "axes[0].set_xlabel(\"Actual\", fontsize=10)\n",
    "axes[0].set_ylabel(\"Predicted\",  fontsize=10)\n",
    "axes[0].set_title(\"Training\")\n",
    "# add 45 deg line\n",
    "x = np.linspace(*axes[0].get_xlim())\n",
    "axes[0].plot(x, x, color='red')\n",
    "# Validation Results\n",
    "axes[1].scatter(x=y_test, y=ann.predict(X_test)) # first row, second entry (right top)\n",
    "axes[1].set_xlabel(\"Actual\", fontsize=10)\n",
    "axes[1].set_ylabel(\"Predicted\",  fontsize=10)\n",
    "axes[1].set_title(\"Validation\")\n",
    "# add 45 deg line\n",
    "x = np.linspace(*axes[1].get_xlim())\n",
    "axes[1].plot(x, x, color='red')\n",
    "\n",
    "# tight layout\n",
    "fig.tight_layout()\n",
    "\n",
    "# show the plot\n",
    "plt.show()"
   ]
  },
  {
   "cell_type": "code",
   "execution_count": 20,
   "metadata": {
    "colab": {
     "base_uri": "https://localhost:8080/",
     "height": 134
    },
    "colab_type": "code",
    "id": "IA0yApEmBG1X",
    "outputId": "cb981e1f-9204-4a2a-fece-9d66a6919189"
   },
   "outputs": [
    {
     "name": "stdout",
     "output_type": "stream",
     "text": [
      "4/4 [==============================] - 0s 3ms/step\n",
      "[[ 125.13  126.21]\n",
      " [ 137.12  136.68]\n",
      " [ 742.99  697.97]\n",
      " [ 122.99  120.33]\n",
      " [ 923.75  908.62]\n",
      " [ 102.71  105.17]\n",
      " [ 297.06  292.65]\n",
      " [ 114.23  114.76]\n",
      " [ 127.89  122.15]\n",
      " [ 141.32  149.03]\n",
      " [ 142.06  151.21]\n",
      " [ 398.14  384.85]\n",
      " [ 122.72  122.44]\n",
      " [ 101.78  108.02]\n",
      " [  99.28  104.34]\n",
      " [ 200.77  187.24]\n",
      " [ 170.59  180.92]\n",
      " [ 148.8   155.65]\n",
      " [ 212.83  218.53]\n",
      " [ 113.83  110.55]\n",
      " [1636.41 1649.83]\n",
      " [ 119.8   119.95]\n",
      " [ 124.78  120.34]\n",
      " [ 113.    107.75]\n",
      " [ 654.48  647.73]\n",
      " [ 111.58  111.93]\n",
      " [ 233.19  242.76]\n",
      " [ 117.68  117.74]\n",
      " [ 131.93  133.28]\n",
      " [ 132.05  135.82]\n",
      " [ 232.97  227.9 ]\n",
      " [ 165.15  148.37]\n",
      " [ 130.52  126.47]\n",
      " [ 118.24  116.61]\n",
      " [ 108.06  111.98]\n",
      " [ 125.08  120.63]\n",
      " [ 130.78  125.91]\n",
      " [ 130.65  123.56]\n",
      " [ 107.94  103.93]\n",
      " [ 289.09  305.53]\n",
      " [ 118.03  118.49]\n",
      " [ 103.2   104.99]\n",
      " [ 104.65  103.39]\n",
      " [ 104.03  106.75]\n",
      " [ 152.14  149.23]\n",
      " [ 127.38  130.47]\n",
      " [ 136.09  143.94]\n",
      " [ 129.15  124.59]\n",
      " [ 231.8   216.19]\n",
      " [ 105.12  111.05]\n",
      " [ 142.51  140.6 ]\n",
      " [ 125.02  122.31]\n",
      " [5899.55 5936.4 ]\n",
      " [ 122.53  118.79]\n",
      " [ 225.    212.75]\n",
      " [ 103.45  109.67]\n",
      " [ 129.73  128.08]\n",
      " [ 685.36  667.82]\n",
      " [ 162.7   163.77]\n",
      " [ 134.59  129.31]\n",
      " [ 127.34  122.51]\n",
      " [ 455.79  446.48]\n",
      " [ 118.42  118.21]\n",
      " [ 116.19  116.22]\n",
      " [ 118.24  118.36]\n",
      " [ 124.61  120.81]\n",
      " [ 133.81  141.88]\n",
      " [ 134.7   136.45]\n",
      " [ 147.51  167.83]\n",
      " [ 120.62  120.24]\n",
      " [ 122.75  121.37]\n",
      " [ 118.93  116.81]\n",
      " [ 130.23  134.85]\n",
      " [ 112.56  112.77]\n",
      " [ 104.72  109.31]\n",
      " [ 131.88  130.07]\n",
      " [ 323.28  309.78]\n",
      " [ 122.26  122.85]\n",
      " [ 122.19  122.99]\n",
      " [ 122.29  120.5 ]\n",
      " [ 120.23  120.46]\n",
      " [ 107.66  110.03]\n",
      " [ 191.42  167.17]\n",
      " [3151.88 3132.78]\n",
      " [ 154.78  158.42]\n",
      " [ 130.6   125.44]\n",
      " [ 136.35  139.79]\n",
      " [ 115.5   114.6 ]\n",
      " [ 115.84  116.83]\n",
      " [ 176.11  173.84]\n",
      " [ 182.54  192.32]\n",
      " [ 145.05  155.53]\n",
      " [ 117.04  109.75]\n",
      " [ 127.46  123.06]\n",
      " [ 215.66  203.03]\n",
      " [1004.96 1007.45]\n",
      " [ 162.44  174.48]\n",
      " [ 216.31  206.02]\n",
      " [ 149.9   163.9 ]\n",
      " [1099.06 1104.04]\n",
      " [ 112.97  105.13]\n",
      " [ 110.04  113.1 ]\n",
      " [ 246.6   241.43]\n",
      " [ 168.61  171.51]\n",
      " [ 152.97  151.57]\n",
      " [ 122.31  119.36]\n",
      " [ 125.72  119.86]\n",
      " [1834.2  1784.86]\n",
      " [1396.59 1372.28]\n",
      " [ 144.    137.28]]\n"
     ]
    }
   ],
   "source": [
    "#X_test=np.asarray(X_test).astype(np.int)\n",
    "\n",
    "#y_test=np.asarray(y_test).astype(np.int)\n",
    "\n",
    "y_pred = ann.predict(X_test)\n",
    "np.set_printoptions(precision=2)\n",
    "print(np.concatenate((y_pred.reshape(len(y_pred),1), y_test.reshape(len(y_test),1)),1))"
   ]
  },
  {
   "cell_type": "code",
   "execution_count": 21,
   "metadata": {},
   "outputs": [
    {
     "data": {
      "text/plain": [
       "Text(0, 0.5, 'Predicted data')"
      ]
     },
     "execution_count": 21,
     "metadata": {},
     "output_type": "execute_result"
    },
    {
     "data": {
      "image/png": "[encoded data removed]",
      "text/plain": [
       "<Figure size 432x288 with 1 Axes>"
      ]
     },
     "metadata": {
      "needs_background": "light"
     },
     "output_type": "display_data"
    }
   ],
   "source": [
    "import matplotlib.pyplot as plt\n",
    "plt.scatter(y_test, y_pred, color=\"blue\")\n",
    "plt.plot ([0,4000],[0,4000], color = \"red\")\n",
    "plt.axis ([0,4000,0,4000])\n",
    "plt.xlabel ('Actual data')\n",
    "plt.ylabel ('Predicted data')"
   ]
  },
  {
   "cell_type": "code",
   "execution_count": 22,
   "metadata": {},
   "outputs": [
    {
     "data": {
      "image/png": "[encoded data removed]",
      "text/plain": [
       "<Figure size 648x648 with 1 Axes>"
      ]
     },
     "metadata": {
      "needs_background": "light"
     },
     "output_type": "display_data"
    }
   ],
   "source": [
    "from sklearn.metrics import r2_score\n",
    "# Initialize layout\n",
    "fig1, ax1 = plt.subplots(figsize = (9, 9))\n",
    "\n",
    "\n",
    "#y = y_pred         # Model on prvious line is called here\n",
    "#x = y_test\n",
    "\n",
    "\n",
    "\n",
    "# Add scatterplot\n",
    "ax1.scatter(y_test, y_pred, s=70, alpha=1, edgecolors=\"k\",c='mediumblue',zorder=5, label = 'Points')\n",
    "\n",
    "\n",
    "plt.ylabel('Predicted Peak Incident Pressure (kPa)',fontsize = 25)\n",
    "plt.xlabel('Actual Peak Incident Pressure (kPa)',fontsize = 25)\n",
    "plt.xticks(fontsize = 19)\n",
    "plt.yticks(fontsize = 19)\n",
    "\n",
    "\n",
    "x1 = np.linspace(0,4000)\n",
    "\n",
    "plt.plot(x1, x1, 'Red', label='45\\N{DEGREE SIGN} line',lw=2.5,alpha=1)\n",
    "plt.plot(x1, 1.1*x1, '--m', label='\\u00B110% Error',lw=2.5,alpha=0.7)\n",
    "plt.plot(x1, 0.9*x1,'m', linestyle='--',lw=2.5,alpha=0.7)\n",
    "plt.plot(x1, 1.2*x1, '-.g', label='\\u00B120% Error',lw=2.5,alpha=0.7)\n",
    "plt.plot(x1, 0.8*x1,'-.g',lw=2.5,alpha=0.7)\n",
    "\n",
    "plt.ylim(0, 4000)\n",
    "plt.xlim(0, 4000)\n",
    "plt.legend(loc='upper left',fontsize = 25)\n",
    "\n",
    "plt.grid()\n",
    "\n",
    "ax1.spines['left'].set_color('black')        # setting up Y-axis tick color to red\n",
    "ax1.spines['bottom'].set_color('black')         #setting up above X-axis tick color to red\n",
    "\n",
    "\n",
    "\n",
    "#ax1.annotate(\"$R^2$ = {:.3f}\".format(r2), (2500, 1000),fontsize = 25)  #Model is called here\n",
    "#ax1.annotate(\"Adj.$R^2$ = {:.3f}\".format(adj_r2), (2500, 750),fontsize = 25)\n",
    "\n",
    "#plt.savefig('plot1.png', dpi = 600, bbox_inches = 'tight')"
   ]
  },
  {
   "cell_type": "code",
   "execution_count": 23,
   "metadata": {},
   "outputs": [
    {
     "data": {
      "image/png": "[encoded data removed]",
      "text/plain": [
       "<Figure size 648x648 with 1 Axes>"
      ]
     },
     "metadata": {
      "needs_background": "light"
     },
     "output_type": "display_data"
    }
   ],
   "source": [
    "# Initialize layout\n",
    "fig2, bx = plt.subplots(figsize = (9, 9))\n",
    "\n",
    "\n",
    "\n",
    "# Add scatterplot\n",
    "bx.scatter(y_test, y_pred, s=70, alpha=1, edgecolors=\"k\",c='mediumblue',zorder=5, label = 'Points')\n",
    "\n",
    "\n",
    "\n",
    "\n",
    "plt.ylabel('Predicted Peak Incident Pressure (kPa)',fontsize = 25)\n",
    "plt.xlabel('Actual Peak Incident Pressure (kPa)',fontsize = 25)\n",
    "plt.xticks(fontsize = 19)\n",
    "plt.yticks(fontsize = 19)\n",
    "\n",
    "\n",
    "\n",
    "x1 = np.linspace(0,500)\n",
    "\n",
    "plt.plot(x1, x1, 'Red', label='45\\N{DEGREE SIGN} line',lw=2.5,alpha=1)\n",
    "plt.plot(x1, 1.1*x1, '--m', label='\\u00B110% Error',lw=2.5,alpha=0.7) #\\u00B1\n",
    "plt.plot(x1, 0.9*x1,'m', linestyle='--',lw=2.5,alpha=0.7)\n",
    "plt.plot(x1, 1.2*x1, '-.g', label='\\u00B120% Error',lw=2.5,alpha=0.7)\n",
    "plt.plot(x1, 0.8*x1,'-.g',lw=2.5,alpha=0.7)\n",
    "\n",
    "plt.ylim(0, 500)\n",
    "plt.xlim(0, 500)\n",
    "plt.legend(loc='upper left',fontsize = 25)\n",
    "\n",
    "plt.grid()\n",
    "\n",
    "bx.spines['left'].set_color('black')        # setting up Y-axis tick color to red\n",
    "bx.spines['bottom'].set_color('black')         #setting up above X-axis tick color to red\n",
    "\n",
    "\n",
    "#plt.savefig('plot1.png', dpi = 600, bbox_inches = 'tight')"
   ]
  },
  {
   "cell_type": "code",
   "execution_count": 24,
   "metadata": {},
   "outputs": [
    {
     "name": "stdout",
     "output_type": "stream",
     "text": [
      "14/14 [==============================] - 0s 2ms/step\n",
      "9.550658949265786\n",
      "6.802162126020948\n"
     ]
    }
   ],
   "source": [
    "# metrics\n",
    "\n",
    "\n",
    "trainpreds = ann.predict(X_train)\n",
    "\n",
    "from sklearn.metrics import mean_absolute_error\n",
    "print(mean_absolute_error(y_train, trainpreds)) # train\n",
    "print(mean_absolute_error(y_test, y_pred)) # test"
   ]
  },
  {
   "cell_type": "code",
   "execution_count": 25,
   "metadata": {},
   "outputs": [
    {
     "name": "stdout",
     "output_type": "stream",
     "text": [
      "0.999747745837481\n"
     ]
    }
   ],
   "source": [
    "from sklearn.metrics import r2_score\n",
    "r2 = r2_score(y_test, y_pred)\n",
    "print (r2)"
   ]
  },
  {
   "cell_type": "code",
   "execution_count": 26,
   "metadata": {},
   "outputs": [
    {
     "name": "stdout",
     "output_type": "stream",
     "text": [
      "0.9995899630054741\n"
     ]
    }
   ],
   "source": [
    "r2_train = r2_score(y_train, trainpreds)\n",
    "print (r2_train)"
   ]
  },
  {
   "cell_type": "code",
   "execution_count": 27,
   "metadata": {},
   "outputs": [
    {
     "name": "stdout",
     "output_type": "stream",
     "text": [
      "Within 10% margin 97.27%\n",
      "Within 20% margin 100.00%\n",
      "Out of 20% margin 0.00%\n"
     ]
    }
   ],
   "source": [
    "count1 = 0\n",
    "for i in range(len(y_pred)):\n",
    "    line1 = y_pred[i] - 0.9*y_test[i]\n",
    "    line2 = y_pred[i] - 1.1*y_test[i]\n",
    "    #print ('line 1 ', line1)\n",
    "    #print ('line 2 ', line2)\n",
    "    mask1 = (line1 > 0) & (line2 < 0)\n",
    "    #print (mask)\n",
    "    count1 = np.sum(mask1+count1)\n",
    "    #print (count)\n",
    "\n",
    "count2 = 0\n",
    "for j in range(len(y_pred)):\n",
    "    line3 = y_pred[j] - 0.8*y_test[j]\n",
    "    line4 = y_pred[j] - 1.2*y_test[j]\n",
    "    mask2 = (line3 > 0) & (line4 < 0)\n",
    "    count2 = np.sum(mask2+count2)\n",
    "\n",
    "\n",
    "count3 = 0    \n",
    "for k in range(len(y_pred)):\n",
    "    line5 = y_pred[k] - 0.8*y_test[k]\n",
    "    line6 = y_pred[k] - 1.2*y_test[k]\n",
    "    mask3 = (line5 < 0) or (line6 > 0)\n",
    "    count3 = np.sum(mask3+count3)\n",
    "   \n",
    "\n",
    "print ('Within 10% margin', format((count1/len (y_pred)),'.2%'))\n",
    "print ('Within 20% margin', format((count2/len (y_pred)),'.2%'))\n",
    "print ('Out of 20% margin', format((count3/len (y_pred)),'.2%'))"
   ]
  },
  {
   "cell_type": "code",
   "execution_count": 28,
   "metadata": {},
   "outputs": [
    {
     "name": "stdout",
     "output_type": "stream",
     "text": [
      "0.9997381361550993\n"
     ]
    }
   ],
   "source": [
    "adj_r2 = 1 - ((1 - r2) * (len(X_test) - 1) / (len(X_test) - len (X_test[0]) - 1))\n",
    "print (adj_r2)"
   ]
  },
  {
   "cell_type": "code",
   "execution_count": 29,
   "metadata": {},
   "outputs": [
    {
     "data": {
      "text/plain": [
       "10.656015386961986"
      ]
     },
     "execution_count": 29,
     "metadata": {},
     "output_type": "execute_result"
    }
   ],
   "source": [
    "import math\n",
    "from sklearn.metrics import mean_squared_error\n",
    "\n",
    "math.sqrt(mean_squared_error(y_test, y_pred))"
   ]
  },
  {
   "cell_type": "code",
   "execution_count": 30,
   "metadata": {},
   "outputs": [
    {
     "data": {
      "text/plain": [
       "6.802162126020948"
      ]
     },
     "execution_count": 30,
     "metadata": {},
     "output_type": "execute_result"
    }
   ],
   "source": [
    "from sklearn.metrics import mean_absolute_error\n",
    "\n",
    "mean_absolute_error(y_test, y_pred)"
   ]
  },
  {
   "cell_type": "code",
   "execution_count": 31,
   "metadata": {},
   "outputs": [
    {
     "ename": "ModuleNotFoundError",
     "evalue": "No module named 'ann_visualizer'",
     "output_type": "error",
     "traceback": [
      "\u001b[1;31m---------------------------------------------------------------------------\u001b[0m",
      "\u001b[1;31mModuleNotFoundError\u001b[0m                       Traceback (most recent call last)",
      "\u001b[1;32m~\\AppData\\Local\\Temp\\ipykernel_2412\\3367597011.py\u001b[0m in \u001b[0;36m<module>\u001b[1;34m\u001b[0m\n\u001b[1;32m----> 1\u001b[1;33m \u001b[1;32mfrom\u001b[0m \u001b[0mann_visualizer\u001b[0m\u001b[1;33m.\u001b[0m\u001b[0mvisualize\u001b[0m \u001b[1;32mimport\u001b[0m \u001b[0mann_viz\u001b[0m\u001b[1;33m;\u001b[0m\u001b[1;33m\u001b[0m\u001b[1;33m\u001b[0m\u001b[0m\n\u001b[0m\u001b[0;32m      2\u001b[0m \u001b[1;33m\u001b[0m\u001b[0m\n\u001b[0;32m      3\u001b[0m \u001b[0mann_viz\u001b[0m\u001b[1;33m(\u001b[0m\u001b[0mmodel\u001b[0m\u001b[1;33m,\u001b[0m \u001b[0mtitle\u001b[0m\u001b[1;33m=\u001b[0m\u001b[1;34m\"My first neural network\"\u001b[0m\u001b[1;33m)\u001b[0m\u001b[1;33m\u001b[0m\u001b[1;33m\u001b[0m\u001b[0m\n",
      "\u001b[1;31mModuleNotFoundError\u001b[0m: No module named 'ann_visualizer'"
     ]
    }
   ],
   "source": [
    "from ann_visualizer.visualize import ann_viz;\n",
    "\n",
    "ann_viz(model, title=\"My first neural network\")"
   ]
  }
 ],
 "metadata": {
  "colab": {
   "collapsed_sections": [],
   "name": "Artificial Neural Network",
   "provenance": [],
   "toc_visible": true
  },
  "kernelspec": {
   "display_name": "Python 3 (ipykernel)",
   "language": "python",
   "name": "python3"
  },
  "language_info": {
   "codemirror_mode": {
    "name": "ipython",
    "version": 3
   },
   "file_extension": ".py",
   "mimetype": "text/x-python",
   "name": "python",
   "nbconvert_exporter": "python",
   "pygments_lexer": "ipython3",
   "version": "3.9.7"
  }
 },
 "nbformat": 4,
 "nbformat_minor": 4
}
