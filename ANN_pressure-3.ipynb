{
 "cells": [
  {
   "cell_type": "markdown",
   "metadata": {
    "colab_type": "text",
    "id": "3cbb7fRy-eyr"
   },
   "source": [
    "# Artificial Neural Network"
   ]
  },
  {
   "cell_type": "markdown",
   "metadata": {
    "colab_type": "text",
    "id": "8sNDnxE2-pwE"
   },
   "source": [
    "### Importing the libraries"
   ]
  },
  {
   "cell_type": "code",
   "execution_count": 1,
   "metadata": {
    "colab": {},
    "colab_type": "code",
    "id": "lxChR1Rk-umf"
   },
   "outputs": [],
   "source": [
    "import numpy as np\n",
    "import pandas as pd\n",
    "import tensorflow as tf"
   ]
  },
  {
   "cell_type": "markdown",
   "metadata": {
    "colab_type": "text",
    "id": "AG3FQEch-yuA"
   },
   "source": [
    "## Part 1 - Data Preprocessing"
   ]
  },
  {
   "cell_type": "markdown",
   "metadata": {
    "colab_type": "text",
    "id": "-4zq8Mza_D9O"
   },
   "source": [
    "### Importing the dataset"
   ]
  },
  {
   "cell_type": "code",
   "execution_count": 2,
   "metadata": {
    "colab": {},
    "colab_type": "code",
    "id": "B9CV13Co_HHM"
   },
   "outputs": [
    {
     "name": "stdout",
     "output_type": "stream",
     "text": [
      "<class 'pandas.core.frame.DataFrame'>\n",
      "RangeIndex: 546 entries, 0 to 545\n",
      "Data columns (total 4 columns):\n",
      " #   Column             Non-Null Count  Dtype  \n",
      "---  ------             --------------  -----  \n",
      " 0   Charge_type        546 non-null    object \n",
      " 1   Charge_size        546 non-null    float64\n",
      " 2   Standoff_distance  546 non-null    float64\n",
      " 3   Incident_pressure  546 non-null    float64\n",
      "dtypes: float64(3), object(1)\n",
      "memory usage: 17.2+ KB\n"
     ]
    }
   ],
   "source": [
    "dataset = pd.read_excel('Dataset3.xlsx')\n",
    "dataset.info()"
   ]
  },
  {
   "cell_type": "code",
   "execution_count": 3,
   "metadata": {},
   "outputs": [
    {
     "name": "stdout",
     "output_type": "stream",
     "text": [
      "<class 'pandas.core.frame.DataFrame'>\n",
      "RangeIndex: 546 entries, 0 to 545\n",
      "Data columns (total 5 columns):\n",
      " #   Column             Non-Null Count  Dtype  \n",
      "---  ------             --------------  -----  \n",
      " 0   Charge_size        546 non-null    float64\n",
      " 1   Standoff_distance  546 non-null    float64\n",
      " 2   Incident_pressure  546 non-null    float64\n",
      " 3   Charge_type_CompB  546 non-null    uint8  \n",
      " 4   Charge_type_TNT    546 non-null    uint8  \n",
      "dtypes: float64(3), uint8(2)\n",
      "memory usage: 14.0 KB\n"
     ]
    }
   ],
   "source": [
    "# convert categorical variable into dummy variables\n",
    "dataset = pd.get_dummies(dataset, columns=['Charge_type'])\n",
    "dataset.info()"
   ]
  },
  {
   "cell_type": "code",
   "execution_count": 4,
   "metadata": {},
   "outputs": [
    {
     "data": {
      "text/html": [
       "<div>\n",
       "<style scoped>\n",
       "    .dataframe tbody tr th:only-of-type {\n",
       "        vertical-align: middle;\n",
       "    }\n",
       "\n",
       "    .dataframe tbody tr th {\n",
       "        vertical-align: top;\n",
       "    }\n",
       "\n",
       "    .dataframe thead th {\n",
       "        text-align: right;\n",
       "    }\n",
       "</style>\n",
       "<table border=\"1\" class=\"dataframe\">\n",
       "  <thead>\n",
       "    <tr style=\"text-align: right;\">\n",
       "      <th></th>\n",
       "      <th>Charge_size</th>\n",
       "      <th>Standoff_distance</th>\n",
       "      <th>Incident_pressure</th>\n",
       "      <th>Charge_type_CompB</th>\n",
       "      <th>Charge_type_TNT</th>\n",
       "    </tr>\n",
       "  </thead>\n",
       "  <tbody>\n",
       "    <tr>\n",
       "      <th>0</th>\n",
       "      <td>0.5</td>\n",
       "      <td>1.5</td>\n",
       "      <td>283.258</td>\n",
       "      <td>0</td>\n",
       "      <td>1</td>\n",
       "    </tr>\n",
       "    <tr>\n",
       "      <th>1</th>\n",
       "      <td>0.5</td>\n",
       "      <td>2.5</td>\n",
       "      <td>163.904</td>\n",
       "      <td>0</td>\n",
       "      <td>1</td>\n",
       "    </tr>\n",
       "    <tr>\n",
       "      <th>2</th>\n",
       "      <td>0.5</td>\n",
       "      <td>3.5</td>\n",
       "      <td>135.678</td>\n",
       "      <td>0</td>\n",
       "      <td>1</td>\n",
       "    </tr>\n",
       "    <tr>\n",
       "      <th>3</th>\n",
       "      <td>0.5</td>\n",
       "      <td>4.5</td>\n",
       "      <td>124.039</td>\n",
       "      <td>0</td>\n",
       "      <td>1</td>\n",
       "    </tr>\n",
       "    <tr>\n",
       "      <th>4</th>\n",
       "      <td>0.5</td>\n",
       "      <td>5.5</td>\n",
       "      <td>117.856</td>\n",
       "      <td>0</td>\n",
       "      <td>1</td>\n",
       "    </tr>\n",
       "  </tbody>\n",
       "</table>\n",
       "</div>"
      ],
      "text/plain": [
       "   Charge_size  Standoff_distance  Incident_pressure  Charge_type_CompB  \\\n",
       "0          0.5                1.5            283.258                  0   \n",
       "1          0.5                2.5            163.904                  0   \n",
       "2          0.5                3.5            135.678                  0   \n",
       "3          0.5                4.5            124.039                  0   \n",
       "4          0.5                5.5            117.856                  0   \n",
       "\n",
       "   Charge_type_TNT  \n",
       "0                1  \n",
       "1                1  \n",
       "2                1  \n",
       "3                1  \n",
       "4                1  "
      ]
     },
     "execution_count": 4,
     "metadata": {},
     "output_type": "execute_result"
    }
   ],
   "source": [
    "dataset.head()"
   ]
  },
  {
   "cell_type": "code",
   "execution_count": 5,
   "metadata": {},
   "outputs": [
    {
     "name": "stdout",
     "output_type": "stream",
     "text": [
      "(546, 4) (546,)\n"
     ]
    }
   ],
   "source": [
    "y = dataset['Incident_pressure']\n",
    "X = dataset.drop('Incident_pressure', axis=1)\n",
    "print(X.shape, y.shape)"
   ]
  },
  {
   "cell_type": "code",
   "execution_count": 6,
   "metadata": {},
   "outputs": [],
   "source": [
    "# convert to numpy array\n",
    "X = np.array(X)\n",
    "y = np.array(y)"
   ]
  },
  {
   "cell_type": "code",
   "execution_count": 4,
   "metadata": {},
   "outputs": [],
   "source": [
    "from sklearn.compose import ColumnTransformer\n",
    "from sklearn.preprocessing import OneHotEncoder\n",
    "ct = ColumnTransformer(transformers=[('encoder', OneHotEncoder(), [0])],\n",
    "                       remainder='passthrough')\n",
    "X = np.array(ct.fit_transform(X))"
   ]
  },
  {
   "cell_type": "markdown",
   "metadata": {
    "colab_type": "text",
    "id": "VC6omXel_Up0"
   },
   "source": [
    "### Splitting the dataset into the Training set and Test set"
   ]
  },
  {
   "cell_type": "code",
   "execution_count": 7,
   "metadata": {
    "colab": {},
    "colab_type": "code",
    "id": "L5edeb2r_agx"
   },
   "outputs": [],
   "source": [
    "from sklearn.model_selection import train_test_split\n",
    "X_train, X_test, y_train, y_test = train_test_split(X, y, test_size = 0.2, random_state = 0)"
   ]
  },
  {
   "cell_type": "markdown",
   "metadata": {
    "colab_type": "text",
    "id": "_mSLlAT9_eyI"
   },
   "source": [
    "## Part 2 - Building the ANN"
   ]
  },
  {
   "cell_type": "markdown",
   "metadata": {
    "colab_type": "text",
    "id": "CsBULd_f_wLY"
   },
   "source": [
    "### Initializing the ANN"
   ]
  },
  {
   "cell_type": "code",
   "execution_count": 8,
   "metadata": {
    "colab": {},
    "colab_type": "code",
    "id": "J6Hd97Ls__Nz"
   },
   "outputs": [],
   "source": [
    "ann = tf.keras.models.Sequential()"
   ]
  },
  {
   "cell_type": "markdown",
   "metadata": {
    "colab_type": "text",
    "id": "iitAFJS_ABUn"
   },
   "source": [
    "### Adding the input layer and the first hidden layer"
   ]
  },
  {
   "cell_type": "code",
   "execution_count": 9,
   "metadata": {
    "colab": {},
    "colab_type": "code",
    "id": "ksO_Vv40AHix"
   },
   "outputs": [],
   "source": [
    "ann.add(tf.keras.layers.Dense(units=300, input_shape=(X_train.shape[1],), activation='softplus'))"
   ]
  },
  {
   "cell_type": "markdown",
   "metadata": {
    "colab_type": "text",
    "id": "-lb4kK_wAKbs"
   },
   "source": [
    "### Adding the second hidden layer"
   ]
  },
  {
   "cell_type": "code",
   "execution_count": 10,
   "metadata": {
    "colab": {},
    "colab_type": "code",
    "id": "c2357OqEAQOQ",
    "tags": []
   },
   "outputs": [],
   "source": [
    "ann.add(tf.keras.layers.Dense(units=175, activation='softplus'))"
   ]
  },
  {
   "cell_type": "markdown",
   "metadata": {
    "colab_type": "text",
    "id": "-lb4kK_wAKbs"
   },
   "source": [
    "### Adding the third hidden layer"
   ]
  },
  {
   "cell_type": "code",
   "execution_count": 11,
   "metadata": {
    "colab": {},
    "colab_type": "code",
    "id": "c2357OqEAQOQ",
    "tags": []
   },
   "outputs": [],
   "source": [
    "ann.add(tf.keras.layers.Dense(units=50, activation='softplus'))"
   ]
  },
  {
   "cell_type": "markdown",
   "metadata": {
    "colab_type": "text",
    "id": "jwMOmKb3AdBY"
   },
   "source": [
    "### Adding the output layer"
   ]
  },
  {
   "cell_type": "code",
   "execution_count": 12,
   "metadata": {
    "colab": {},
    "colab_type": "code",
    "id": "YFATpzsUAkLL"
   },
   "outputs": [],
   "source": [
    "ann.add(tf.keras.layers.Dense(units=1, activation='linear'))"
   ]
  },
  {
   "cell_type": "markdown",
   "metadata": {},
   "source": [
    "### what model looks like"
   ]
  },
  {
   "cell_type": "code",
   "execution_count": 13,
   "metadata": {},
   "outputs": [
    {
     "name": "stdout",
     "output_type": "stream",
     "text": [
      "Model: \"sequential\"\n",
      "_________________________________________________________________\n",
      " Layer (type)                Output Shape              Param #   \n",
      "=================================================================\n",
      " dense (Dense)               (None, 300)               1500      \n",
      "                                                                 \n",
      " dense_1 (Dense)             (None, 175)               52675     \n",
      "                                                                 \n",
      " dense_2 (Dense)             (None, 50)                8800      \n",
      "                                                                 \n",
      " dense_3 (Dense)             (None, 1)                 51        \n",
      "                                                                 \n",
      "=================================================================\n",
      "Total params: 63,026\n",
      "Trainable params: 63,026\n",
      "Non-trainable params: 0\n",
      "_________________________________________________________________\n"
     ]
    }
   ],
   "source": [
    "ann.summary()"
   ]
  },
  {
   "cell_type": "markdown",
   "metadata": {
    "colab_type": "text",
    "id": "fq7e4fF6A1yy"
   },
   "source": [
    "## Part 3 - Training the ANN"
   ]
  },
  {
   "cell_type": "markdown",
   "metadata": {
    "colab_type": "text",
    "id": "qDeylAs2An25"
   },
   "source": [
    "### Compiling the ANN"
   ]
  },
  {
   "cell_type": "code",
   "execution_count": 14,
   "metadata": {
    "colab": {},
    "colab_type": "code",
    "id": "pesgbWlCAtB4"
   },
   "outputs": [],
   "source": [
    "from tensorflow.keras.optimizers import Adam\n",
    "opt = Adam(learning_rate=0.001)\n",
    "ann.compile(optimizer = opt, loss = 'mean_squared_error', metrics = ['mae'])"
   ]
  },
  {
   "cell_type": "markdown",
   "metadata": {},
   "source": [
    "### early stopping callback"
   ]
  },
  {
   "cell_type": "code",
   "execution_count": 15,
   "metadata": {},
   "outputs": [],
   "source": [
    "# protects from unnecessary further training of the model if a particular metric does not continue to improve over a number of n epochs. In such a case, the model training would be automatically aborted.\n",
    "from keras.callbacks import EarlyStopping\n",
    "es = EarlyStopping(monitor='val_loss',\n",
    "                   mode='min',\n",
    "                   patience=50,\n",
    "                   restore_best_weights = True)"
   ]
  },
  {
   "cell_type": "markdown",
   "metadata": {
    "colab_type": "text",
    "id": "YjVuiybYOo7r"
   },
   "source": [
    "### Training the ANN model on the Training set"
   ]
  },
  {
   "cell_type": "code",
   "execution_count": 16,
   "metadata": {
    "colab": {
     "base_uri": "https://localhost:8080/",
     "height": 1000
    },
    "colab_type": "code",
    "id": "c_vV-tiiA5zn",
    "outputId": "4a2b6ee6-ed75-4698-9069-b250e613803f"
   },
   "outputs": [
    {
     "name": "stdout",
     "output_type": "stream",
     "text": [
      "Epoch 1/400\n",
      "9/9 [==============================] - 1s 37ms/step - loss: 1251545.1250 - mae: 420.2290 - val_loss: 532506.1875 - val_mae: 285.9736\n",
      "Epoch 2/400\n",
      "9/9 [==============================] - 0s 7ms/step - loss: 1226807.3750 - mae: 392.5032 - val_loss: 512434.7188 - val_mae: 245.4465\n",
      "Epoch 3/400\n",
      "9/9 [==============================] - 0s 8ms/step - loss: 1189967.3750 - mae: 340.0203 - val_loss: 482397.1875 - val_mae: 202.5699\n",
      "Epoch 4/400\n",
      "9/9 [==============================] - 0s 8ms/step - loss: 1138443.3750 - mae: 343.3315 - val_loss: 462303.0625 - val_mae: 275.2253\n",
      "Epoch 5/400\n",
      "9/9 [==============================] - 0s 7ms/step - loss: 1083045.1250 - mae: 416.1001 - val_loss: 463067.1250 - val_mae: 346.4159\n",
      "Epoch 6/400\n",
      "9/9 [==============================] - 0s 8ms/step - loss: 1065439.8750 - mae: 476.5859 - val_loss: 458690.7188 - val_mae: 370.7009\n",
      "Epoch 7/400\n",
      "9/9 [==============================] - 0s 8ms/step - loss: 1029695.5625 - mae: 454.3210 - val_loss: 432212.3125 - val_mae: 325.5741\n",
      "Epoch 8/400\n",
      "9/9 [==============================] - 0s 8ms/step - loss: 997896.7500 - mae: 442.0354 - val_loss: 419942.5312 - val_mae: 331.0914\n",
      "Epoch 9/400\n",
      "9/9 [==============================] - 0s 8ms/step - loss: 960984.9375 - mae: 434.3611 - val_loss: 405258.7500 - val_mae: 325.4152\n",
      "Epoch 10/400\n",
      "9/9 [==============================] - 0s 8ms/step - loss: 924668.1250 - mae: 436.3790 - val_loss: 390855.0938 - val_mae: 320.0851\n",
      "Epoch 11/400\n",
      "9/9 [==============================] - 0s 7ms/step - loss: 881876.1875 - mae: 426.3488 - val_loss: 372091.7500 - val_mae: 304.3952\n",
      "Epoch 12/400\n",
      "9/9 [==============================] - 0s 7ms/step - loss: 836463.6875 - mae: 405.0669 - val_loss: 347059.8438 - val_mae: 275.0071\n",
      "Epoch 13/400\n",
      "9/9 [==============================] - 0s 7ms/step - loss: 788440.3750 - mae: 370.9607 - val_loss: 325498.6562 - val_mae: 250.9123\n",
      "Epoch 14/400\n",
      "9/9 [==============================] - 0s 7ms/step - loss: 745621.3125 - mae: 369.3680 - val_loss: 316146.2500 - val_mae: 263.7475\n",
      "Epoch 15/400\n",
      "9/9 [==============================] - 0s 7ms/step - loss: 692520.3750 - mae: 358.7034 - val_loss: 295199.8750 - val_mae: 253.4658\n",
      "Epoch 16/400\n",
      "9/9 [==============================] - 0s 8ms/step - loss: 656014.0625 - mae: 358.6717 - val_loss: 282119.7188 - val_mae: 257.4541\n",
      "Epoch 17/400\n",
      "9/9 [==============================] - 0s 8ms/step - loss: 607709.5000 - mae: 343.2524 - val_loss: 260863.5312 - val_mae: 245.7091\n",
      "Epoch 18/400\n",
      "9/9 [==============================] - 0s 7ms/step - loss: 560396.9375 - mae: 312.3631 - val_loss: 238067.1250 - val_mae: 227.7641\n",
      "Epoch 19/400\n",
      "9/9 [==============================] - 0s 7ms/step - loss: 529156.3750 - mae: 307.9785 - val_loss: 230517.7031 - val_mae: 235.4371\n",
      "Epoch 20/400\n",
      "9/9 [==============================] - 0s 7ms/step - loss: 482965.0000 - mae: 297.3026 - val_loss: 204952.9531 - val_mae: 209.4675\n",
      "Epoch 21/400\n",
      "9/9 [==============================] - 0s 7ms/step - loss: 452364.8438 - mae: 284.9911 - val_loss: 190482.7656 - val_mae: 197.4775\n",
      "Epoch 22/400\n",
      "9/9 [==============================] - 0s 8ms/step - loss: 413521.0312 - mae: 265.9797 - val_loss: 173803.4219 - val_mae: 170.1641\n",
      "Epoch 23/400\n",
      "9/9 [==============================] - 0s 6ms/step - loss: 383322.5312 - mae: 242.3905 - val_loss: 162925.1406 - val_mae: 147.4453\n",
      "Epoch 24/400\n",
      "9/9 [==============================] - 0s 8ms/step - loss: 348724.1875 - mae: 214.0355 - val_loss: 139360.9062 - val_mae: 123.9108\n",
      "Epoch 25/400\n",
      "9/9 [==============================] - 0s 7ms/step - loss: 322079.5938 - mae: 195.8248 - val_loss: 127516.3203 - val_mae: 119.4306\n",
      "Epoch 26/400\n",
      "9/9 [==============================] - 0s 7ms/step - loss: 294428.7188 - mae: 196.9069 - val_loss: 123287.9609 - val_mae: 126.0423\n",
      "Epoch 27/400\n",
      "9/9 [==============================] - 0s 7ms/step - loss: 276474.7500 - mae: 193.0478 - val_loss: 108402.0391 - val_mae: 114.7605\n",
      "Epoch 28/400\n",
      "9/9 [==============================] - 0s 7ms/step - loss: 265881.7188 - mae: 186.9384 - val_loss: 100312.7891 - val_mae: 113.1975\n",
      "Epoch 29/400\n",
      "9/9 [==============================] - 0s 7ms/step - loss: 241324.7812 - mae: 172.1364 - val_loss: 88342.2031 - val_mae: 97.3535\n",
      "Epoch 30/400\n",
      "9/9 [==============================] - 0s 7ms/step - loss: 226921.8281 - mae: 166.8008 - val_loss: 81820.3906 - val_mae: 100.5496\n",
      "Epoch 31/400\n",
      "9/9 [==============================] - 0s 7ms/step - loss: 205941.3594 - mae: 160.9054 - val_loss: 74491.8516 - val_mae: 88.8791\n",
      "Epoch 32/400\n",
      "9/9 [==============================] - 0s 7ms/step - loss: 196773.2188 - mae: 157.4119 - val_loss: 67644.6094 - val_mae: 89.7911\n",
      "Epoch 33/400\n",
      "9/9 [==============================] - 0s 7ms/step - loss: 185210.9844 - mae: 150.0331 - val_loss: 67055.6484 - val_mae: 81.2338\n",
      "Epoch 34/400\n",
      "9/9 [==============================] - 0s 7ms/step - loss: 165613.9844 - mae: 143.9943 - val_loss: 56921.8984 - val_mae: 79.9837\n",
      "Epoch 35/400\n",
      "9/9 [==============================] - 0s 7ms/step - loss: 163578.4062 - mae: 146.1302 - val_loss: 52204.2578 - val_mae: 74.6610\n",
      "Epoch 36/400\n",
      "9/9 [==============================] - 0s 11ms/step - loss: 152570.5625 - mae: 136.0718 - val_loss: 62961.9492 - val_mae: 82.5261\n",
      "Epoch 37/400\n",
      "9/9 [==============================] - 0s 7ms/step - loss: 139379.9688 - mae: 129.4373 - val_loss: 48962.3711 - val_mae: 71.6243\n",
      "Epoch 38/400\n",
      "9/9 [==============================] - 0s 8ms/step - loss: 135610.7812 - mae: 132.1823 - val_loss: 42705.5195 - val_mae: 65.3648\n",
      "Epoch 39/400\n",
      "9/9 [==============================] - 0s 8ms/step - loss: 126686.7578 - mae: 126.2077 - val_loss: 42248.8555 - val_mae: 67.1209\n",
      "Epoch 40/400\n",
      "9/9 [==============================] - 0s 7ms/step - loss: 120003.6797 - mae: 117.7632 - val_loss: 44247.7031 - val_mae: 70.3078\n",
      "Epoch 41/400\n",
      "9/9 [==============================] - 0s 6ms/step - loss: 117068.8594 - mae: 120.6591 - val_loss: 35579.5586 - val_mae: 61.2536\n",
      "Epoch 42/400\n",
      "9/9 [==============================] - 0s 7ms/step - loss: 104335.5938 - mae: 111.4933 - val_loss: 43168.4062 - val_mae: 69.1794\n",
      "Epoch 43/400\n",
      "9/9 [==============================] - 0s 7ms/step - loss: 99374.6406 - mae: 108.1221 - val_loss: 32514.4902 - val_mae: 60.7120\n",
      "Epoch 44/400\n",
      "9/9 [==============================] - 0s 7ms/step - loss: 94035.6094 - mae: 105.6867 - val_loss: 34872.6992 - val_mae: 63.1440\n",
      "Epoch 45/400\n",
      "9/9 [==============================] - 0s 7ms/step - loss: 88559.3125 - mae: 100.7188 - val_loss: 33264.6445 - val_mae: 60.7406\n",
      "Epoch 46/400\n",
      "9/9 [==============================] - 0s 7ms/step - loss: 82572.1719 - mae: 97.9213 - val_loss: 30297.6543 - val_mae: 57.0391\n",
      "Epoch 47/400\n",
      "9/9 [==============================] - 0s 7ms/step - loss: 82841.5859 - mae: 96.5348 - val_loss: 25326.3906 - val_mae: 55.1409\n",
      "Epoch 48/400\n",
      "9/9 [==============================] - 0s 7ms/step - loss: 74996.2812 - mae: 93.0022 - val_loss: 29170.1211 - val_mae: 57.3797\n",
      "Epoch 49/400\n",
      "9/9 [==============================] - 0s 6ms/step - loss: 73711.5703 - mae: 91.5459 - val_loss: 29269.2441 - val_mae: 57.2574\n",
      "Epoch 50/400\n",
      "9/9 [==============================] - 0s 7ms/step - loss: 68664.5938 - mae: 88.8766 - val_loss: 21742.2598 - val_mae: 51.4297\n",
      "Epoch 51/400\n",
      "9/9 [==============================] - 0s 6ms/step - loss: 66177.3828 - mae: 87.4378 - val_loss: 29026.2559 - val_mae: 59.0963\n",
      "Epoch 52/400\n",
      "9/9 [==============================] - 0s 8ms/step - loss: 64025.5312 - mae: 85.2114 - val_loss: 25194.6934 - val_mae: 54.8790\n",
      "Epoch 53/400\n",
      "9/9 [==============================] - 0s 7ms/step - loss: 60625.6250 - mae: 83.7409 - val_loss: 22016.3730 - val_mae: 49.8431\n",
      "Epoch 54/400\n",
      "9/9 [==============================] - 0s 6ms/step - loss: 58560.3242 - mae: 80.7192 - val_loss: 21166.1543 - val_mae: 48.8553\n",
      "Epoch 55/400\n",
      "9/9 [==============================] - 0s 7ms/step - loss: 57278.9922 - mae: 79.2364 - val_loss: 22794.2461 - val_mae: 50.3767\n",
      "Epoch 56/400\n",
      "9/9 [==============================] - 0s 7ms/step - loss: 60792.5156 - mae: 80.7945 - val_loss: 19831.9590 - val_mae: 49.5886\n",
      "Epoch 57/400\n",
      "9/9 [==============================] - 0s 7ms/step - loss: 62853.5430 - mae: 84.6980 - val_loss: 24565.3359 - val_mae: 52.2315\n",
      "Epoch 58/400\n",
      "9/9 [==============================] - 0s 8ms/step - loss: 46249.3594 - mae: 75.3795 - val_loss: 15253.9307 - val_mae: 45.2807\n",
      "Epoch 59/400\n",
      "9/9 [==============================] - 0s 6ms/step - loss: 55400.4297 - mae: 80.2409 - val_loss: 20871.8516 - val_mae: 54.3414\n",
      "Epoch 60/400\n",
      "9/9 [==============================] - 0s 6ms/step - loss: 47460.5820 - mae: 75.3354 - val_loss: 20224.4902 - val_mae: 49.8859\n",
      "Epoch 61/400\n",
      "9/9 [==============================] - 0s 6ms/step - loss: 47430.8711 - mae: 74.2667 - val_loss: 18954.9551 - val_mae: 47.4009\n",
      "Epoch 62/400\n",
      "9/9 [==============================] - 0s 6ms/step - loss: 44390.5156 - mae: 72.9651 - val_loss: 18737.4492 - val_mae: 46.0552\n",
      "Epoch 63/400\n",
      "9/9 [==============================] - 0s 11ms/step - loss: 46467.7422 - mae: 72.2727 - val_loss: 19241.5098 - val_mae: 46.2339\n",
      "Epoch 64/400\n",
      "9/9 [==============================] - 0s 7ms/step - loss: 48155.8594 - mae: 69.8939 - val_loss: 13039.6318 - val_mae: 45.5976\n",
      "Epoch 65/400\n",
      "9/9 [==============================] - 0s 7ms/step - loss: 41362.6836 - mae: 70.5761 - val_loss: 24497.3145 - val_mae: 53.1314\n",
      "Epoch 66/400\n",
      "9/9 [==============================] - 0s 7ms/step - loss: 41872.6641 - mae: 72.0074 - val_loss: 15910.0137 - val_mae: 43.1754\n",
      "Epoch 67/400\n",
      "9/9 [==============================] - 0s 6ms/step - loss: 39140.3398 - mae: 68.2344 - val_loss: 13559.5859 - val_mae: 42.5114\n",
      "Epoch 68/400\n",
      "9/9 [==============================] - 0s 7ms/step - loss: 40506.1562 - mae: 65.9170 - val_loss: 18130.0195 - val_mae: 46.0782\n",
      "Epoch 69/400\n",
      "9/9 [==============================] - 0s 7ms/step - loss: 37579.3516 - mae: 64.0547 - val_loss: 13081.1270 - val_mae: 40.9812\n",
      "Epoch 70/400\n",
      "9/9 [==============================] - 0s 9ms/step - loss: 40811.1094 - mae: 68.1779 - val_loss: 15057.2598 - val_mae: 42.2421\n",
      "Epoch 71/400\n",
      "9/9 [==============================] - 0s 7ms/step - loss: 37392.7266 - mae: 62.9670 - val_loss: 11432.4932 - val_mae: 40.3542\n",
      "Epoch 72/400\n",
      "9/9 [==============================] - 0s 6ms/step - loss: 41229.9180 - mae: 68.7390 - val_loss: 17980.0156 - val_mae: 46.4964\n",
      "Epoch 73/400\n",
      "9/9 [==============================] - 0s 7ms/step - loss: 34485.1133 - mae: 63.1621 - val_loss: 9985.5205 - val_mae: 38.5634\n",
      "Epoch 74/400\n",
      "9/9 [==============================] - 0s 12ms/step - loss: 34454.4414 - mae: 61.6280 - val_loss: 18676.4844 - val_mae: 52.8770\n",
      "Epoch 75/400\n",
      "9/9 [==============================] - 0s 12ms/step - loss: 38443.9688 - mae: 69.0407 - val_loss: 17462.8105 - val_mae: 52.0947\n",
      "Epoch 76/400\n",
      "9/9 [==============================] - 0s 10ms/step - loss: 36136.9453 - mae: 65.1345 - val_loss: 9675.9912 - val_mae: 44.2246\n",
      "Epoch 77/400\n",
      "9/9 [==============================] - 0s 7ms/step - loss: 34674.9219 - mae: 69.9436 - val_loss: 18811.9824 - val_mae: 49.9255\n",
      "Epoch 78/400\n",
      "9/9 [==============================] - 0s 7ms/step - loss: 31767.2852 - mae: 64.6235 - val_loss: 9358.4639 - val_mae: 40.4807\n",
      "Epoch 79/400\n",
      "9/9 [==============================] - 0s 9ms/step - loss: 31606.7988 - mae: 59.9955 - val_loss: 17218.1094 - val_mae: 54.7309\n",
      "Epoch 80/400\n",
      "9/9 [==============================] - 0s 9ms/step - loss: 35462.3477 - mae: 66.7262 - val_loss: 13389.0654 - val_mae: 44.8915\n",
      "Epoch 81/400\n",
      "9/9 [==============================] - 0s 8ms/step - loss: 32528.3320 - mae: 61.1942 - val_loss: 12147.4609 - val_mae: 42.0252\n",
      "Epoch 82/400\n",
      "9/9 [==============================] - 0s 7ms/step - loss: 29704.5508 - mae: 61.9168 - val_loss: 13042.1641 - val_mae: 41.3726\n",
      "Epoch 83/400\n",
      "9/9 [==============================] - 0s 7ms/step - loss: 27975.0000 - mae: 56.4211 - val_loss: 10861.0928 - val_mae: 38.3252\n",
      "Epoch 84/400\n",
      "9/9 [==============================] - 0s 8ms/step - loss: 30439.9160 - mae: 59.3725 - val_loss: 11330.6895 - val_mae: 38.7635\n",
      "Epoch 85/400\n",
      "9/9 [==============================] - 0s 11ms/step - loss: 32403.5957 - mae: 56.1110 - val_loss: 12749.3340 - val_mae: 41.1310\n",
      "Epoch 86/400\n",
      "9/9 [==============================] - 0s 10ms/step - loss: 27249.5547 - mae: 57.0165 - val_loss: 11913.8125 - val_mae: 39.3495\n",
      "Epoch 87/400\n",
      "9/9 [==============================] - 0s 7ms/step - loss: 26755.3730 - mae: 54.6984 - val_loss: 9937.7637 - val_mae: 36.4535\n",
      "Epoch 88/400\n",
      "9/9 [==============================] - 0s 6ms/step - loss: 25664.7617 - mae: 52.8528 - val_loss: 11009.1387 - val_mae: 37.8232\n",
      "Epoch 89/400\n",
      "9/9 [==============================] - 0s 6ms/step - loss: 25810.7344 - mae: 54.9915 - val_loss: 10947.4180 - val_mae: 37.1977\n",
      "Epoch 90/400\n",
      "9/9 [==============================] - 0s 7ms/step - loss: 25650.3203 - mae: 52.3837 - val_loss: 11681.3818 - val_mae: 39.7110\n",
      "Epoch 91/400\n",
      "9/9 [==============================] - 0s 9ms/step - loss: 25304.5000 - mae: 54.9235 - val_loss: 9117.5547 - val_mae: 35.2405\n",
      "Epoch 92/400\n",
      "9/9 [==============================] - 0s 11ms/step - loss: 23640.3906 - mae: 51.0267 - val_loss: 11569.3408 - val_mae: 38.1965\n",
      "Epoch 93/400\n",
      "9/9 [==============================] - 0s 10ms/step - loss: 24759.4922 - mae: 55.0389 - val_loss: 12160.0264 - val_mae: 38.6338\n",
      "Epoch 94/400\n",
      "9/9 [==============================] - 0s 6ms/step - loss: 30552.2148 - mae: 57.3026 - val_loss: 9371.4189 - val_mae: 36.8780\n",
      "Epoch 95/400\n",
      "9/9 [==============================] - 0s 6ms/step - loss: 23809.1562 - mae: 56.1373 - val_loss: 10237.4814 - val_mae: 35.5450\n",
      "Epoch 96/400\n",
      "9/9 [==============================] - 0s 6ms/step - loss: 26926.4336 - mae: 53.6540 - val_loss: 11106.9980 - val_mae: 37.5833\n",
      "Epoch 97/400\n",
      "9/9 [==============================] - 0s 6ms/step - loss: 22051.8105 - mae: 51.9563 - val_loss: 10377.2158 - val_mae: 35.4353\n",
      "Epoch 98/400\n",
      "9/9 [==============================] - 0s 6ms/step - loss: 21695.2090 - mae: 48.5418 - val_loss: 7712.9927 - val_mae: 31.8628\n",
      "Epoch 99/400\n",
      "9/9 [==============================] - 0s 6ms/step - loss: 20101.0645 - mae: 48.0208 - val_loss: 9781.7207 - val_mae: 35.0793\n",
      "Epoch 100/400\n",
      "9/9 [==============================] - 0s 6ms/step - loss: 19904.6934 - mae: 47.3323 - val_loss: 9530.3477 - val_mae: 34.2497\n",
      "Epoch 101/400\n",
      "9/9 [==============================] - 0s 7ms/step - loss: 19622.5527 - mae: 47.9872 - val_loss: 8564.2656 - val_mae: 32.8307\n",
      "Epoch 102/400\n",
      "9/9 [==============================] - 0s 6ms/step - loss: 19590.7402 - mae: 46.5789 - val_loss: 8160.1055 - val_mae: 32.3380\n",
      "Epoch 103/400\n",
      "9/9 [==============================] - 0s 6ms/step - loss: 19864.6465 - mae: 48.2048 - val_loss: 7815.5479 - val_mae: 30.8200\n",
      "Epoch 104/400\n",
      "9/9 [==============================] - 0s 7ms/step - loss: 18532.1465 - mae: 45.2630 - val_loss: 8385.2832 - val_mae: 32.4479\n",
      "Epoch 105/400\n",
      "9/9 [==============================] - 0s 6ms/step - loss: 17745.7188 - mae: 45.3411 - val_loss: 8718.1680 - val_mae: 33.3411\n",
      "Epoch 106/400\n",
      "9/9 [==============================] - 0s 7ms/step - loss: 18461.3691 - mae: 44.6943 - val_loss: 7633.6899 - val_mae: 30.9693\n",
      "Epoch 107/400\n",
      "9/9 [==============================] - 0s 6ms/step - loss: 19180.1738 - mae: 47.1339 - val_loss: 9872.7480 - val_mae: 34.6358\n",
      "Epoch 108/400\n",
      "9/9 [==============================] - 0s 7ms/step - loss: 19365.9629 - mae: 44.7573 - val_loss: 5322.0532 - val_mae: 31.5619\n",
      "Epoch 109/400\n",
      "9/9 [==============================] - 0s 9ms/step - loss: 15222.0986 - mae: 43.7732 - val_loss: 10993.3594 - val_mae: 37.4292\n",
      "Epoch 110/400\n",
      "9/9 [==============================] - 0s 12ms/step - loss: 19610.3184 - mae: 48.4752 - val_loss: 5941.2397 - val_mae: 31.8347\n",
      "Epoch 111/400\n",
      "9/9 [==============================] - 0s 9ms/step - loss: 16803.0117 - mae: 44.7589 - val_loss: 7078.9771 - val_mae: 35.8180\n",
      "Epoch 112/400\n",
      "9/9 [==============================] - 0s 6ms/step - loss: 15768.1992 - mae: 44.0284 - val_loss: 7628.8638 - val_mae: 31.9466\n",
      "Epoch 113/400\n",
      "9/9 [==============================] - 0s 7ms/step - loss: 15216.5615 - mae: 42.1755 - val_loss: 6398.3462 - val_mae: 30.1752\n",
      "Epoch 114/400\n",
      "9/9 [==============================] - 0s 6ms/step - loss: 14782.1553 - mae: 43.1345 - val_loss: 7599.0908 - val_mae: 31.9796\n",
      "Epoch 115/400\n",
      "9/9 [==============================] - 0s 6ms/step - loss: 16131.8145 - mae: 43.3877 - val_loss: 7212.7954 - val_mae: 31.8567\n",
      "Epoch 116/400\n",
      "9/9 [==============================] - 0s 6ms/step - loss: 13795.2168 - mae: 41.7800 - val_loss: 7214.5688 - val_mae: 30.6814\n",
      "Epoch 117/400\n",
      "9/9 [==============================] - 0s 9ms/step - loss: 14964.5391 - mae: 41.2132 - val_loss: 6943.4131 - val_mae: 30.6675\n",
      "Epoch 118/400\n",
      "9/9 [==============================] - 0s 6ms/step - loss: 13145.1982 - mae: 39.3268 - val_loss: 5395.8545 - val_mae: 27.1521\n",
      "Epoch 119/400\n",
      "9/9 [==============================] - 0s 7ms/step - loss: 12803.0283 - mae: 38.4316 - val_loss: 6145.0034 - val_mae: 29.1598\n",
      "Epoch 120/400\n",
      "9/9 [==============================] - 0s 6ms/step - loss: 12294.9941 - mae: 37.7388 - val_loss: 4972.7373 - val_mae: 26.6917\n",
      "Epoch 121/400\n",
      "9/9 [==============================] - 0s 7ms/step - loss: 12050.2686 - mae: 37.7826 - val_loss: 6795.2417 - val_mae: 30.0551\n",
      "Epoch 122/400\n",
      "9/9 [==============================] - 0s 6ms/step - loss: 11734.9463 - mae: 36.4580 - val_loss: 4289.2612 - val_mae: 24.9490\n",
      "Epoch 123/400\n",
      "9/9 [==============================] - 0s 6ms/step - loss: 11976.6963 - mae: 37.7598 - val_loss: 5022.6553 - val_mae: 26.2069\n",
      "Epoch 124/400\n",
      "9/9 [==============================] - 0s 6ms/step - loss: 11089.0410 - mae: 35.9838 - val_loss: 4573.8428 - val_mae: 25.6192\n",
      "Epoch 125/400\n",
      "9/9 [==============================] - 0s 6ms/step - loss: 11002.3184 - mae: 36.7318 - val_loss: 5055.3335 - val_mae: 26.4832\n",
      "Epoch 126/400\n",
      "9/9 [==============================] - 0s 6ms/step - loss: 10930.2842 - mae: 36.0513 - val_loss: 6675.9849 - val_mae: 30.0269\n",
      "Epoch 127/400\n",
      "9/9 [==============================] - 0s 5ms/step - loss: 11080.9160 - mae: 35.9983 - val_loss: 3177.8416 - val_mae: 23.4102\n",
      "Epoch 128/400\n",
      "9/9 [==============================] - 0s 6ms/step - loss: 9478.9756 - mae: 34.1373 - val_loss: 5602.9976 - val_mae: 28.2953\n",
      "Epoch 129/400\n",
      "9/9 [==============================] - 0s 5ms/step - loss: 9966.1465 - mae: 35.4163 - val_loss: 3229.9143 - val_mae: 24.7439\n",
      "Epoch 130/400\n",
      "9/9 [==============================] - 0s 6ms/step - loss: 10551.7578 - mae: 36.1059 - val_loss: 5198.7881 - val_mae: 32.0691\n",
      "Epoch 131/400\n",
      "9/9 [==============================] - 0s 5ms/step - loss: 10591.1992 - mae: 39.7131 - val_loss: 3581.1011 - val_mae: 27.0461\n",
      "Epoch 132/400\n",
      "9/9 [==============================] - 0s 6ms/step - loss: 12574.7920 - mae: 40.5385 - val_loss: 7045.4526 - val_mae: 37.5749\n",
      "Epoch 133/400\n",
      "9/9 [==============================] - 0s 5ms/step - loss: 11978.8828 - mae: 42.6641 - val_loss: 3521.1726 - val_mae: 27.5192\n",
      "Epoch 134/400\n",
      "9/9 [==============================] - 0s 6ms/step - loss: 10096.5332 - mae: 37.0909 - val_loss: 5005.7681 - val_mae: 30.3113\n",
      "Epoch 135/400\n",
      "9/9 [==============================] - 0s 6ms/step - loss: 8921.6035 - mae: 33.5869 - val_loss: 2751.7935 - val_mae: 21.8820\n",
      "Epoch 136/400\n",
      "9/9 [==============================] - 0s 6ms/step - loss: 8948.3867 - mae: 34.3781 - val_loss: 2935.1870 - val_mae: 22.5671\n",
      "Epoch 137/400\n",
      "9/9 [==============================] - 0s 6ms/step - loss: 9123.3076 - mae: 35.0298 - val_loss: 2903.2295 - val_mae: 22.0173\n",
      "Epoch 138/400\n",
      "9/9 [==============================] - 0s 6ms/step - loss: 7643.6743 - mae: 31.0638 - val_loss: 3181.2085 - val_mae: 23.6031\n",
      "Epoch 139/400\n",
      "9/9 [==============================] - 0s 6ms/step - loss: 7692.8345 - mae: 32.7455 - val_loss: 2747.6167 - val_mae: 21.9702\n",
      "Epoch 140/400\n",
      "9/9 [==============================] - 0s 6ms/step - loss: 10515.8184 - mae: 35.6870 - val_loss: 5572.3579 - val_mae: 33.2462\n",
      "Epoch 141/400\n",
      "9/9 [==============================] - 0s 6ms/step - loss: 7659.3794 - mae: 35.6558 - val_loss: 3021.0393 - val_mae: 25.6999\n",
      "Epoch 142/400\n",
      "9/9 [==============================] - 0s 5ms/step - loss: 7255.5684 - mae: 33.7638 - val_loss: 3419.0393 - val_mae: 27.8237\n",
      "Epoch 143/400\n",
      "9/9 [==============================] - 0s 6ms/step - loss: 6767.6616 - mae: 33.8365 - val_loss: 1945.0018 - val_mae: 20.0878\n",
      "Epoch 144/400\n",
      "9/9 [==============================] - 0s 6ms/step - loss: 5740.6733 - mae: 28.6180 - val_loss: 2775.7239 - val_mae: 22.8207\n",
      "Epoch 145/400\n",
      "9/9 [==============================] - 0s 7ms/step - loss: 5525.4727 - mae: 28.5298 - val_loss: 1996.2145 - val_mae: 19.5008\n",
      "Epoch 146/400\n",
      "9/9 [==============================] - 0s 5ms/step - loss: 5222.6016 - mae: 27.9080 - val_loss: 3487.6106 - val_mae: 24.1552\n",
      "Epoch 147/400\n",
      "9/9 [==============================] - 0s 7ms/step - loss: 5084.9634 - mae: 27.3943 - val_loss: 1254.3339 - val_mae: 18.3850\n",
      "Epoch 148/400\n",
      "9/9 [==============================] - 0s 6ms/step - loss: 5827.2275 - mae: 27.4969 - val_loss: 2869.2324 - val_mae: 24.7639\n",
      "Epoch 149/400\n",
      "9/9 [==============================] - 0s 6ms/step - loss: 4609.4585 - mae: 27.5139 - val_loss: 1793.0886 - val_mae: 19.9889\n",
      "Epoch 150/400\n",
      "9/9 [==============================] - 0s 5ms/step - loss: 4656.0669 - mae: 26.3067 - val_loss: 2340.6797 - val_mae: 22.8603\n",
      "Epoch 151/400\n",
      "9/9 [==============================] - 0s 6ms/step - loss: 4218.5869 - mae: 26.0334 - val_loss: 1484.3101 - val_mae: 18.2152\n",
      "Epoch 152/400\n",
      "9/9 [==============================] - 0s 6ms/step - loss: 4093.7339 - mae: 25.1264 - val_loss: 1766.5875 - val_mae: 19.4961\n",
      "Epoch 153/400\n",
      "9/9 [==============================] - 0s 6ms/step - loss: 4318.3950 - mae: 26.7102 - val_loss: 1427.7917 - val_mae: 18.2585\n",
      "Epoch 154/400\n",
      "9/9 [==============================] - 0s 6ms/step - loss: 4150.0312 - mae: 25.4627 - val_loss: 2218.0552 - val_mae: 21.8157\n",
      "Epoch 155/400\n",
      "9/9 [==============================] - 0s 6ms/step - loss: 3976.6316 - mae: 26.3581 - val_loss: 1183.7755 - val_mae: 17.5353\n",
      "Epoch 156/400\n",
      "9/9 [==============================] - 0s 6ms/step - loss: 3827.3181 - mae: 24.6351 - val_loss: 2005.4299 - val_mae: 21.0389\n",
      "Epoch 157/400\n",
      "9/9 [==============================] - 0s 6ms/step - loss: 3326.5725 - mae: 23.2696 - val_loss: 1087.5161 - val_mae: 16.1251\n",
      "Epoch 158/400\n",
      "9/9 [==============================] - 0s 6ms/step - loss: 3339.8633 - mae: 23.0373 - val_loss: 1327.5209 - val_mae: 16.9928\n",
      "Epoch 159/400\n",
      "9/9 [==============================] - 0s 6ms/step - loss: 3116.8721 - mae: 22.9837 - val_loss: 1317.7864 - val_mae: 17.0818\n",
      "Epoch 160/400\n",
      "9/9 [==============================] - 0s 6ms/step - loss: 3057.8206 - mae: 22.0776 - val_loss: 1536.5382 - val_mae: 18.1373\n",
      "Epoch 161/400\n",
      "9/9 [==============================] - 0s 6ms/step - loss: 3336.7734 - mae: 23.8164 - val_loss: 1081.4050 - val_mae: 16.8492\n",
      "Epoch 162/400\n",
      "9/9 [==============================] - 0s 6ms/step - loss: 3960.0303 - mae: 25.2305 - val_loss: 1711.2944 - val_mae: 23.0686\n",
      "Epoch 163/400\n",
      "9/9 [==============================] - 0s 6ms/step - loss: 2935.5823 - mae: 25.4898 - val_loss: 952.4268 - val_mae: 19.7267\n",
      "Epoch 164/400\n",
      "9/9 [==============================] - 0s 6ms/step - loss: 3567.0496 - mae: 24.5876 - val_loss: 1790.2632 - val_mae: 24.9086\n",
      "Epoch 165/400\n",
      "9/9 [==============================] - 0s 6ms/step - loss: 2895.0576 - mae: 24.9055 - val_loss: 737.1757 - val_mae: 16.8971\n",
      "Epoch 166/400\n",
      "9/9 [==============================] - 0s 6ms/step - loss: 2837.2627 - mae: 23.9771 - val_loss: 1972.7654 - val_mae: 22.1821\n",
      "Epoch 167/400\n",
      "9/9 [==============================] - 0s 9ms/step - loss: 2568.7341 - mae: 22.9133 - val_loss: 723.9045 - val_mae: 16.2894\n",
      "Epoch 168/400\n",
      "9/9 [==============================] - 0s 7ms/step - loss: 2996.4487 - mae: 23.8163 - val_loss: 2990.6956 - val_mae: 25.7514\n",
      "Epoch 169/400\n",
      "9/9 [==============================] - 0s 7ms/step - loss: 3150.1067 - mae: 23.2739 - val_loss: 647.5938 - val_mae: 14.0093\n",
      "Epoch 170/400\n",
      "9/9 [==============================] - 0s 8ms/step - loss: 2236.6360 - mae: 20.5121 - val_loss: 1354.1793 - val_mae: 17.3539\n",
      "Epoch 171/400\n",
      "9/9 [==============================] - 0s 6ms/step - loss: 2639.0867 - mae: 21.7275 - val_loss: 1090.5878 - val_mae: 17.4592\n",
      "Epoch 172/400\n",
      "9/9 [==============================] - 0s 8ms/step - loss: 2884.8435 - mae: 23.6504 - val_loss: 827.5736 - val_mae: 16.9388\n",
      "Epoch 173/400\n",
      "9/9 [==============================] - 0s 6ms/step - loss: 3262.1189 - mae: 23.1170 - val_loss: 2182.1677 - val_mae: 24.6416\n",
      "Epoch 174/400\n",
      "9/9 [==============================] - 0s 7ms/step - loss: 3913.6638 - mae: 26.8936 - val_loss: 761.9267 - val_mae: 19.6483\n",
      "Epoch 175/400\n",
      "9/9 [==============================] - 0s 8ms/step - loss: 3478.2205 - mae: 26.3013 - val_loss: 2292.4788 - val_mae: 26.6018\n",
      "Epoch 176/400\n",
      "9/9 [==============================] - 0s 7ms/step - loss: 2370.8755 - mae: 23.5870 - val_loss: 622.2562 - val_mae: 16.8707\n",
      "Epoch 177/400\n",
      "9/9 [==============================] - 0s 6ms/step - loss: 2406.7627 - mae: 22.4103 - val_loss: 1855.7935 - val_mae: 25.1467\n",
      "Epoch 178/400\n",
      "9/9 [==============================] - 0s 6ms/step - loss: 3132.1819 - mae: 24.6418 - val_loss: 728.5941 - val_mae: 20.2943\n",
      "Epoch 179/400\n",
      "9/9 [==============================] - 0s 5ms/step - loss: 3171.4937 - mae: 25.8653 - val_loss: 1793.4402 - val_mae: 25.4522\n",
      "Epoch 180/400\n",
      "9/9 [==============================] - 0s 7ms/step - loss: 2420.2139 - mae: 23.1955 - val_loss: 699.2294 - val_mae: 16.6541\n",
      "Epoch 181/400\n",
      "9/9 [==============================] - 0s 5ms/step - loss: 1665.4580 - mae: 19.7159 - val_loss: 954.0109 - val_mae: 17.7341\n",
      "Epoch 182/400\n",
      "9/9 [==============================] - 0s 9ms/step - loss: 1769.6118 - mae: 18.2843 - val_loss: 877.6033 - val_mae: 16.2291\n",
      "Epoch 183/400\n",
      "9/9 [==============================] - 0s 7ms/step - loss: 1945.6743 - mae: 19.2419 - val_loss: 543.5268 - val_mae: 14.0278\n",
      "Epoch 184/400\n",
      "9/9 [==============================] - 0s 6ms/step - loss: 1699.2395 - mae: 18.2555 - val_loss: 1025.7681 - val_mae: 17.4006\n",
      "Epoch 185/400\n",
      "9/9 [==============================] - 0s 6ms/step - loss: 1608.9550 - mae: 18.7497 - val_loss: 557.6924 - val_mae: 14.4137\n",
      "Epoch 186/400\n",
      "9/9 [==============================] - 0s 6ms/step - loss: 1575.4879 - mae: 17.9669 - val_loss: 1053.7172 - val_mae: 17.8988\n",
      "Epoch 187/400\n",
      "9/9 [==============================] - 0s 5ms/step - loss: 1609.5199 - mae: 18.3422 - val_loss: 668.9293 - val_mae: 15.5911\n",
      "Epoch 188/400\n",
      "9/9 [==============================] - 0s 8ms/step - loss: 1525.2489 - mae: 17.2826 - val_loss: 747.7977 - val_mae: 15.6764\n",
      "Epoch 189/400\n",
      "9/9 [==============================] - 0s 7ms/step - loss: 1305.2411 - mae: 16.4844 - val_loss: 771.7248 - val_mae: 15.6081\n",
      "Epoch 190/400\n",
      "9/9 [==============================] - 0s 7ms/step - loss: 1609.5420 - mae: 17.6819 - val_loss: 559.5323 - val_mae: 13.9922\n",
      "Epoch 191/400\n",
      "9/9 [==============================] - 0s 5ms/step - loss: 1775.6467 - mae: 17.7166 - val_loss: 1164.4854 - val_mae: 18.5599\n",
      "Epoch 192/400\n",
      "9/9 [==============================] - 0s 7ms/step - loss: 1598.5717 - mae: 18.4996 - val_loss: 572.9578 - val_mae: 15.2547\n",
      "Epoch 193/400\n",
      "9/9 [==============================] - 0s 5ms/step - loss: 1297.2897 - mae: 17.5676 - val_loss: 1127.9669 - val_mae: 18.8445\n",
      "Epoch 194/400\n",
      "9/9 [==============================] - 0s 6ms/step - loss: 1464.9590 - mae: 17.3690 - val_loss: 887.9462 - val_mae: 16.1702\n",
      "Epoch 195/400\n",
      "9/9 [==============================] - 0s 8ms/step - loss: 1237.8842 - mae: 15.6705 - val_loss: 617.3450 - val_mae: 14.2337\n",
      "Epoch 196/400\n",
      "9/9 [==============================] - 0s 7ms/step - loss: 1156.8518 - mae: 15.5504 - val_loss: 776.3815 - val_mae: 15.3068\n",
      "Epoch 197/400\n",
      "9/9 [==============================] - 0s 6ms/step - loss: 1221.5372 - mae: 15.6812 - val_loss: 592.9685 - val_mae: 14.3905\n",
      "Epoch 198/400\n",
      "9/9 [==============================] - 0s 7ms/step - loss: 1452.1351 - mae: 17.3974 - val_loss: 1258.1364 - val_mae: 19.3290\n",
      "Epoch 199/400\n",
      "9/9 [==============================] - 0s 6ms/step - loss: 1720.5940 - mae: 18.4934 - val_loss: 571.0900 - val_mae: 15.3801\n",
      "Epoch 200/400\n",
      "9/9 [==============================] - 0s 7ms/step - loss: 1492.0653 - mae: 18.1690 - val_loss: 1066.7295 - val_mae: 17.6433\n",
      "Epoch 201/400\n",
      "9/9 [==============================] - 0s 5ms/step - loss: 1103.9368 - mae: 16.0042 - val_loss: 666.3013 - val_mae: 14.7197\n",
      "Epoch 202/400\n",
      "9/9 [==============================] - 0s 6ms/step - loss: 1090.4155 - mae: 15.1579 - val_loss: 775.5958 - val_mae: 15.4976\n",
      "Epoch 203/400\n",
      "9/9 [==============================] - 0s 6ms/step - loss: 1070.4159 - mae: 15.1009 - val_loss: 656.6757 - val_mae: 14.4590\n",
      "Epoch 204/400\n",
      "9/9 [==============================] - 0s 6ms/step - loss: 1018.8378 - mae: 14.5605 - val_loss: 775.3011 - val_mae: 15.1625\n",
      "Epoch 205/400\n",
      "9/9 [==============================] - 0s 6ms/step - loss: 1004.4269 - mae: 14.6239 - val_loss: 665.4714 - val_mae: 14.2870\n",
      "Epoch 206/400\n",
      "9/9 [==============================] - 0s 12ms/step - loss: 1328.0594 - mae: 16.3854 - val_loss: 1327.7883 - val_mae: 17.7275\n",
      "Epoch 207/400\n",
      "9/9 [==============================] - 0s 6ms/step - loss: 1182.7766 - mae: 15.7306 - val_loss: 551.5910 - val_mae: 13.7004\n",
      "Epoch 208/400\n",
      "9/9 [==============================] - 0s 6ms/step - loss: 1029.7711 - mae: 14.8084 - val_loss: 746.1803 - val_mae: 14.8424\n",
      "Epoch 209/400\n",
      "9/9 [==============================] - 0s 7ms/step - loss: 985.7769 - mae: 14.7976 - val_loss: 723.7231 - val_mae: 14.8799\n",
      "Epoch 210/400\n",
      "9/9 [==============================] - 0s 6ms/step - loss: 1013.2585 - mae: 14.7333 - val_loss: 544.3184 - val_mae: 13.7109\n",
      "Epoch 211/400\n",
      "9/9 [==============================] - 0s 9ms/step - loss: 1054.6792 - mae: 14.9013 - val_loss: 1160.9110 - val_mae: 16.9794\n",
      "Epoch 212/400\n",
      "9/9 [==============================] - 0s 5ms/step - loss: 1246.5594 - mae: 16.3028 - val_loss: 582.6921 - val_mae: 13.3750\n",
      "Epoch 213/400\n",
      "9/9 [==============================] - 0s 6ms/step - loss: 1228.8025 - mae: 15.9782 - val_loss: 616.7062 - val_mae: 14.3328\n",
      "Epoch 214/400\n",
      "9/9 [==============================] - 0s 5ms/step - loss: 921.1736 - mae: 15.1223 - val_loss: 724.0717 - val_mae: 15.3017\n",
      "Epoch 215/400\n",
      "9/9 [==============================] - 0s 6ms/step - loss: 949.0267 - mae: 14.5861 - val_loss: 596.2800 - val_mae: 14.9099\n",
      "Epoch 216/400\n",
      "9/9 [==============================] - 0s 7ms/step - loss: 1173.4344 - mae: 16.1381 - val_loss: 1227.9415 - val_mae: 18.2177\n",
      "Epoch 217/400\n",
      "9/9 [==============================] - 0s 6ms/step - loss: 988.0562 - mae: 14.9563 - val_loss: 493.8982 - val_mae: 13.0454\n",
      "Epoch 218/400\n",
      "9/9 [==============================] - 0s 7ms/step - loss: 1030.1661 - mae: 15.2046 - val_loss: 1328.7117 - val_mae: 17.0338\n",
      "Epoch 219/400\n",
      "9/9 [==============================] - 0s 6ms/step - loss: 1079.7404 - mae: 15.5628 - val_loss: 481.5456 - val_mae: 12.0835\n",
      "Epoch 220/400\n",
      "9/9 [==============================] - 0s 6ms/step - loss: 964.9802 - mae: 15.7962 - val_loss: 1171.5565 - val_mae: 16.6328\n",
      "Epoch 221/400\n",
      "9/9 [==============================] - 0s 5ms/step - loss: 1271.4277 - mae: 16.7437 - val_loss: 490.4978 - val_mae: 12.5183\n",
      "Epoch 222/400\n",
      "9/9 [==============================] - 0s 7ms/step - loss: 1082.9668 - mae: 16.3444 - val_loss: 740.5613 - val_mae: 16.3128\n",
      "Epoch 223/400\n",
      "9/9 [==============================] - 0s 6ms/step - loss: 1048.0509 - mae: 16.8732 - val_loss: 1040.4191 - val_mae: 19.1240\n",
      "Epoch 224/400\n",
      "9/9 [==============================] - 0s 6ms/step - loss: 921.9190 - mae: 15.3532 - val_loss: 580.4055 - val_mae: 14.6868\n",
      "Epoch 225/400\n",
      "9/9 [==============================] - 0s 6ms/step - loss: 1000.5776 - mae: 15.6878 - val_loss: 967.4754 - val_mae: 17.3405\n",
      "Epoch 226/400\n",
      "9/9 [==============================] - 0s 8ms/step - loss: 817.9493 - mae: 14.0825 - val_loss: 572.6453 - val_mae: 13.7576\n",
      "Epoch 227/400\n",
      "9/9 [==============================] - 0s 7ms/step - loss: 878.9805 - mae: 14.0697 - val_loss: 549.3272 - val_mae: 13.0349\n",
      "Epoch 228/400\n",
      "9/9 [==============================] - 0s 8ms/step - loss: 872.5188 - mae: 14.5088 - val_loss: 780.4542 - val_mae: 14.9851\n",
      "Epoch 229/400\n",
      "9/9 [==============================] - 0s 6ms/step - loss: 850.6073 - mae: 13.4912 - val_loss: 497.3650 - val_mae: 12.8180\n",
      "Epoch 230/400\n",
      "9/9 [==============================] - 0s 6ms/step - loss: 907.2310 - mae: 14.6589 - val_loss: 1112.3153 - val_mae: 17.5242\n",
      "Epoch 231/400\n",
      "9/9 [==============================] - 0s 6ms/step - loss: 1318.4525 - mae: 16.7022 - val_loss: 566.3922 - val_mae: 14.6291\n",
      "Epoch 232/400\n",
      "9/9 [==============================] - 0s 5ms/step - loss: 1356.2974 - mae: 18.6616 - val_loss: 1375.7440 - val_mae: 20.3975\n",
      "Epoch 233/400\n",
      "9/9 [==============================] - 0s 6ms/step - loss: 1550.1149 - mae: 18.3082 - val_loss: 485.3335 - val_mae: 12.7039\n",
      "Epoch 234/400\n",
      "9/9 [==============================] - 0s 5ms/step - loss: 853.5240 - mae: 15.2246 - val_loss: 552.8981 - val_mae: 13.2003\n",
      "Epoch 235/400\n",
      "9/9 [==============================] - 0s 7ms/step - loss: 875.3130 - mae: 14.5905 - val_loss: 636.3086 - val_mae: 14.0258\n",
      "Epoch 236/400\n",
      "9/9 [==============================] - 0s 5ms/step - loss: 754.0472 - mae: 13.4525 - val_loss: 586.5338 - val_mae: 13.5707\n",
      "Epoch 237/400\n",
      "9/9 [==============================] - 0s 6ms/step - loss: 693.3525 - mae: 12.7692 - val_loss: 559.9101 - val_mae: 13.0137\n",
      "Epoch 238/400\n",
      "9/9 [==============================] - 0s 6ms/step - loss: 756.3019 - mae: 12.8722 - val_loss: 833.6636 - val_mae: 14.7474\n",
      "Epoch 239/400\n",
      "9/9 [==============================] - 0s 7ms/step - loss: 1036.0635 - mae: 14.6982 - val_loss: 516.0676 - val_mae: 12.1911\n",
      "Epoch 240/400\n",
      "9/9 [==============================] - 0s 6ms/step - loss: 823.5684 - mae: 13.1262 - val_loss: 493.4311 - val_mae: 12.3888\n",
      "Epoch 241/400\n",
      "9/9 [==============================] - 0s 6ms/step - loss: 841.2352 - mae: 13.8585 - val_loss: 721.8135 - val_mae: 14.1403\n",
      "Epoch 242/400\n",
      "9/9 [==============================] - 0s 6ms/step - loss: 722.3459 - mae: 12.6125 - val_loss: 435.3552 - val_mae: 11.8903\n",
      "Epoch 243/400\n",
      "9/9 [==============================] - 0s 5ms/step - loss: 753.8356 - mae: 12.7944 - val_loss: 624.1212 - val_mae: 13.1467\n",
      "Epoch 244/400\n",
      "9/9 [==============================] - 0s 6ms/step - loss: 715.7991 - mae: 12.3442 - val_loss: 444.8477 - val_mae: 11.6820\n",
      "Epoch 245/400\n",
      "9/9 [==============================] - 0s 12ms/step - loss: 884.5525 - mae: 13.0604 - val_loss: 567.9146 - val_mae: 12.4197\n",
      "Epoch 246/400\n",
      "9/9 [==============================] - 0s 7ms/step - loss: 1178.8192 - mae: 14.3058 - val_loss: 2403.6909 - val_mae: 20.3961\n",
      "Epoch 247/400\n",
      "9/9 [==============================] - 0s 6ms/step - loss: 2924.2776 - mae: 22.2435 - val_loss: 883.1938 - val_mae: 13.6398\n",
      "Epoch 248/400\n",
      "9/9 [==============================] - 0s 7ms/step - loss: 1647.4989 - mae: 18.4390 - val_loss: 737.1979 - val_mae: 13.7440\n",
      "Epoch 249/400\n",
      "9/9 [==============================] - 0s 6ms/step - loss: 877.6647 - mae: 15.2411 - val_loss: 473.5662 - val_mae: 13.8172\n",
      "Epoch 250/400\n",
      "9/9 [==============================] - 0s 9ms/step - loss: 804.9209 - mae: 14.5785 - val_loss: 478.7791 - val_mae: 14.1459\n",
      "Epoch 251/400\n",
      "9/9 [==============================] - 0s 5ms/step - loss: 936.8669 - mae: 14.3885 - val_loss: 1427.5483 - val_mae: 18.0427\n",
      "Epoch 252/400\n",
      "9/9 [==============================] - 0s 7ms/step - loss: 1417.6909 - mae: 16.0029 - val_loss: 426.4317 - val_mae: 11.3607\n",
      "Epoch 253/400\n",
      "9/9 [==============================] - 0s 5ms/step - loss: 910.3842 - mae: 13.5931 - val_loss: 545.8932 - val_mae: 12.4619\n",
      "Epoch 254/400\n",
      "9/9 [==============================] - 0s 7ms/step - loss: 809.7855 - mae: 14.2971 - val_loss: 733.5298 - val_mae: 15.9564\n",
      "Epoch 255/400\n",
      "9/9 [==============================] - 0s 5ms/step - loss: 820.3634 - mae: 14.3151 - val_loss: 498.5549 - val_mae: 14.4151\n",
      "Epoch 256/400\n",
      "9/9 [==============================] - 0s 6ms/step - loss: 717.4765 - mae: 12.9684 - val_loss: 483.5623 - val_mae: 11.9929\n",
      "Epoch 257/400\n",
      "9/9 [==============================] - 0s 6ms/step - loss: 661.9757 - mae: 12.2504 - val_loss: 581.0483 - val_mae: 12.5941\n",
      "Epoch 258/400\n",
      "9/9 [==============================] - 0s 6ms/step - loss: 614.9001 - mae: 11.6684 - val_loss: 423.4426 - val_mae: 11.2128\n",
      "Epoch 259/400\n",
      "9/9 [==============================] - 0s 6ms/step - loss: 802.7997 - mae: 12.6991 - val_loss: 544.8275 - val_mae: 12.2037\n",
      "Epoch 260/400\n",
      "9/9 [==============================] - 0s 6ms/step - loss: 754.7468 - mae: 12.7092 - val_loss: 708.5358 - val_mae: 13.7977\n",
      "Epoch 261/400\n",
      "9/9 [==============================] - 0s 6ms/step - loss: 693.4157 - mae: 12.7035 - val_loss: 498.8665 - val_mae: 11.7686\n",
      "Epoch 262/400\n",
      "9/9 [==============================] - 0s 5ms/step - loss: 639.7763 - mae: 11.7812 - val_loss: 492.9590 - val_mae: 11.8135\n",
      "Epoch 263/400\n",
      "9/9 [==============================] - 0s 7ms/step - loss: 680.1212 - mae: 12.2273 - val_loss: 994.0757 - val_mae: 14.5909\n",
      "Epoch 264/400\n",
      "9/9 [==============================] - 0s 6ms/step - loss: 1115.4639 - mae: 14.5805 - val_loss: 396.8946 - val_mae: 10.0818\n",
      "Epoch 265/400\n",
      "9/9 [==============================] - 0s 6ms/step - loss: 773.5195 - mae: 13.6070 - val_loss: 594.2121 - val_mae: 13.4679\n",
      "Epoch 266/400\n",
      "9/9 [==============================] - 0s 6ms/step - loss: 703.3375 - mae: 13.6829 - val_loss: 545.2485 - val_mae: 14.6029\n",
      "Epoch 267/400\n",
      "9/9 [==============================] - 0s 6ms/step - loss: 581.7219 - mae: 12.5160 - val_loss: 446.6453 - val_mae: 12.8562\n",
      "Epoch 268/400\n",
      "9/9 [==============================] - 0s 7ms/step - loss: 619.1016 - mae: 11.9431 - val_loss: 416.9109 - val_mae: 11.1429\n",
      "Epoch 269/400\n",
      "9/9 [==============================] - 0s 8ms/step - loss: 561.8895 - mae: 11.2552 - val_loss: 642.9264 - val_mae: 12.5679\n",
      "Epoch 270/400\n",
      "9/9 [==============================] - 0s 8ms/step - loss: 724.7974 - mae: 11.7291 - val_loss: 381.3159 - val_mae: 10.2234\n",
      "Epoch 271/400\n",
      "9/9 [==============================] - 0s 5ms/step - loss: 912.8474 - mae: 13.0483 - val_loss: 391.4457 - val_mae: 11.0014\n",
      "Epoch 272/400\n",
      "9/9 [==============================] - 0s 7ms/step - loss: 1219.8347 - mae: 14.6665 - val_loss: 1462.6115 - val_mae: 15.5115\n",
      "Epoch 273/400\n",
      "9/9 [==============================] - 0s 5ms/step - loss: 1671.3815 - mae: 16.6823 - val_loss: 542.0046 - val_mae: 14.0212\n",
      "Epoch 274/400\n",
      "9/9 [==============================] - 0s 7ms/step - loss: 1004.1760 - mae: 14.8476 - val_loss: 430.8247 - val_mae: 11.7020\n",
      "Epoch 275/400\n",
      "9/9 [==============================] - 0s 8ms/step - loss: 827.9576 - mae: 13.2117 - val_loss: 411.1408 - val_mae: 11.0344\n",
      "Epoch 276/400\n",
      "9/9 [==============================] - 0s 10ms/step - loss: 771.0346 - mae: 12.6836 - val_loss: 625.8146 - val_mae: 13.1753\n",
      "Epoch 277/400\n",
      "9/9 [==============================] - 0s 9ms/step - loss: 552.0286 - mae: 11.7247 - val_loss: 405.4532 - val_mae: 10.9025\n",
      "Epoch 278/400\n",
      "9/9 [==============================] - 0s 8ms/step - loss: 512.2745 - mae: 10.8638 - val_loss: 590.9129 - val_mae: 12.2742\n",
      "Epoch 279/400\n",
      "9/9 [==============================] - 0s 7ms/step - loss: 590.1768 - mae: 11.6669 - val_loss: 475.5289 - val_mae: 11.5536\n",
      "Epoch 280/400\n",
      "9/9 [==============================] - 0s 7ms/step - loss: 588.9421 - mae: 11.5750 - val_loss: 395.6987 - val_mae: 10.8417\n",
      "Epoch 281/400\n",
      "9/9 [==============================] - 0s 6ms/step - loss: 535.4304 - mae: 11.1482 - val_loss: 443.2400 - val_mae: 11.1040\n",
      "Epoch 282/400\n",
      "9/9 [==============================] - 0s 7ms/step - loss: 532.0687 - mae: 10.8754 - val_loss: 899.8163 - val_mae: 13.4665\n",
      "Epoch 283/400\n",
      "9/9 [==============================] - 0s 11ms/step - loss: 1119.5050 - mae: 13.6211 - val_loss: 396.3548 - val_mae: 10.0826\n",
      "Epoch 284/400\n",
      "9/9 [==============================] - 0s 7ms/step - loss: 634.5157 - mae: 12.3408 - val_loss: 463.2985 - val_mae: 12.5348\n",
      "Epoch 285/400\n",
      "9/9 [==============================] - 0s 6ms/step - loss: 704.6090 - mae: 13.1748 - val_loss: 906.7384 - val_mae: 15.7094\n",
      "Epoch 286/400\n",
      "9/9 [==============================] - 0s 6ms/step - loss: 675.6542 - mae: 13.2035 - val_loss: 406.8846 - val_mae: 10.8469\n",
      "Epoch 287/400\n",
      "9/9 [==============================] - 0s 7ms/step - loss: 672.6872 - mae: 11.8100 - val_loss: 404.9605 - val_mae: 10.7186\n",
      "Epoch 288/400\n",
      "9/9 [==============================] - 0s 6ms/step - loss: 977.9645 - mae: 13.4887 - val_loss: 792.9755 - val_mae: 12.9617\n",
      "Epoch 289/400\n",
      "9/9 [==============================] - 0s 7ms/step - loss: 747.2264 - mae: 12.5718 - val_loss: 511.5208 - val_mae: 11.6739\n",
      "Epoch 290/400\n",
      "9/9 [==============================] - 0s 6ms/step - loss: 529.8046 - mae: 10.8142 - val_loss: 378.0289 - val_mae: 10.8519\n",
      "Epoch 291/400\n",
      "9/9 [==============================] - 0s 7ms/step - loss: 1188.6925 - mae: 14.5004 - val_loss: 899.2498 - val_mae: 14.5662\n",
      "Epoch 292/400\n",
      "9/9 [==============================] - 0s 8ms/step - loss: 686.5596 - mae: 13.3097 - val_loss: 532.3918 - val_mae: 11.8998\n",
      "Epoch 293/400\n",
      "9/9 [==============================] - 0s 7ms/step - loss: 587.2106 - mae: 11.9000 - val_loss: 389.3634 - val_mae: 11.2305\n",
      "Epoch 294/400\n",
      "9/9 [==============================] - 0s 8ms/step - loss: 615.0306 - mae: 12.1614 - val_loss: 540.7249 - val_mae: 12.0704\n",
      "Epoch 295/400\n",
      "9/9 [==============================] - 0s 7ms/step - loss: 471.0612 - mae: 10.8544 - val_loss: 353.3374 - val_mae: 9.8513\n",
      "Epoch 296/400\n",
      "9/9 [==============================] - 0s 6ms/step - loss: 565.8688 - mae: 10.5210 - val_loss: 559.8988 - val_mae: 11.2913\n",
      "Epoch 297/400\n",
      "9/9 [==============================] - 0s 7ms/step - loss: 536.5123 - mae: 10.8695 - val_loss: 462.9323 - val_mae: 11.0233\n",
      "Epoch 298/400\n",
      "9/9 [==============================] - 0s 7ms/step - loss: 478.3417 - mae: 10.2016 - val_loss: 348.0942 - val_mae: 9.8657\n",
      "Epoch 299/400\n",
      "9/9 [==============================] - 0s 8ms/step - loss: 520.0010 - mae: 10.6289 - val_loss: 444.0624 - val_mae: 10.7775\n",
      "Epoch 300/400\n",
      "9/9 [==============================] - 0s 5ms/step - loss: 494.3000 - mae: 10.4330 - val_loss: 351.9696 - val_mae: 9.6664\n",
      "Epoch 301/400\n",
      "9/9 [==============================] - 0s 6ms/step - loss: 522.2667 - mae: 10.6779 - val_loss: 685.6332 - val_mae: 12.0651\n",
      "Epoch 302/400\n",
      "9/9 [==============================] - 0s 5ms/step - loss: 697.8885 - mae: 11.9719 - val_loss: 373.3831 - val_mae: 10.1847\n",
      "Epoch 303/400\n",
      "9/9 [==============================] - 0s 6ms/step - loss: 493.7514 - mae: 10.4085 - val_loss: 371.6650 - val_mae: 10.2710\n",
      "Epoch 304/400\n",
      "9/9 [==============================] - 0s 6ms/step - loss: 478.6035 - mae: 10.1046 - val_loss: 454.1596 - val_mae: 10.7682\n",
      "Epoch 305/400\n",
      "9/9 [==============================] - 0s 6ms/step - loss: 473.1623 - mae: 10.1390 - val_loss: 387.4568 - val_mae: 10.0802\n",
      "Epoch 306/400\n",
      "9/9 [==============================] - 0s 7ms/step - loss: 473.5770 - mae: 9.7532 - val_loss: 324.9011 - val_mae: 9.5872\n",
      "Epoch 307/400\n",
      "9/9 [==============================] - 0s 6ms/step - loss: 527.7921 - mae: 10.5689 - val_loss: 578.5892 - val_mae: 11.3104\n",
      "Epoch 308/400\n",
      "9/9 [==============================] - 0s 8ms/step - loss: 435.2921 - mae: 9.9927 - val_loss: 327.6762 - val_mae: 8.8955\n",
      "Epoch 309/400\n",
      "9/9 [==============================] - 0s 6ms/step - loss: 533.2733 - mae: 10.6418 - val_loss: 490.7763 - val_mae: 10.7750\n",
      "Epoch 310/400\n",
      "9/9 [==============================] - 0s 7ms/step - loss: 479.4659 - mae: 10.2553 - val_loss: 361.7381 - val_mae: 9.5715\n",
      "Epoch 311/400\n",
      "9/9 [==============================] - 0s 5ms/step - loss: 465.1375 - mae: 9.6642 - val_loss: 304.9810 - val_mae: 9.1691\n",
      "Epoch 312/400\n",
      "9/9 [==============================] - 0s 8ms/step - loss: 491.2644 - mae: 10.1017 - val_loss: 498.5304 - val_mae: 10.8026\n",
      "Epoch 313/400\n",
      "9/9 [==============================] - 0s 6ms/step - loss: 527.6095 - mae: 9.9694 - val_loss: 493.1853 - val_mae: 10.4891\n",
      "Epoch 314/400\n",
      "9/9 [==============================] - 0s 13ms/step - loss: 538.5909 - mae: 10.1051 - val_loss: 442.6091 - val_mae: 10.3026\n",
      "Epoch 315/400\n",
      "9/9 [==============================] - 0s 7ms/step - loss: 865.1968 - mae: 11.6125 - val_loss: 300.2732 - val_mae: 8.8815\n",
      "Epoch 316/400\n",
      "9/9 [==============================] - 0s 7ms/step - loss: 692.8939 - mae: 11.0667 - val_loss: 353.5866 - val_mae: 10.3312\n",
      "Epoch 317/400\n",
      "9/9 [==============================] - 0s 8ms/step - loss: 842.9537 - mae: 12.7963 - val_loss: 340.5187 - val_mae: 9.3111\n",
      "Epoch 318/400\n",
      "9/9 [==============================] - 0s 7ms/step - loss: 507.2514 - mae: 10.6697 - val_loss: 440.3869 - val_mae: 10.5939\n",
      "Epoch 319/400\n",
      "9/9 [==============================] - 0s 8ms/step - loss: 430.8912 - mae: 9.8910 - val_loss: 328.4229 - val_mae: 9.0762\n",
      "Epoch 320/400\n",
      "9/9 [==============================] - 0s 7ms/step - loss: 526.4966 - mae: 10.4495 - val_loss: 718.9268 - val_mae: 11.5848\n",
      "Epoch 321/400\n",
      "9/9 [==============================] - 0s 16ms/step - loss: 510.1394 - mae: 10.4486 - val_loss: 334.4356 - val_mae: 9.4104\n",
      "Epoch 322/400\n",
      "9/9 [==============================] - 0s 6ms/step - loss: 465.2371 - mae: 10.0004 - val_loss: 358.1730 - val_mae: 9.5942\n",
      "Epoch 323/400\n",
      "9/9 [==============================] - 0s 10ms/step - loss: 434.7494 - mae: 9.4860 - val_loss: 311.1018 - val_mae: 8.7726\n",
      "Epoch 324/400\n",
      "9/9 [==============================] - 0s 9ms/step - loss: 541.1264 - mae: 9.6795 - val_loss: 278.5491 - val_mae: 8.6479\n",
      "Epoch 325/400\n",
      "9/9 [==============================] - 0s 11ms/step - loss: 522.4401 - mae: 9.4876 - val_loss: 293.9998 - val_mae: 8.5907\n",
      "Epoch 326/400\n",
      "9/9 [==============================] - 0s 7ms/step - loss: 552.3143 - mae: 10.1001 - val_loss: 276.6571 - val_mae: 8.8356\n",
      "Epoch 327/400\n",
      "9/9 [==============================] - 0s 8ms/step - loss: 631.1662 - mae: 10.4306 - val_loss: 352.7511 - val_mae: 9.4815\n",
      "Epoch 328/400\n",
      "9/9 [==============================] - 0s 7ms/step - loss: 503.9205 - mae: 10.6087 - val_loss: 576.4594 - val_mae: 11.5734\n",
      "Epoch 329/400\n",
      "9/9 [==============================] - 0s 11ms/step - loss: 566.0644 - mae: 11.1651 - val_loss: 459.7791 - val_mae: 10.3683\n",
      "Epoch 330/400\n",
      "9/9 [==============================] - 0s 8ms/step - loss: 2030.9954 - mae: 16.8825 - val_loss: 645.2005 - val_mae: 10.9375\n",
      "Epoch 331/400\n",
      "9/9 [==============================] - 0s 6ms/step - loss: 3034.5706 - mae: 19.9626 - val_loss: 1442.5505 - val_mae: 19.6110\n",
      "Epoch 332/400\n",
      "9/9 [==============================] - 0s 9ms/step - loss: 3342.4617 - mae: 23.2865 - val_loss: 496.7930 - val_mae: 14.9385\n",
      "Epoch 333/400\n",
      "9/9 [==============================] - 0s 8ms/step - loss: 1732.9863 - mae: 21.3532 - val_loss: 2155.6501 - val_mae: 23.8704\n",
      "Epoch 334/400\n",
      "9/9 [==============================] - 0s 8ms/step - loss: 1637.3879 - mae: 19.9773 - val_loss: 393.7576 - val_mae: 10.5368\n",
      "Epoch 335/400\n",
      "9/9 [==============================] - 0s 8ms/step - loss: 1462.5042 - mae: 19.5719 - val_loss: 490.6916 - val_mae: 15.7194\n",
      "Epoch 336/400\n",
      "9/9 [==============================] - 0s 5ms/step - loss: 1663.9696 - mae: 16.9830 - val_loss: 593.2898 - val_mae: 11.2329\n",
      "Epoch 337/400\n",
      "9/9 [==============================] - 0s 9ms/step - loss: 499.0371 - mae: 10.3371 - val_loss: 680.0049 - val_mae: 11.5285\n",
      "Epoch 338/400\n",
      "9/9 [==============================] - 0s 7ms/step - loss: 556.3118 - mae: 10.1827 - val_loss: 285.4049 - val_mae: 8.5420\n",
      "Epoch 339/400\n",
      "9/9 [==============================] - 0s 8ms/step - loss: 372.8468 - mae: 9.4287 - val_loss: 445.8074 - val_mae: 10.4039\n",
      "Epoch 340/400\n",
      "9/9 [==============================] - 0s 6ms/step - loss: 441.5151 - mae: 9.9042 - val_loss: 470.5020 - val_mae: 10.6472\n",
      "Epoch 341/400\n",
      "9/9 [==============================] - 0s 8ms/step - loss: 475.1214 - mae: 10.0243 - val_loss: 309.2917 - val_mae: 9.2506\n",
      "Epoch 342/400\n",
      "9/9 [==============================] - 0s 8ms/step - loss: 403.0171 - mae: 9.4522 - val_loss: 339.5285 - val_mae: 8.8858\n",
      "Epoch 343/400\n",
      "9/9 [==============================] - 0s 7ms/step - loss: 389.9307 - mae: 8.9374 - val_loss: 390.4589 - val_mae: 9.4419\n",
      "Epoch 344/400\n",
      "9/9 [==============================] - 0s 8ms/step - loss: 499.0713 - mae: 9.1934 - val_loss: 257.6095 - val_mae: 8.0031\n",
      "Epoch 345/400\n",
      "9/9 [==============================] - 0s 6ms/step - loss: 357.4527 - mae: 8.5315 - val_loss: 647.9375 - val_mae: 10.7719\n",
      "Epoch 346/400\n",
      "9/9 [==============================] - 0s 8ms/step - loss: 615.4307 - mae: 10.9549 - val_loss: 407.5531 - val_mae: 12.0222\n",
      "Epoch 347/400\n",
      "9/9 [==============================] - 0s 7ms/step - loss: 463.2776 - mae: 10.6387 - val_loss: 307.7430 - val_mae: 10.1849\n",
      "Epoch 348/400\n",
      "9/9 [==============================] - 0s 8ms/step - loss: 807.3509 - mae: 13.2069 - val_loss: 877.8182 - val_mae: 12.0514\n",
      "Epoch 349/400\n",
      "9/9 [==============================] - 0s 7ms/step - loss: 909.5237 - mae: 13.3541 - val_loss: 1261.0983 - val_mae: 16.3797\n",
      "Epoch 350/400\n",
      "9/9 [==============================] - 0s 7ms/step - loss: 1367.9265 - mae: 16.0167 - val_loss: 536.5012 - val_mae: 9.9681\n",
      "Epoch 351/400\n",
      "9/9 [==============================] - 0s 8ms/step - loss: 1314.5968 - mae: 15.5174 - val_loss: 460.8713 - val_mae: 13.2576\n",
      "Epoch 352/400\n",
      "9/9 [==============================] - 0s 7ms/step - loss: 1743.9882 - mae: 17.2496 - val_loss: 375.4128 - val_mae: 10.4541\n",
      "Epoch 353/400\n",
      "9/9 [==============================] - 0s 8ms/step - loss: 929.3492 - mae: 11.8515 - val_loss: 1361.1637 - val_mae: 14.9371\n",
      "Epoch 354/400\n",
      "9/9 [==============================] - 0s 7ms/step - loss: 1564.4335 - mae: 12.9799 - val_loss: 651.4982 - val_mae: 11.0025\n",
      "Epoch 355/400\n",
      "9/9 [==============================] - 0s 15ms/step - loss: 1403.5504 - mae: 13.9489 - val_loss: 376.7109 - val_mae: 9.0607\n",
      "Epoch 356/400\n",
      "9/9 [==============================] - 0s 8ms/step - loss: 1798.0726 - mae: 15.4052 - val_loss: 759.6970 - val_mae: 16.0168\n",
      "Epoch 357/400\n",
      "9/9 [==============================] - 0s 7ms/step - loss: 1818.7645 - mae: 19.5198 - val_loss: 1110.5559 - val_mae: 12.8863\n",
      "Epoch 358/400\n",
      "9/9 [==============================] - 0s 8ms/step - loss: 1734.1505 - mae: 16.0788 - val_loss: 625.0741 - val_mae: 16.7284\n",
      "Epoch 359/400\n",
      "9/9 [==============================] - 0s 8ms/step - loss: 781.3634 - mae: 15.9198 - val_loss: 494.8916 - val_mae: 15.7739\n",
      "Epoch 360/400\n",
      "9/9 [==============================] - 0s 9ms/step - loss: 2055.6252 - mae: 18.5545 - val_loss: 337.3569 - val_mae: 8.9014\n",
      "Epoch 361/400\n",
      "9/9 [==============================] - 0s 6ms/step - loss: 1104.8772 - mae: 15.2410 - val_loss: 895.7801 - val_mae: 16.5590\n",
      "Epoch 362/400\n",
      "9/9 [==============================] - 0s 7ms/step - loss: 640.7812 - mae: 12.2582 - val_loss: 305.7433 - val_mae: 9.6670\n",
      "Epoch 363/400\n",
      "9/9 [==============================] - 0s 6ms/step - loss: 623.2371 - mae: 10.5134 - val_loss: 338.2532 - val_mae: 9.0997\n",
      "Epoch 364/400\n",
      "9/9 [==============================] - 0s 6ms/step - loss: 1209.9014 - mae: 13.7698 - val_loss: 445.4539 - val_mae: 9.5461\n",
      "Epoch 365/400\n",
      "9/9 [==============================] - 0s 7ms/step - loss: 505.2195 - mae: 11.0760 - val_loss: 570.2588 - val_mae: 13.1692\n",
      "Epoch 366/400\n",
      "9/9 [==============================] - 0s 5ms/step - loss: 761.2476 - mae: 12.1860 - val_loss: 292.1962 - val_mae: 8.7952\n",
      "Epoch 367/400\n",
      "9/9 [==============================] - 0s 9ms/step - loss: 740.0654 - mae: 11.6316 - val_loss: 371.6634 - val_mae: 9.8927\n",
      "Epoch 368/400\n",
      "9/9 [==============================] - 0s 6ms/step - loss: 1108.9249 - mae: 15.1663 - val_loss: 1286.7677 - val_mae: 14.4750\n",
      "Epoch 369/400\n",
      "9/9 [==============================] - 0s 7ms/step - loss: 1278.2334 - mae: 14.9493 - val_loss: 1130.9222 - val_mae: 14.2791\n",
      "Epoch 370/400\n",
      "9/9 [==============================] - 0s 5ms/step - loss: 1817.8517 - mae: 16.4069 - val_loss: 763.1340 - val_mae: 11.5611\n",
      "Epoch 371/400\n",
      "9/9 [==============================] - 0s 6ms/step - loss: 1850.4343 - mae: 17.6583 - val_loss: 335.8510 - val_mae: 13.4770\n",
      "Epoch 372/400\n",
      "9/9 [==============================] - 0s 6ms/step - loss: 1170.3992 - mae: 15.6505 - val_loss: 1176.4706 - val_mae: 15.3794\n",
      "Epoch 373/400\n",
      "9/9 [==============================] - 0s 8ms/step - loss: 795.5675 - mae: 12.7343 - val_loss: 311.1588 - val_mae: 8.0870\n",
      "Epoch 374/400\n",
      "9/9 [==============================] - 0s 6ms/step - loss: 449.5176 - mae: 9.5278 - val_loss: 220.5336 - val_mae: 7.9267\n",
      "Epoch 375/400\n",
      "9/9 [==============================] - 0s 5ms/step - loss: 716.1729 - mae: 10.2638 - val_loss: 279.2447 - val_mae: 8.1058\n",
      "Epoch 376/400\n",
      "9/9 [==============================] - 0s 7ms/step - loss: 628.6397 - mae: 9.5028 - val_loss: 358.3482 - val_mae: 8.6619\n",
      "Epoch 377/400\n",
      "9/9 [==============================] - 0s 6ms/step - loss: 685.5200 - mae: 10.7098 - val_loss: 799.4873 - val_mae: 12.4987\n",
      "Epoch 378/400\n",
      "9/9 [==============================] - 0s 7ms/step - loss: 656.5829 - mae: 11.1064 - val_loss: 419.3867 - val_mae: 8.9324\n",
      "Epoch 379/400\n",
      "9/9 [==============================] - 0s 8ms/step - loss: 470.5568 - mae: 9.0514 - val_loss: 220.4570 - val_mae: 7.3149\n",
      "Epoch 380/400\n",
      "9/9 [==============================] - 0s 9ms/step - loss: 270.9655 - mae: 7.7016 - val_loss: 604.8297 - val_mae: 9.8068\n",
      "Epoch 381/400\n",
      "9/9 [==============================] - 0s 6ms/step - loss: 395.1314 - mae: 8.5079 - val_loss: 275.1859 - val_mae: 7.6846\n",
      "Epoch 382/400\n",
      "9/9 [==============================] - 0s 7ms/step - loss: 429.0150 - mae: 8.6500 - val_loss: 243.4168 - val_mae: 7.4190\n",
      "Epoch 383/400\n",
      "9/9 [==============================] - 0s 8ms/step - loss: 504.5105 - mae: 8.6720 - val_loss: 230.3996 - val_mae: 7.6808\n",
      "Epoch 384/400\n",
      "9/9 [==============================] - 0s 7ms/step - loss: 420.3962 - mae: 8.6953 - val_loss: 284.5891 - val_mae: 7.9594\n",
      "Epoch 385/400\n",
      "9/9 [==============================] - 0s 6ms/step - loss: 539.4645 - mae: 10.0818 - val_loss: 426.1333 - val_mae: 9.1548\n",
      "Epoch 386/400\n",
      "9/9 [==============================] - 0s 6ms/step - loss: 759.9055 - mae: 10.6810 - val_loss: 1191.0056 - val_mae: 12.4061\n",
      "Epoch 387/400\n",
      "9/9 [==============================] - 0s 7ms/step - loss: 819.6668 - mae: 10.8660 - val_loss: 507.0583 - val_mae: 10.5022\n",
      "Epoch 388/400\n",
      "9/9 [==============================] - 0s 7ms/step - loss: 428.8735 - mae: 9.2351 - val_loss: 253.0149 - val_mae: 7.7595\n",
      "Epoch 389/400\n",
      "9/9 [==============================] - 0s 7ms/step - loss: 367.3430 - mae: 8.5954 - val_loss: 285.6918 - val_mae: 7.7952\n",
      "Epoch 390/400\n",
      "9/9 [==============================] - 0s 7ms/step - loss: 450.1878 - mae: 8.5404 - val_loss: 329.1891 - val_mae: 8.0859\n",
      "Epoch 391/400\n",
      "9/9 [==============================] - 0s 9ms/step - loss: 343.1967 - mae: 8.3257 - val_loss: 437.4356 - val_mae: 9.0278\n",
      "Epoch 392/400\n",
      "9/9 [==============================] - 0s 6ms/step - loss: 424.3836 - mae: 8.4140 - val_loss: 256.4413 - val_mae: 7.4889\n",
      "Epoch 393/400\n",
      "9/9 [==============================] - 0s 6ms/step - loss: 318.2612 - mae: 7.5361 - val_loss: 288.0679 - val_mae: 7.8464\n",
      "Epoch 394/400\n",
      "9/9 [==============================] - 0s 6ms/step - loss: 356.9854 - mae: 8.3245 - val_loss: 647.7797 - val_mae: 10.4895\n",
      "Epoch 395/400\n",
      "9/9 [==============================] - 0s 11ms/step - loss: 501.5681 - mae: 8.8896 - val_loss: 257.1739 - val_mae: 7.3770\n",
      "Epoch 396/400\n",
      "9/9 [==============================] - 0s 7ms/step - loss: 308.5487 - mae: 8.2907 - val_loss: 413.2108 - val_mae: 8.5372\n",
      "Epoch 397/400\n",
      "9/9 [==============================] - 0s 6ms/step - loss: 335.0548 - mae: 8.2959 - val_loss: 250.8676 - val_mae: 7.4941\n",
      "Epoch 398/400\n",
      "9/9 [==============================] - 0s 7ms/step - loss: 432.3839 - mae: 8.9484 - val_loss: 415.6830 - val_mae: 10.4677\n",
      "Epoch 399/400\n",
      "9/9 [==============================] - 0s 7ms/step - loss: 647.0936 - mae: 11.2533 - val_loss: 698.7457 - val_mae: 10.2028\n",
      "Epoch 400/400\n",
      "9/9 [==============================] - 0s 8ms/step - loss: 517.8127 - mae: 11.3493 - val_loss: 387.0809 - val_mae: 11.8984\n"
     ]
    }
   ],
   "source": [
    "history = ann.fit(X_train, y_train,\n",
    "                    validation_data = (X_test, y_test),\n",
    "                    callbacks=[es],\n",
    "                    epochs=400,\n",
    "                    batch_size=50,\n",
    "                    verbose=1)"
   ]
  },
  {
   "cell_type": "markdown",
   "metadata": {
    "colab_type": "text",
    "id": "0H0zKKNEBLD5"
   },
   "source": [
    "### Predicting the results of the Test set"
   ]
  },
  {
   "cell_type": "code",
   "execution_count": 17,
   "metadata": {},
   "outputs": [
    {
     "data": {
      "image/png": "[encoded data removed]",
      "text/plain": [
       "<Figure size 432x288 with 1 Axes>"
      ]
     },
     "metadata": {
      "needs_background": "light"
     },
     "output_type": "display_data"
    }
   ],
   "source": [
    "import matplotlib.pyplot as plt\n",
    "# let's see the training and validation accuracy by epoch\n",
    "history_dict = history.history\n",
    "loss_values = history_dict['loss'] # you can change this\n",
    "val_loss_values = history_dict['val_loss'] # you can also change this\n",
    "epochs = range(1, len(loss_values) + 1) # range of X (no. of epochs)\n",
    "plt.plot(epochs, loss_values, 'blue', label='Training loss')\n",
    "plt.plot(epochs, val_loss_values, 'orange', label='Testing loss')\n",
    "plt.title('Training and testing loss')\n",
    "plt.xlabel('Epochs')\n",
    "plt.ylabel('Loss (MSE)')\n",
    "plt.legend()\n",
    "plt.show()"
   ]
  },
  {
   "cell_type": "code",
   "execution_count": 18,
   "metadata": {},
   "outputs": [
    {
     "data": {
      "image/png": "[encoded data removed]",
      "text/plain": [
       "<Figure size 432x288 with 1 Axes>"
      ]
     },
     "metadata": {
      "needs_background": "light"
     },
     "output_type": "display_data"
    }
   ],
   "source": [
    "loss_values1 = history_dict['mae'] # you can change this\n",
    "val_loss_values1 = history_dict['val_mae'] # you can also change this\n",
    "epochs = range(1, len(loss_values1) + 1) # range of X (no. of epochs)\n",
    "plt.plot(epochs, loss_values1, 'blue', label='Training MAE')\n",
    "plt.plot(epochs, val_loss_values1, 'orange', label='Testing MAE')\n",
    "plt.title('Training and testing MAE')\n",
    "plt.xlabel('Epochs')\n",
    "plt.ylabel('MAE')\n",
    "plt.legend()\n",
    "plt.show()"
   ]
  },
  {
   "cell_type": "code",
   "execution_count": 19,
   "metadata": {},
   "outputs": [
    {
     "name": "stdout",
     "output_type": "stream",
     "text": [
      "range(1, 401)\n"
     ]
    }
   ],
   "source": [
    "print (epochs)"
   ]
  },
  {
   "cell_type": "code",
   "execution_count": 20,
   "metadata": {},
   "outputs": [
    {
     "name": "stdout",
     "output_type": "stream",
     "text": [
      "14/14 [==============================] - 0s 2ms/step\n",
      "4/4 [==============================] - 0s 2ms/step\n"
     ]
    },
    {
     "data": {
      "image/png": "[encoded data removed]",
      "text/plain": [
       "<Figure size 432x288 with 2 Axes>"
      ]
     },
     "metadata": {
      "needs_background": "light"
     },
     "output_type": "display_data"
    }
   ],
   "source": [
    "# scatterplot of actual vs. pred\n",
    "# specify the dimensions \n",
    "fig, axes = plt.subplots(1,2) # 1 row, 2 columns\n",
    "\n",
    "# this makes the individual subplots\n",
    "# Training Results\n",
    "axes[0].scatter(x=y_train, y=ann.predict(X_train)) #first row, first entry (left top)\n",
    "axes[0].set_xlabel(\"Actual\", fontsize=10)\n",
    "axes[0].set_ylabel(\"Predicted\",  fontsize=10)\n",
    "axes[0].set_title(\"Training\")\n",
    "# add 45 deg line\n",
    "x = np.linspace(*axes[0].get_xlim())\n",
    "axes[0].plot(x, x, color='red')\n",
    "# Validation Results\n",
    "axes[1].scatter(x=y_test, y=ann.predict(X_test)) # first row, second entry (right top)\n",
    "axes[1].set_xlabel(\"Actual\", fontsize=10)\n",
    "axes[1].set_ylabel(\"Predicted\",  fontsize=10)\n",
    "axes[1].set_title(\"Validation\")\n",
    "# add 45 deg line\n",
    "x = np.linspace(*axes[1].get_xlim())\n",
    "axes[1].plot(x, x, color='red')\n",
    "\n",
    "# tight layout\n",
    "fig.tight_layout()\n",
    "\n",
    "# show the plot\n",
    "plt.show()"
   ]
  },
  {
   "cell_type": "code",
   "execution_count": 21,
   "metadata": {
    "colab": {
     "base_uri": "https://localhost:8080/",
     "height": 134
    },
    "colab_type": "code",
    "id": "IA0yApEmBG1X",
    "outputId": "cb981e1f-9204-4a2a-fece-9d66a6919189"
   },
   "outputs": [
    {
     "name": "stdout",
     "output_type": "stream",
     "text": [
      "4/4 [==============================] - 0s 2ms/step\n",
      "[[ 121.53  126.21]\n",
      " [ 124.09  136.68]\n",
      " [ 721.05  697.97]\n",
      " [ 112.1   120.33]\n",
      " [ 884.94  908.62]\n",
      " [  98.05  105.17]\n",
      " [ 277.4   292.65]\n",
      " [ 104.85  114.76]\n",
      " [ 113.25  122.15]\n",
      " [ 142.67  149.03]\n",
      " [ 149.16  151.21]\n",
      " [ 387.62  384.85]\n",
      " [ 117.57  122.44]\n",
      " [ 105.39  108.02]\n",
      " [ 104.95  104.34]\n",
      " [ 176.94  187.24]\n",
      " [ 177.97  180.92]\n",
      " [ 148.79  155.65]\n",
      " [ 217.59  218.53]\n",
      " [ 101.34  110.55]\n",
      " [1628.03 1649.83]\n",
      " [ 110.59  119.95]\n",
      " [ 112.9   120.34]\n",
      " [ 103.59  107.75]\n",
      " [ 634.54  647.73]\n",
      " [ 103.22  111.93]\n",
      " [ 237.07  242.76]\n",
      " [ 107.81  117.74]\n",
      " [ 125.69  133.28]\n",
      " [ 130.44  135.82]\n",
      " [ 218.64  227.9 ]\n",
      " [ 134.24  148.37]\n",
      " [ 119.84  126.47]\n",
      " [ 111.19  116.61]\n",
      " [ 104.46  111.98]\n",
      " [ 114.99  120.63]\n",
      " [ 118.9   125.91]\n",
      " [ 117.75  123.56]\n",
      " [  98.    103.93]\n",
      " [ 299.15  305.53]\n",
      " [ 106.32  118.49]\n",
      " [ 103.44  104.99]\n",
      " [  98.34  103.39]\n",
      " [ 101.08  106.75]\n",
      " [ 136.75  149.23]\n",
      " [ 122.05  130.47]\n",
      " [ 137.83  143.94]\n",
      " [ 116.3   124.59]\n",
      " [ 212.87  216.19]\n",
      " [ 103.76  111.05]\n",
      " [ 126.16  140.6 ]\n",
      " [ 113.51  122.31]\n",
      " [5823.11 5936.4 ]\n",
      " [ 112.93  118.79]\n",
      " [ 207.99  212.75]\n",
      " [ 104.49  109.67]\n",
      " [ 114.4   128.08]\n",
      " [ 659.91  667.82]\n",
      " [ 156.47  163.77]\n",
      " [ 118.9   129.31]\n",
      " [ 115.78  122.51]\n",
      " [ 460.53  446.48]\n",
      " [ 109.03  118.21]\n",
      " [ 106.75  116.22]\n",
      " [ 106.29  118.36]\n",
      " [ 112.65  120.81]\n",
      " [ 140.04  141.88]\n",
      " [ 127.43  136.45]\n",
      " [ 173.11  167.83]\n",
      " [ 111.63  120.24]\n",
      " [ 110.54  121.37]\n",
      " [ 112.5   116.81]\n",
      " [ 131.51  134.85]\n",
      " [ 102.89  112.77]\n",
      " [ 100.91  109.31]\n",
      " [ 117.83  130.07]\n",
      " [ 331.    309.78]\n",
      " [ 110.43  122.85]\n",
      " [ 112.25  122.99]\n",
      " [ 108.25  120.5 ]\n",
      " [ 107.98  120.46]\n",
      " [ 103.27  110.03]\n",
      " [ 149.77  167.17]\n",
      " [3075.11 3132.78]\n",
      " [ 151.79  158.42]\n",
      " [ 113.16  125.44]\n",
      " [ 130.78  139.79]\n",
      " [ 104.72  114.6 ]\n",
      " [ 105.26  116.83]\n",
      " [ 170.12  173.84]\n",
      " [ 192.29  192.32]\n",
      " [ 152.08  155.53]\n",
      " [ 105.35  109.75]\n",
      " [ 111.8   123.06]\n",
      " [ 199.04  203.03]\n",
      " [ 964.18 1007.45]\n",
      " [ 208.43  174.48]\n",
      " [ 201.78  206.02]\n",
      " [ 246.75  163.9 ]\n",
      " [1050.1  1104.04]\n",
      " [  99.5   105.13]\n",
      " [ 106.23  113.1 ]\n",
      " [ 234.42  241.43]\n",
      " [ 160.67  171.51]\n",
      " [ 141.77  151.57]\n",
      " [ 110.69  119.36]\n",
      " [ 116.78  119.86]\n",
      " [1851.04 1784.86]\n",
      " [1365.24 1372.28]\n",
      " [ 124.33  137.28]]\n"
     ]
    }
   ],
   "source": [
    "#X_test=np.asarray(X_test).astype(np.int)\n",
    "\n",
    "#y_test=np.asarray(y_test).astype(np.int)\n",
    "\n",
    "y_pred = ann.predict(X_test)\n",
    "np.set_printoptions(precision=2)\n",
    "print(np.concatenate((y_pred.reshape(len(y_pred),1), y_test.reshape(len(y_test),1)),1))"
   ]
  },
  {
   "cell_type": "code",
   "execution_count": 22,
   "metadata": {},
   "outputs": [
    {
     "data": {
      "text/plain": [
       "Text(0, 0.5, 'Predicted data')"
      ]
     },
     "execution_count": 22,
     "metadata": {},
     "output_type": "execute_result"
    },
    {
     "data": {
      "image/png": "[encoded data removed]",
      "text/plain": [
       "<Figure size 432x288 with 1 Axes>"
      ]
     },
     "metadata": {
      "needs_background": "light"
     },
     "output_type": "display_data"
    }
   ],
   "source": [
    "import matplotlib.pyplot as plt\n",
    "plt.scatter(y_test, y_pred, color=\"blue\")\n",
    "plt.plot ([0,4000],[0,4000], color = \"red\")\n",
    "plt.axis ([0,4000,0,4000])\n",
    "plt.xlabel ('Actual data')\n",
    "plt.ylabel ('Predicted data')"
   ]
  },
  {
   "cell_type": "code",
   "execution_count": 23,
   "metadata": {},
   "outputs": [
    {
     "data": {
      "image/png": "[encoded data removed]",
      "text/plain": [
       "<Figure size 648x648 with 1 Axes>"
      ]
     },
     "metadata": {
      "needs_background": "light"
     },
     "output_type": "display_data"
    }
   ],
   "source": [
    "from sklearn.metrics import r2_score\n",
    "# Initialize layout\n",
    "fig1, ax1 = plt.subplots(figsize = (9, 9))\n",
    "\n",
    "\n",
    "#y = y_pred         # Model on prvious line is called here\n",
    "#x = y_test\n",
    "\n",
    "\n",
    "\n",
    "# Add scatterplot\n",
    "ax1.scatter(y_test, y_pred, s=70, alpha=1, edgecolors=\"k\",c='mediumblue',zorder=5, label = 'Points')\n",
    "\n",
    "\n",
    "plt.ylabel('Predicted Peak Incident Pressure (kPa)',fontsize = 25)\n",
    "plt.xlabel('Actual Peak Incident Pressure (kPa)',fontsize = 25)\n",
    "plt.xticks(fontsize = 19)\n",
    "plt.yticks(fontsize = 19)\n",
    "\n",
    "\n",
    "x1 = np.linspace(0,4000)\n",
    "\n",
    "plt.plot(x1, x1, 'Red', label='45\\N{DEGREE SIGN} line',lw=2.5,alpha=1)\n",
    "plt.plot(x1, 1.1*x1, '--m', label='\\u00B110% Error',lw=2.5,alpha=0.7)\n",
    "plt.plot(x1, 0.9*x1,'m', linestyle='--',lw=2.5,alpha=0.7)\n",
    "plt.plot(x1, 1.2*x1, '-.g', label='\\u00B120% Error',lw=2.5,alpha=0.7)\n",
    "plt.plot(x1, 0.8*x1,'-.g',lw=2.5,alpha=0.7)\n",
    "\n",
    "plt.ylim(0, 4000)\n",
    "plt.xlim(0, 4000)\n",
    "plt.legend(loc='upper left',fontsize = 25)\n",
    "\n",
    "plt.grid()\n",
    "\n",
    "ax1.spines['left'].set_color('black')        # setting up Y-axis tick color to red\n",
    "ax1.spines['bottom'].set_color('black')         #setting up above X-axis tick color to red\n",
    "\n",
    "\n",
    "\n",
    "#ax1.annotate(\"$R^2$ = {:.3f}\".format(r2), (2500, 1000),fontsize = 25)  #Model is called here\n",
    "#ax1.annotate(\"Adj.$R^2$ = {:.3f}\".format(adj_r2), (2500, 750),fontsize = 25)\n",
    "\n",
    "#plt.savefig('plot1.png', dpi = 600, bbox_inches = 'tight')"
   ]
  },
  {
   "cell_type": "code",
   "execution_count": 24,
   "metadata": {},
   "outputs": [
    {
     "data": {
      "image/png": "[encoded data removed]",
      "text/plain": [
       "<Figure size 648x648 with 1 Axes>"
      ]
     },
     "metadata": {
      "needs_background": "light"
     },
     "output_type": "display_data"
    }
   ],
   "source": [
    "# Initialize layout\n",
    "fig2, bx = plt.subplots(figsize = (9, 9))\n",
    "\n",
    "\n",
    "\n",
    "# Add scatterplot\n",
    "bx.scatter(y_test, y_pred, s=70, alpha=1, edgecolors=\"k\",c='mediumblue',zorder=5, label = 'Points')\n",
    "\n",
    "\n",
    "\n",
    "\n",
    "plt.ylabel('Predicted Peak Incident Pressure (kPa)',fontsize = 25)\n",
    "plt.xlabel('Actual Peak Incident Pressure (kPa)',fontsize = 25)\n",
    "plt.xticks(fontsize = 19)\n",
    "plt.yticks(fontsize = 19)\n",
    "\n",
    "\n",
    "\n",
    "x1 = np.linspace(0,500)\n",
    "\n",
    "plt.plot(x1, x1, 'Red', label='45\\N{DEGREE SIGN} line',lw=2.5,alpha=1)\n",
    "plt.plot(x1, 1.1*x1, '--m', label='\\u00B110% Error',lw=2.5,alpha=0.7) #\\u00B1\n",
    "plt.plot(x1, 0.9*x1,'m', linestyle='--',lw=2.5,alpha=0.7)\n",
    "plt.plot(x1, 1.2*x1, '-.g', label='\\u00B120% Error',lw=2.5,alpha=0.7)\n",
    "plt.plot(x1, 0.8*x1,'-.g',lw=2.5,alpha=0.7)\n",
    "\n",
    "plt.ylim(0, 500)\n",
    "plt.xlim(0, 500)\n",
    "plt.legend(loc='upper left',fontsize = 25)\n",
    "\n",
    "plt.grid()\n",
    "\n",
    "bx.spines['left'].set_color('black')        # setting up Y-axis tick color to red\n",
    "bx.spines['bottom'].set_color('black')         #setting up above X-axis tick color to red\n",
    "\n",
    "\n",
    "#plt.savefig('plot1.png', dpi = 600, bbox_inches = 'tight')"
   ]
  },
  {
   "cell_type": "code",
   "execution_count": 25,
   "metadata": {},
   "outputs": [
    {
     "name": "stdout",
     "output_type": "stream",
     "text": [
      "14/14 [==============================] - 0s 3ms/step\n",
      "11.281446459848949\n",
      "11.898421459960936\n"
     ]
    }
   ],
   "source": [
    "# metrics\n",
    "\n",
    "\n",
    "trainpreds = ann.predict(X_train)\n",
    "\n",
    "from sklearn.metrics import mean_absolute_error\n",
    "print(mean_absolute_error(y_train, trainpreds)) # train\n",
    "print(mean_absolute_error(y_test, y_pred)) # test"
   ]
  },
  {
   "cell_type": "code",
   "execution_count": 26,
   "metadata": {},
   "outputs": [
    {
     "name": "stdout",
     "output_type": "stream",
     "text": [
      "0.9991400946930064\n"
     ]
    }
   ],
   "source": [
    "from sklearn.metrics import r2_score\n",
    "r2 = r2_score(y_test, y_pred)\n",
    "print (r2)"
   ]
  },
  {
   "cell_type": "code",
   "execution_count": 27,
   "metadata": {},
   "outputs": [
    {
     "name": "stdout",
     "output_type": "stream",
     "text": [
      "0.9996514705226024\n"
     ]
    }
   ],
   "source": [
    "r2_train = r2_score(y_train, trainpreds)\n",
    "print (r2_train)"
   ]
  },
  {
   "cell_type": "code",
   "execution_count": 28,
   "metadata": {},
   "outputs": [
    {
     "name": "stdout",
     "output_type": "stream",
     "text": [
      "Within 10% margin 90.91%\n",
      "Within 20% margin 99.09%\n",
      "Out of 20% margin 0.91%\n"
     ]
    }
   ],
   "source": [
    "count1 = 0\n",
    "for i in range(len(y_pred)):\n",
    "    line1 = y_pred[i] - 0.9*y_test[i]\n",
    "    line2 = y_pred[i] - 1.1*y_test[i]\n",
    "    #print ('line 1 ', line1)\n",
    "    #print ('line 2 ', line2)\n",
    "    mask1 = (line1 > 0) & (line2 < 0)\n",
    "    #print (mask)\n",
    "    count1 = np.sum(mask1+count1)\n",
    "    #print (count)\n",
    "\n",
    "count2 = 0\n",
    "for j in range(len(y_pred)):\n",
    "    line3 = y_pred[j] - 0.8*y_test[j]\n",
    "    line4 = y_pred[j] - 1.2*y_test[j]\n",
    "    mask2 = (line3 > 0) & (line4 < 0)\n",
    "    count2 = np.sum(mask2+count2)\n",
    "\n",
    "\n",
    "count3 = 0    \n",
    "for k in range(len(y_pred)):\n",
    "    line5 = y_pred[k] - 0.8*y_test[k]\n",
    "    line6 = y_pred[k] - 1.2*y_test[k]\n",
    "    mask3 = (line5 < 0) or (line6 > 0)\n",
    "    count3 = np.sum(mask3+count3)\n",
    "   \n",
    "\n",
    "print ('Within 10% margin', format((count1/len (y_pred)),'.2%'))\n",
    "print ('Within 20% margin', format((count2/len (y_pred)),'.2%'))\n",
    "print ('Out of 20% margin', format((count3/len (y_pred)),'.2%'))"
   ]
  },
  {
   "cell_type": "code",
   "execution_count": 29,
   "metadata": {},
   "outputs": [
    {
     "name": "stdout",
     "output_type": "stream",
     "text": [
      "0.9991073363955971\n"
     ]
    }
   ],
   "source": [
    "adj_r2 = 1 - ((1 - r2) * (len(X_test) - 1) / (len(X_test) - len (X_test[0]) - 1))\n",
    "print (adj_r2)"
   ]
  },
  {
   "cell_type": "code",
   "execution_count": 30,
   "metadata": {},
   "outputs": [
    {
     "data": {
      "text/plain": [
       "19.674376718751553"
      ]
     },
     "execution_count": 30,
     "metadata": {},
     "output_type": "execute_result"
    }
   ],
   "source": [
    "import math\n",
    "from sklearn.metrics import mean_squared_error\n",
    "\n",
    "math.sqrt(mean_squared_error(y_test, y_pred))"
   ]
  },
  {
   "cell_type": "code",
   "execution_count": 31,
   "metadata": {},
   "outputs": [
    {
     "data": {
      "text/plain": [
       "11.898421459960936"
      ]
     },
     "execution_count": 31,
     "metadata": {},
     "output_type": "execute_result"
    }
   ],
   "source": [
    "from sklearn.metrics import mean_absolute_error\n",
    "\n",
    "mean_absolute_error(y_test, y_pred)"
   ]
  },
  {
   "cell_type": "code",
   "execution_count": 31,
   "metadata": {},
   "outputs": [
    {
     "ename": "ModuleNotFoundError",
     "evalue": "No module named 'ann_visualizer'",
     "output_type": "error",
     "traceback": [
      "\u001b[1;31m---------------------------------------------------------------------------\u001b[0m",
      "\u001b[1;31mModuleNotFoundError\u001b[0m                       Traceback (most recent call last)",
      "\u001b[1;32m~\\AppData\\Local\\Temp\\ipykernel_2412\\3367597011.py\u001b[0m in \u001b[0;36m<module>\u001b[1;34m\u001b[0m\n\u001b[1;32m----> 1\u001b[1;33m \u001b[1;32mfrom\u001b[0m \u001b[0mann_visualizer\u001b[0m\u001b[1;33m.\u001b[0m\u001b[0mvisualize\u001b[0m \u001b[1;32mimport\u001b[0m \u001b[0mann_viz\u001b[0m\u001b[1;33m;\u001b[0m\u001b[1;33m\u001b[0m\u001b[1;33m\u001b[0m\u001b[0m\n\u001b[0m\u001b[0;32m      2\u001b[0m \u001b[1;33m\u001b[0m\u001b[0m\n\u001b[0;32m      3\u001b[0m \u001b[0mann_viz\u001b[0m\u001b[1;33m(\u001b[0m\u001b[0mmodel\u001b[0m\u001b[1;33m,\u001b[0m \u001b[0mtitle\u001b[0m\u001b[1;33m=\u001b[0m\u001b[1;34m\"My first neural network\"\u001b[0m\u001b[1;33m)\u001b[0m\u001b[1;33m\u001b[0m\u001b[1;33m\u001b[0m\u001b[0m\n",
      "\u001b[1;31mModuleNotFoundError\u001b[0m: No module named 'ann_visualizer'"
     ]
    }
   ],
   "source": [
    "from ann_visualizer.visualize import ann_viz;\n",
    "\n",
    "ann_viz(model, title=\"My first neural network\")"
   ]
  }
 ],
 "metadata": {
  "colab": {
   "collapsed_sections": [],
   "name": "Artificial Neural Network",
   "provenance": [],
   "toc_visible": true
  },
  "kernelspec": {
   "display_name": "Python 3 (ipykernel)",
   "language": "python",
   "name": "python3"
  },
  "language_info": {
   "codemirror_mode": {
    "name": "ipython",
    "version": 3
   },
   "file_extension": ".py",
   "mimetype": "text/x-python",
   "name": "python",
   "nbconvert_exporter": "python",
   "pygments_lexer": "ipython3",
   "version": "3.9.7"
  }
 },
 "nbformat": 4,
 "nbformat_minor": 4
}
